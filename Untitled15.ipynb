{
 "cells": [
  {
   "cell_type": "code",
   "execution_count": 6,
   "metadata": {
    "collapsed": false
   },
   "outputs": [
    {
     "name": "stdout",
     "output_type": "stream",
     "text": [
      "Checking whether there is an H2O instance running at http://localhost:54321. connected.\n",
      "Warning: Your H2O cluster version is too old (6 months and 29 days)! Please download and install the latest version from http://h2o.ai/download/\n"
     ]
    },
    {
     "data": {
      "text/html": [
       "<div style=\"overflow:auto\"><table style=\"width:50%\"><tr><td>H2O cluster uptime:</td>\n",
       "<td>3 hours 0 mins</td></tr>\n",
       "<tr><td>H2O cluster version:</td>\n",
       "<td>3.10.4.8</td></tr>\n",
       "<tr><td>H2O cluster version age:</td>\n",
       "<td>6 months and 29 days !!!</td></tr>\n",
       "<tr><td>H2O cluster name:</td>\n",
       "<td>H2O_from_python_zzq_y3jhhu</td></tr>\n",
       "<tr><td>H2O cluster total nodes:</td>\n",
       "<td>1</td></tr>\n",
       "<tr><td>H2O cluster free memory:</td>\n",
       "<td>6.758 Gb</td></tr>\n",
       "<tr><td>H2O cluster total cores:</td>\n",
       "<td>8</td></tr>\n",
       "<tr><td>H2O cluster allowed cores:</td>\n",
       "<td>8</td></tr>\n",
       "<tr><td>H2O cluster status:</td>\n",
       "<td>locked, healthy</td></tr>\n",
       "<tr><td>H2O connection url:</td>\n",
       "<td>http://localhost:54321</td></tr>\n",
       "<tr><td>H2O connection proxy:</td>\n",
       "<td>None</td></tr>\n",
       "<tr><td>H2O internal security:</td>\n",
       "<td>False</td></tr>\n",
       "<tr><td>Python version:</td>\n",
       "<td>2.7.11 final</td></tr></table></div>"
      ],
      "text/plain": [
       "--------------------------  --------------------------\n",
       "H2O cluster uptime:         3 hours 0 mins\n",
       "H2O cluster version:        3.10.4.8\n",
       "H2O cluster version age:    6 months and 29 days !!!\n",
       "H2O cluster name:           H2O_from_python_zzq_y3jhhu\n",
       "H2O cluster total nodes:    1\n",
       "H2O cluster free memory:    6.758 Gb\n",
       "H2O cluster total cores:    8\n",
       "H2O cluster allowed cores:  8\n",
       "H2O cluster status:         locked, healthy\n",
       "H2O connection url:         http://localhost:54321\n",
       "H2O connection proxy:\n",
       "H2O internal security:      False\n",
       "Python version:             2.7.11 final\n",
       "--------------------------  --------------------------"
      ]
     },
     "metadata": {},
     "output_type": "display_data"
    },
    {
     "name": "stdout",
     "output_type": "stream",
     "text": [
      "Parse progress: |█████████████████████████████████████████████████████████| 100%\n",
      "Parse progress: |█████████████████████████████████████████████████████████| 100%\n",
      "deeplearning Model Build progress: |██████████████████████████████████████| 100%\n",
      "deeplearning prediction progress: |███████████████████████████████████████| 100%\n",
      "avg_error 0.00443245045741\n"
     ]
    }
   ],
   "source": [
    "# -*- coding:utf-8 -*-\n",
    "import h2o\n",
    "h2o.init()\n",
    "import pandas as pd\n",
    "DATA_ALL = pd.read_csv(\"C:/Users/zzq/Desktop/DataMining/Data/pythontest2/DATA_ALL.csv\")\n",
    "NSW_TRAIN=pd.read_csv(\"C:/Users/zzq/Desktop/DataMining/Data/pythontest2/NSW_TRAIN.csv\")\n",
    "NSW_TEST = pd.read_csv(\"C:/Users/zzq/Desktop/DataMining/Data/pythontest2/NSW_TEST.csv\")\n",
    "from h2o.estimators.deeplearning import H2ODeepLearningEstimator\n",
    "train=h2o.import_file(path=\"C:/Users/zzq/Desktop/DataMining/Data/pythontest2/NSW_TRAIN.csv\",header=1)[1:,:]\n",
    "test =h2o.import_file(path=\"C:/Users/zzq/Desktop/DataMining/Data/pythontest2/NSW_TEST.csv\",header=1)[1:,:]\n",
    "temp = train[8:55]\n",
    "model = H2ODeepLearningEstimator(distribution='Gaussian',\n",
    "                                activation='RectifierWithDropout',\n",
    "                               hidden=[32,32,32],\n",
    "                               input_dropout_ratio=0.2,\n",
    "                               sparse=False,\n",
    "                               l1=1e-5,\n",
    "                               epochs=10,\n",
    "                               nfolds=5)\n",
    "model.train(x=temp.names,y=\"AVG_ELE\",training_frame=train,validation_frame=test)\n",
    "#print model\n",
    "pre = model.predict(test_data=test)\n",
    "\n",
    "from __future__ import division \n",
    "test_H2ODL =test\n",
    "test_H2ODL['pre'] = pre\n",
    "#计算偏差考核：error =(实际用电量-计划用电量)/计划用电量\n",
    "test_H2ODL['error'] = (test_H2ODL[\"AVG_ELE\"] - test_H2ODL[\"pre\"]) / test_H2ODL[\"pre\"]\n",
    "#计算偏差考核平均值\n",
    "print \"avg_error\",test_H2ODL[\"error\"].sum() / test_H2ODL.shape[0]\n"
   ]
  },
  {
   "cell_type": "code",
   "execution_count": 8,
   "metadata": {
    "collapsed": false
   },
   "outputs": [
    {
     "name": "stdout",
     "output_type": "stream",
     "text": [
      "deeplearning Grid Build progress: |███████████████████████████████████████| 100%\n",
      "Grid_DeepLearning_py_11_sid_bc59_model_python_1513738562214_13_model_4 mse: 1034.12933088\n",
      "Grid_DeepLearning_py_11_sid_bc59_model_python_1513738562214_13_model_0 mse: 1420.31487102\n",
      "Grid_DeepLearning_py_11_sid_bc59_model_python_1513738562214_13_model_2 mse: 2647.64168644\n",
      "Grid_DeepLearning_py_11_sid_bc59_model_python_1513738562214_13_model_3 mse: 2102.06982621\n",
      "Grid_DeepLearning_py_11_sid_bc59_model_python_1513738562214_13_model_1 mse: 2376.04867581\n",
      "Grid_DeepLearning_py_11_sid_bc59_model_python_1513738562214_13_model_5 mse: 3617.77522429\n"
     ]
    }
   ],
   "source": [
    "#H2O调参\n",
    "from h2o.grid.grid_search import H2OGridSearch\n",
    "hidden_opt = [[32,32],[32,16,8],[100]]\n",
    "l1_opt = [1e-4,1e-3]\n",
    "hyper_parameters = {\"hidden\":hidden_opt, \"l1\":l1_opt}\n",
    "\n",
    "model_grid = H2OGridSearch(H2ODeepLearningEstimator,hyper_params=hyper_parameters)\n",
    "model_grid.train(x=temp.names,y=\"AVG_ELE\",\n",
    "                 epochs=10,\n",
    "                 training_frame=train,\n",
    "                 validation_frame=test,\n",
    "                 score_interval=2,\n",
    "                 stopping_rounds=3,\n",
    "                 stopping_tolerance=0.05)\n",
    "\n",
    "#print model grid search results\n",
    "for model in model_grid:\n",
    "    print model.model_id + \" mse: \" + str(model.mse())"
   ]
  },
  {
   "cell_type": "code",
   "execution_count": 4,
   "metadata": {
    "collapsed": false
   },
   "outputs": [
    {
     "data": {
      "text/html": [
       "<div>\n",
       "<table border=\"1\" class=\"dataframe\">\n",
       "  <thead>\n",
       "    <tr style=\"text-align: right;\">\n",
       "      <th></th>\n",
       "      <th>AVG</th>\n",
       "    </tr>\n",
       "  </thead>\n",
       "  <tbody>\n",
       "    <tr>\n",
       "      <th>WEEK</th>\n",
       "      <td>-0.053435</td>\n",
       "    </tr>\n",
       "    <tr>\n",
       "      <th>HOLIDAY</th>\n",
       "      <td>-0.034470</td>\n",
       "    </tr>\n",
       "    <tr>\n",
       "      <th>Min_T</th>\n",
       "      <td>0.392973</td>\n",
       "    </tr>\n",
       "    <tr>\n",
       "      <th>Max_T</th>\n",
       "      <td>0.269267</td>\n",
       "    </tr>\n",
       "    <tr>\n",
       "      <th>AVG_T</th>\n",
       "      <td>0.343480</td>\n",
       "    </tr>\n",
       "    <tr>\n",
       "      <th>RAIN</th>\n",
       "      <td>0.104658</td>\n",
       "    </tr>\n",
       "  </tbody>\n",
       "</table>\n",
       "</div>"
      ],
      "text/plain": [
       "              AVG\n",
       "WEEK    -0.053435\n",
       "HOLIDAY -0.034470\n",
       "Min_T    0.392973\n",
       "Max_T    0.269267\n",
       "AVG_T    0.343480\n",
       "RAIN     0.104658"
      ]
     },
     "execution_count": 4,
     "metadata": {},
     "output_type": "execute_result"
    }
   ],
   "source": [
    "#计算各特征与平均负荷的相关系数\n",
    "feature = DATA_ALL.iloc[:,[1,2,3,4,5,6,7,56]]\n",
    "corr_data = feature.corr()\n",
    "corr_data.iloc[:6,[6]]"
   ]
  },
  {
   "cell_type": "code",
   "execution_count": 5,
   "metadata": {
    "collapsed": false
   },
   "outputs": [
    {
     "name": "stdout",
     "output_type": "stream",
     "text": [
      "GradientBoostingRegressor(alpha=0.9, init=None, learning_rate=0.1, loss='ls',\n",
      "             max_depth=3, max_features=None, max_leaf_nodes=None,\n",
      "             min_samples_leaf=1, min_samples_split=2,\n",
      "             min_weight_fraction_leaf=0.0, n_estimators=100,\n",
      "             presort='auto', random_state=10, subsample=1.0, verbose=0,\n",
      "             warm_start=False)\n"
     ]
    },
    {
     "name": "stderr",
     "output_type": "stream",
     "text": [
      "C:\\Anaconda2\\lib\\site-packages\\sklearn\\utils\\validation.py:515: DataConversionWarning: A column-vector y was passed when a 1d array was expected. Please change the shape of y to (n_samples, ), for example using ravel().\n",
      "  y = column_or_1d(y, warn=True)\n"
     ]
    },
    {
     "name": "stdout",
     "output_type": "stream",
     "text": [
      "score: 0.891280956595\n",
      "avg_error: 0.0374546345283\n"
     ]
    }
   ],
   "source": [
    "X_train = NSW_TRAIN.ix[:,[2,3,4,5,6,7]]  \n",
    "Y_train = NSW_TRAIN.iloc[:,[56]]\n",
    "X_test = NSW_TEST.ix[:,[2,3,4,5,6,7]]  \n",
    "Y_test = NSW_TEST.iloc[:,[56]]\n",
    "from sklearn.ensemble import GradientBoostingRegressor\n",
    "from sklearn.metrics import mean_squared_error\n",
    "import numpy as np\n",
    "gbr = GradientBoostingRegressor(n_estimators=100, learning_rate=0.1,max_depth=3, random_state=10, loss='ls')\n",
    "print gbr\n",
    "gbr.fit(X_train, Y_train)\n",
    "predict = gbr.predict(X_test)\n",
    "print \"score:\",gbr.score(X_train ,Y_train)  \n",
    "\n",
    "from __future__ import division \n",
    "test_GBR = NSW_TEST\n",
    "test_GBR['predict'] = predict\n",
    "#计算偏差考核：error =(实际用电量-计划用电量)/计划用电量\n",
    "test_GBR['error'] = np.abs(test_GBR[\"AVG_ELE\"] - test_GBR[\"predict\"]) / test_GBR[\"predict\"]\n",
    "print \"avg_error:\" ,np.abs(test_GBR[\"error\"]).sum() / test_GBR.shape[0]"
   ]
  },
  {
   "cell_type": "code",
   "execution_count": 11,
   "metadata": {
    "collapsed": false
   },
   "outputs": [
    {
     "name": "stdout",
     "output_type": "stream",
     "text": [
      "SVR(C=1000, cache_size=200, coef0=0, degree=3, epsilon=0.1, gamma=0.001,\n",
      "  kernel='rbf', max_iter=-2, shrinking=True, tol=0.001, verbose=False)\n"
     ]
    },
    {
     "name": "stderr",
     "output_type": "stream",
     "text": [
      "C:\\Anaconda2\\lib\\site-packages\\sklearn\\svm\\base.py:216: DataConversionWarning: A column-vector y was passed when a 1d array was expected. Please change the shape of y to (n_samples, ), for example using ravel().\n",
      "  return column_or_1d(y, warn=True).astype(np.float64)\n"
     ]
    },
    {
     "name": "stdout",
     "output_type": "stream",
     "text": [
      "avg_error: 0.0534577642081\n"
     ]
    }
   ],
   "source": [
    "from sklearn import preprocessing\n",
    "from sklearn import svm\n",
    "from sklearn import linear_model \n",
    "feature_train = NSW_TRAIN.ix[:,[2,3,4,5,6,7]]\n",
    "feature_target = NSW_TRAIN.iloc[:,[56]]\n",
    "feature_test = NSW_TEST.ix[:,[2,3,4,5,6,7]]\n",
    "fm_train = feature_train.as_matrix(columns=None) \n",
    "fm_test = feature_test.as_matrix(columns=None)\n",
    "\n",
    "#mm = preprocessing.minmax_scale(X, feature_range=(0, 1), axis=0, copy=True)\n",
    "#fm_tr = mm.fit_transform(feature_train)\n",
    "fm_tr = preprocessing.minmax_scale(feature_train, feature_range=(0, 1), axis=0, copy=True)\n",
    "fm_te =  preprocessing.minmax_scale(feature_test, feature_range=(0, 1), axis=0, copy=True)\n",
    "#构建模型\n",
    "clf =svm.SVR(C=1000, cache_size=200, coef0=0, degree=3, epsilon=0.1, gamma=0.001,\n",
    "  kernel='rbf', max_iter=-2, shrinking=True, tol=0.001, verbose=False)  # class   \n",
    "print clf\n",
    "clf.fit(fm_tr,feature_target)\n",
    "result = clf.predict(fm_te)   \n",
    "\n",
    "from __future__ import division \n",
    "\n",
    "temp_svr =NSW_TEST\n",
    "temp_svr['result'] = result\n",
    "#计算偏差考核：error =(实际用电量-计划用电量)/计划用电量\n",
    "temp_svr['error'] = (temp_svr[\"AVG_ELE\"] - temp_svr[\"result\"]) / temp_svr[\"result\"]\n",
    "print \"avg_error:\",np.abs(temp_svr[\"error\"]).sum() / temp_svr.shape[0]"
   ]
  },
  {
   "cell_type": "code",
   "execution_count": null,
   "metadata": {
    "collapsed": true
   },
   "outputs": [],
   "source": []
  }
 ],
 "metadata": {
  "kernelspec": {
   "display_name": "Python 2",
   "language": "python",
   "name": "python2"
  },
  "language_info": {
   "codemirror_mode": {
    "name": "ipython",
    "version": 2
   },
   "file_extension": ".py",
   "mimetype": "text/x-python",
   "name": "python",
   "nbconvert_exporter": "python",
   "pygments_lexer": "ipython2",
   "version": "2.7.13"
  }
 },
 "nbformat": 4,
 "nbformat_minor": 0
}
