{
 "cells": [
  {
   "cell_type": "code",
   "execution_count": 1,
   "metadata": {
    "collapsed": false
   },
   "outputs": [
    {
     "name": "stdout",
     "output_type": "stream",
     "text": [
      "             record_time  vehicle_speed  engine_rpm\n",
      "4418 2015-07-31 18:29:25             19         909\n",
      "4419 2015-07-31 18:29:59             24        1595\n",
      "4420 2015-07-31 18:30:33              2         799\n",
      "4421 2015-07-31 18:31:07              0         757\n",
      "4422 2015-07-31 18:31:16              0           0\n",
      "(4423, 3)\n",
      "          record_time  vehicle_speed  engine_rpm  Time_diff\n",
      "0 2015-07-01 13:26:51              0         811        3.0\n",
      "1 2015-07-01 13:26:54              1         770       27.0\n",
      "2 2015-07-01 13:27:21             53        2159       31.0\n",
      "3 2015-07-01 13:27:52             61        1491       34.0\n",
      "4 2015-07-01 13:28:26             68        1650       34.0\n"
     ]
    }
   ],
   "source": [
    "# -*- coding: UTF-8 -*-\n",
    "from __future__ import division\n",
    "import pandas as pd\n",
    "import numpy as np\n",
    "import MySQLdb\n",
    "try:\n",
    "    db = MySQLdb.connect(\"localhost\",\"root\",\"\",\"mytrip\")\n",
    "    cursor = db.cursor()\n",
    "    cursor.execute(\"SELECT t.record_time,max(t.vehicle_speed),t.engine_rpm FROM mytrip.tb_iov_device_obd_41030402427 t \"\n",
    "                   \"where t.device_id='41030402427' GROUP BY t.record_time\")\n",
    "    data = cursor.fetchall()\n",
    "    cursor.close()\n",
    "    db.close()\n",
    "except MySQLdb.Error,e:\n",
    "    print \"Database version : %s \" % (e.args[0], e.args[1])\n",
    "\n",
    "dbdata = pd.DataFrame(list(data), columns=['record_time', 'vehicle_speed', 'engine_rpm'])\n",
    "print dbdata.tail()\n",
    "print dbdata.shape\n",
    "\n",
    "db = dbdata\n",
    "a = np.array(pd.Series(dbdata['record_time']))\n",
    "Time_diff_tmp = np.diff(a)/np.timedelta64(1, 's')\n",
    "#Time_diff_first = [0]\n",
    "#Time_diff_first.extend(Time_diff_tmp)\n",
    "db['Time_diff'] = pd.Series(Time_diff_tmp)\n",
    "print db.head()\n",
    "\n",
    "\n"
   ]
  },
  {
   "cell_type": "code",
   "execution_count": 2,
   "metadata": {
    "collapsed": false
   },
   "outputs": [
    {
     "name": "stdout",
     "output_type": "stream",
     "text": [
      "          record_time  vehicle_speed  engine_rpm  Time_diff  Trip_No    Mark\n",
      "0 2015-07-01 13:26:51              0         811        3.0        1  NORMAL\n",
      "1 2015-07-01 13:26:54              1         770       27.0        1  NORMAL\n",
      "2 2015-07-01 13:27:21             53        2159       31.0        1  NORMAL\n",
      "3 2015-07-01 13:27:52             61        1491       34.0        1  NORMAL\n",
      "4 2015-07-01 13:28:26             68        1650       34.0        1  NORMAL\n",
      "(4422, 6)\n"
     ]
    }
   ],
   "source": [
    "#数据分段\n",
    "Trip_No = 1\n",
    "arr = []\n",
    "for eq in db['Time_diff']:\n",
    "    if ( eq > 600) :\n",
    "      Trip_No = Trip_No + 1\n",
    "    arr.append(Trip_No)\n",
    "db['Trip_No'] = arr\n",
    "#数据去燥\n",
    "db['Mark'] = map(lambda x: 'BAD' if x <= 0 else 'NORMAL', db['Time_diff'])\n",
    "db = db[db['Time_diff'] > 0]\n",
    "print db.head()\n",
    "print db.shape"
   ]
  },
  {
   "cell_type": "code",
   "execution_count": 4,
   "metadata": {
    "collapsed": false
   },
   "outputs": [
    {
     "name": "stdout",
     "output_type": "stream",
     "text": [
      "          record_time  vehicle_speed  engine_rpm  Time_diff  Trip_No    Mark  \\\n",
      "0 2015-07-01 13:26:51              0         811        3.0        1  NORMAL   \n",
      "1 2015-07-01 13:26:54              1         770       27.0        1  NORMAL   \n",
      "2 2015-07-01 13:27:21             53        2159       31.0        1  NORMAL   \n",
      "3 2015-07-01 13:27:52             61        1491       34.0        1  NORMAL   \n",
      "4 2015-07-01 13:28:26             68        1650       34.0        1  NORMAL   \n",
      "\n",
      "       Speed  \n",
      "0   0.000000  \n",
      "1   0.277778  \n",
      "2  14.722222  \n",
      "3  16.944444  \n",
      "4  18.888889  \n",
      "(4422, 7)\n"
     ]
    }
   ],
   "source": [
    "#计算速度\n",
    "db = db.copy()\n",
    "db['Speed'] = pd.Series(dbdata['vehicle_speed']/3.6)\n",
    "print db.head()\n",
    "print db.shape"
   ]
  },
  {
   "cell_type": "code",
   "execution_count": 7,
   "metadata": {
    "collapsed": false
   },
   "outputs": [
    {
     "name": "stdout",
     "output_type": "stream",
     "text": [
      "          record_time  vehicle_speed  engine_rpm  Time_diff  Trip_No    Mark  \\\n",
      "0 2015-07-01 13:26:51              0         811        3.0        1  NORMAL   \n",
      "1 2015-07-01 13:26:54              1         770       27.0        1  NORMAL   \n",
      "2 2015-07-01 13:27:21             53        2159       31.0        1  NORMAL   \n",
      "3 2015-07-01 13:27:52             61        1491       34.0        1  NORMAL   \n",
      "4 2015-07-01 13:28:26             68        1650       34.0        1  NORMAL   \n",
      "\n",
      "       Speed  Acceleration  ABS_Acceleration  \n",
      "0   0.000000      0.092593          0.092593  \n",
      "1   0.277778      0.534979          0.534979  \n",
      "2  14.722222      0.071685          0.071685  \n",
      "3  16.944444      0.057190          0.057190  \n",
      "4  18.888889     -0.236928          0.236928  \n",
      "             record_time  vehicle_speed  engine_rpm  Time_diff  Trip_No  \\\n",
      "4417 2015-07-31 18:28:51             23         984       34.0       92   \n",
      "4418 2015-07-31 18:29:25             19         909       34.0       92   \n",
      "4419 2015-07-31 18:29:59             24        1595       34.0       92   \n",
      "4420 2015-07-31 18:30:33              2         799       34.0       92   \n",
      "4421 2015-07-31 18:31:07              0         757        9.0       92   \n",
      "\n",
      "        Mark     Speed  Acceleration  ABS_Acceleration  \n",
      "4417  NORMAL  6.388889     -0.032680          0.032680  \n",
      "4418  NORMAL  5.277778      0.040850          0.040850  \n",
      "4419  NORMAL  6.666667     -0.179739          0.179739  \n",
      "4420  NORMAL  0.555556     -0.016340          0.016340  \n",
      "4421  NORMAL  0.000000      0.000000          0.000000  \n",
      "(4422, 9)\n"
     ]
    }
   ],
   "source": [
    "#计算加速度\n",
    "Acceleration_tmp = np.diff(np.array(pd.Series(dbdata['vehicle_speed']/3.6)))/db['Time_diff']\n",
    "db['Acceleration'] = Acceleration_tmp\n",
    "db = db.copy()\n",
    "db['ABS_Acceleration'] = abs(db['Acceleration'])\n",
    "print db.head()\n",
    "print db.tail()\n",
    "print db.shape"
   ]
  },
  {
   "cell_type": "code",
   "execution_count": 8,
   "metadata": {
    "collapsed": false
   },
   "outputs": [
    {
     "name": "stdout",
     "output_type": "stream",
     "text": [
      "          record_time  vehicle_speed  engine_rpm  Time_diff  Trip_No    Mark  \\\n",
      "0 2015-07-01 13:26:51              0         811        3.0        1  NORMAL   \n",
      "1 2015-07-01 13:26:54              1         770       27.0        1  NORMAL   \n",
      "2 2015-07-01 13:27:21             53        2159       31.0        1  NORMAL   \n",
      "3 2015-07-01 13:27:52             61        1491       34.0        1  NORMAL   \n",
      "4 2015-07-01 13:28:26             68        1650       34.0        1  NORMAL   \n",
      "\n",
      "       Speed  Acceleration  ABS_Acceleration Speed_Flag ABS_Acceleration_Flag  \\\n",
      "0   0.000000      0.092593          0.092593          a                     a   \n",
      "1   0.277778      0.534979          0.534979          a                     c   \n",
      "2  14.722222      0.071685          0.071685          c                     a   \n",
      "3  16.944444      0.057190          0.057190          d                     a   \n",
      "4  18.888889     -0.236928          0.236928          d                     b   \n",
      "\n",
      "  RPM_Flag  \n",
      "0        a  \n",
      "1        a  \n",
      "2        c  \n",
      "3        b  \n",
      "4        b  \n"
     ]
    }
   ],
   "source": [
    "#按照不同trip进行标记\n",
    "db = db.copy()\n",
    "db['Speed_Flag'] = map(lambda x: 'a' if x < 5.6 else ('b'if 5.6 <= x < 11.1 else ('c' if 11.1 <= x < 16.7  else 'd')), db['Speed'])\n",
    "db['ABS_Acceleration_Flag'] = map(lambda x: 'a' if x < 0.1 else ('b' if 0.1 <= x <0.3 else 'c'),db['ABS_Acceleration'])\n",
    "db['RPM_Flag'] = map(lambda x: 'a' if x < 1000 else ('b' if 1000 <= x <2000 else 'c'),db['engine_rpm'])\n",
    "print db.head()"
   ]
  },
  {
   "cell_type": "code",
   "execution_count": 9,
   "metadata": {
    "collapsed": false
   },
   "outputs": [
    {
     "name": "stdout",
     "output_type": "stream",
     "text": [
      "    v_a   v_b   v_c   v_d\n",
      "0  18.0  11.0   7.0   2.0\n",
      "1  23.0   7.0   4.0   0.0\n",
      "2  16.0   7.0   4.0   0.0\n",
      "3  69.0  26.0  29.0  12.0\n",
      "4  48.0  14.0  36.0  20.0\n"
     ]
    }
   ],
   "source": [
    "#计算速度每个trip中不同标记的数量\n",
    "Speed_Classify = pd.DataFrame(np.zeros((93,4)))\n",
    "Speed_Classify.columns = ('v_a','v_b','v_c','v_d')\n",
    "for index,row in db.iterrows():\n",
    "    if(row.Speed_Flag == 'a'):\n",
    "        Speed_Classify.loc[row.Trip_No-1,'v_a'] = Speed_Classify.loc[row.Trip_No-1,'v_a'] + 1\n",
    "    if(row.Speed_Flag == 'b'):\n",
    "        Speed_Classify.loc[row.Trip_No-1,'v_b'] = Speed_Classify.loc[row.Trip_No-1,'v_b'] + 1\n",
    "    if(row.Speed_Flag == 'c'):\n",
    "        Speed_Classify.loc[row.Trip_No-1,'v_c'] = Speed_Classify.loc[row.Trip_No-1,'v_c'] + 1\n",
    "    if(row.Speed_Flag == 'd'):\n",
    "        Speed_Classify.loc[row.Trip_No-1,'v_d'] = Speed_Classify.loc[row.Trip_No-1,'v_d'] + 1    \n",
    "print Speed_Classify.head()"
   ]
  },
  {
   "cell_type": "code",
   "execution_count": 10,
   "metadata": {
    "collapsed": false
   },
   "outputs": [
    {
     "name": "stdout",
     "output_type": "stream",
     "text": [
      "    a_a   a_b   a_c\n",
      "0  18.0  13.0   7.0\n",
      "1  16.0   7.0  11.0\n",
      "2  15.0  10.0   2.0\n",
      "3  89.0  32.0  15.0\n",
      "4  62.0  33.0  23.0\n"
     ]
    }
   ],
   "source": [
    "#计算加速度每个trip中不同标记的数量\n",
    "ABS_Acceleration_Classify = pd.DataFrame(np.zeros((93,3)))\n",
    "ABS_Acceleration_Classify.columns = ('a_a','a_b','a_c')\n",
    "for index,row in db.iterrows():\n",
    "    if(row.ABS_Acceleration_Flag == 'a'):\n",
    "        ABS_Acceleration_Classify.loc[row.Trip_No-1,'a_a'] = ABS_Acceleration_Classify.loc[row.Trip_No-1,'a_a'] + 1\n",
    "    if(row.ABS_Acceleration_Flag == 'b'):\n",
    "        ABS_Acceleration_Classify.loc[row.Trip_No-1,'a_b'] = ABS_Acceleration_Classify.loc[row.Trip_No-1,'a_b'] + 1\n",
    "    if(row.ABS_Acceleration_Flag == 'c'):\n",
    "        ABS_Acceleration_Classify.loc[row.Trip_No-1,'a_c'] = ABS_Acceleration_Classify.loc[row.Trip_No-1,'a_c'] + 1     \n",
    "print ABS_Acceleration_Classify.head()"
   ]
  },
  {
   "cell_type": "code",
   "execution_count": 11,
   "metadata": {
    "collapsed": false
   },
   "outputs": [
    {
     "name": "stdout",
     "output_type": "stream",
     "text": [
      "    r_a   r_b  r_c\n",
      "0  18.0  17.0  3.0\n",
      "1  23.0   9.0  2.0\n",
      "2  16.0   9.0  2.0\n",
      "3  61.0  67.0  8.0\n",
      "4  39.0  70.0  9.0\n"
     ]
    }
   ],
   "source": [
    "#计算RPM每个trip中不同标记的数量\n",
    "RPM_Classify = pd.DataFrame(np.zeros((92,3)))\n",
    "RPM_Classify.columns = ('r_a','r_b','r_c')\n",
    "for index,row in db.iterrows():\n",
    "    if(row.RPM_Flag == 'a'):\n",
    "        RPM_Classify.loc[row.Trip_No-1,'r_a'] = RPM_Classify.loc[row.Trip_No-1,'r_a'] + 1\n",
    "    if(row.RPM_Flag == 'b'):\n",
    "        RPM_Classify.loc[row.Trip_No-1,'r_b'] = RPM_Classify.loc[row.Trip_No-1,'r_b'] + 1\n",
    "    if(row.RPM_Flag == 'c'):\n",
    "        RPM_Classify.loc[row.Trip_No-1,'r_c'] = RPM_Classify.loc[row.Trip_No-1,'r_c'] + 1\n",
    "#RPM_Classify = RPM_Classify[1:93]\n",
    "print RPM_Classify.head()"
   ]
  },
  {
   "cell_type": "code",
   "execution_count": 12,
   "metadata": {
    "collapsed": false
   },
   "outputs": [
    {
     "name": "stdout",
     "output_type": "stream",
     "text": [
      "   Trip_No     v_avg\n",
      "0        1  6.695906\n",
      "1        2  3.741830\n",
      "2        3  5.020576\n",
      "3        4  7.312092\n",
      "4        5  9.074859\n",
      "   Trip_No     a_avg\n",
      "0        1  0.218219\n",
      "1        2  0.296435\n",
      "2        3  0.116886\n",
      "3        4  0.183882\n",
      "4        5  0.253682\n",
      "   Trip_No        r_avg\n",
      "0        1  1209.078947\n",
      "1        2  1032.882353\n",
      "2        3  1125.222222\n",
      "3        4  1166.750000\n",
      "4        5  1300.067797\n"
     ]
    }
   ],
   "source": [
    "#计算不同trip速度的平均值\n",
    "v_avg = db.groupby(['Trip_No'],as_index = False)['Speed'].agg({'v_avg':np.mean})\n",
    "#计算不同trip加速度的平均值\n",
    "a_avg = db.groupby(['Trip_No'],as_index = False)['ABS_Acceleration'].agg({'a_avg':np.mean})\n",
    "#计算不同trip RPM的平均值\n",
    "r_avg = db.groupby(['Trip_No'],as_index = False)['engine_rpm'].agg({'r_avg':np.mean})\n",
    "print v_avg.head()\n",
    "print a_avg.head()\n",
    "print r_avg.head()"
   ]
  },
  {
   "cell_type": "code",
   "execution_count": 83,
   "metadata": {
    "collapsed": false
   },
   "outputs": [
    {
     "name": "stdout",
     "output_type": "stream",
     "text": [
      "    Trip_No      v_std\n",
      "87       88  45.635803\n",
      "88       89  33.367358\n",
      "89       90  32.557424\n",
      "90       91  23.316674\n",
      "91       92  25.140305\n",
      "    Trip_No     a_std\n",
      "87       88  0.081812\n",
      "88       89  0.094512\n",
      "89       90  0.126876\n",
      "90       91  0.011024\n",
      "91       92  0.045054\n",
      "    Trip_No          r_std\n",
      "87       88  299565.759245\n",
      "88       89  198604.462255\n",
      "89       90  229396.181914\n",
      "90       91  230987.293247\n",
      "91       92  199573.941432\n"
     ]
    }
   ],
   "source": [
    "#计算不同trip速度的方差\n",
    "v_std = db.groupby(['Trip_No'],as_index = False)['Speed'].agg({'v_std':np.var})\n",
    "#计算不同trip加速度的平均值\n",
    "a_std = db.groupby(['Trip_No'],as_index = False)['ABS_Acceleration'].agg({'a_std':np.var})\n",
    "#计算不同trip RPM的平均值\n",
    "r_std = db.groupby(['Trip_No'],as_index = False)['engine_rpm'].agg({'r_std':np.var})\n",
    "print v_std.tail()\n",
    "print a_std.tail()\n",
    "print r_std.tail()"
   ]
  },
  {
   "cell_type": "code",
   "execution_count": 85,
   "metadata": {
    "collapsed": false
   },
   "outputs": [
    {
     "name": "stdout",
     "output_type": "stream",
     "text": [
      "   Trip_No     v_avg      v_std   v_a   v_b   v_c   v_d     a_avg     a_std  \\\n",
      "0      1.0  6.695906  33.465922  18.0  11.0   7.0   2.0  0.218219  0.154504   \n",
      "1      2.0  3.741830  24.266907  23.0   7.0   4.0   0.0  0.296435  0.278007   \n",
      "2      3.0  5.020576  24.382276  16.0   7.0   4.0   0.0  0.116886  0.012158   \n",
      "3      4.0  7.312092  41.602518  69.0  26.0  29.0  12.0  0.183882  0.321851   \n",
      "4      5.0  9.074859  53.623318  48.0  14.0  36.0  20.0  0.253682  0.437346   \n",
      "\n",
      "    a_a   a_b   a_c        r_avg          r_std   r_a   r_b  r_c  \n",
      "0  18.0  13.0   7.0  1209.078947  242766.453058  18.0  17.0  3.0  \n",
      "1  16.0   7.0  11.0  1032.882353  213144.773619  23.0   9.0  2.0  \n",
      "2  15.0  10.0   2.0  1125.222222  266405.794872  16.0   9.0  2.0  \n",
      "3  89.0  32.0  15.0  1166.750000  268740.870370  61.0  67.0  8.0  \n",
      "4  62.0  33.0  23.0  1300.067797  321217.636390  39.0  70.0  9.0  \n",
      "(93, 17)\n"
     ]
    }
   ],
   "source": [
    "#合并\n",
    "newtrip = pd.concat([v_avg,v_std,Speed_Classify,a_avg,a_std,ABS_Acceleration_Classify,r_avg,r_std,RPM_Classify],axis=1)\n",
    "\n",
    "newtrip = newtrip.iloc[:,[0,1,3,4,5,6,7,9,11,12,13,14,16,18,19,20,21]]\n",
    "print newtrip.head()\n",
    "print newtrip.shape\n",
    "newtrip = newtrip[0:92]\n",
    "newtrip.to_csv('C:/Users/zzq/Desktop/newtrip.csv')"
   ]
  },
  {
   "cell_type": "code",
   "execution_count": null,
   "metadata": {
    "collapsed": true
   },
   "outputs": [],
   "source": []
  }
 ],
 "metadata": {
  "kernelspec": {
   "display_name": "Python 2",
   "language": "python",
   "name": "python2"
  },
  "language_info": {
   "codemirror_mode": {
    "name": "ipython",
    "version": 2
   },
   "file_extension": ".py",
   "mimetype": "text/x-python",
   "name": "python",
   "nbconvert_exporter": "python",
   "pygments_lexer": "ipython2",
   "version": "2.7.13"
  }
 },
 "nbformat": 4,
 "nbformat_minor": 0
}
