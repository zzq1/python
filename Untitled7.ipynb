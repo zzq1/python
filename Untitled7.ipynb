{
 "cells": [
  {
   "cell_type": "code",
   "execution_count": 1,
   "metadata": {
    "collapsed": false
   },
   "outputs": [
    {
     "name": "stdout",
     "output_type": "stream",
     "text": [
      "Checking whether there is an H2O instance running at http://localhost:54321..... not found.\n",
      "Attempting to start a local H2O server...\n",
      "; Java HotSpot(TM) 64-Bit Server VM (build 25.144-b01, mixed mode)\n",
      "  Starting server from C:\\Anaconda2\\lib\\site-packages\\h2o\\backend\\bin\\h2o.jar\n",
      "  Ice root: c:\\users\\zzq\\appdata\\local\\temp\\tmpurwtg5\n",
      "  JVM stdout: c:\\users\\zzq\\appdata\\local\\temp\\tmpurwtg5\\h2o_zzq_started_from_python.out\n",
      "  JVM stderr: c:\\users\\zzq\\appdata\\local\\temp\\tmpurwtg5\\h2o_zzq_started_from_python.err\n",
      "  Server is running at http://127.0.0.1:54321\n",
      "Connecting to H2O server at http://127.0.0.1:54321... successful.\n",
      "Warning: Your H2O cluster version is too old (7 months and 11 days)! Please download and install the latest version from http://h2o.ai/download/\n"
     ]
    },
    {
     "data": {
      "text/html": [
       "<div style=\"overflow:auto\"><table style=\"width:50%\"><tr><td>H2O cluster uptime:</td>\n",
       "<td>06 secs</td></tr>\n",
       "<tr><td>H2O cluster version:</td>\n",
       "<td>3.10.4.8</td></tr>\n",
       "<tr><td>H2O cluster version age:</td>\n",
       "<td>7 months and 11 days !!!</td></tr>\n",
       "<tr><td>H2O cluster name:</td>\n",
       "<td>H2O_from_python_zzq_5kilom</td></tr>\n",
       "<tr><td>H2O cluster total nodes:</td>\n",
       "<td>1</td></tr>\n",
       "<tr><td>H2O cluster free memory:</td>\n",
       "<td>7.099 Gb</td></tr>\n",
       "<tr><td>H2O cluster total cores:</td>\n",
       "<td>8</td></tr>\n",
       "<tr><td>H2O cluster allowed cores:</td>\n",
       "<td>8</td></tr>\n",
       "<tr><td>H2O cluster status:</td>\n",
       "<td>accepting new members, healthy</td></tr>\n",
       "<tr><td>H2O connection url:</td>\n",
       "<td>http://127.0.0.1:54321</td></tr>\n",
       "<tr><td>H2O connection proxy:</td>\n",
       "<td>None</td></tr>\n",
       "<tr><td>H2O internal security:</td>\n",
       "<td>False</td></tr>\n",
       "<tr><td>Python version:</td>\n",
       "<td>2.7.13 final</td></tr></table></div>"
      ],
      "text/plain": [
       "--------------------------  ------------------------------\n",
       "H2O cluster uptime:         06 secs\n",
       "H2O cluster version:        3.10.4.8\n",
       "H2O cluster version age:    7 months and 11 days !!!\n",
       "H2O cluster name:           H2O_from_python_zzq_5kilom\n",
       "H2O cluster total nodes:    1\n",
       "H2O cluster free memory:    7.099 Gb\n",
       "H2O cluster total cores:    8\n",
       "H2O cluster allowed cores:  8\n",
       "H2O cluster status:         accepting new members, healthy\n",
       "H2O connection url:         http://127.0.0.1:54321\n",
       "H2O connection proxy:\n",
       "H2O internal security:      False\n",
       "Python version:             2.7.13 final\n",
       "--------------------------  ------------------------------"
      ]
     },
     "metadata": {},
     "output_type": "display_data"
    }
   ],
   "source": [
    "# -*- coding:utf-8 -*-\n",
    "import h2o\n",
    "h2o.init()"
   ]
  },
  {
   "cell_type": "code",
   "execution_count": 2,
   "metadata": {
    "collapsed": false
   },
   "outputs": [
    {
     "name": "stdout",
     "output_type": "stream",
     "text": [
      "Parse progress: |█████████████████████████████████████████████████████████| 100%\n",
      "driver                         int64\n",
      "trip                           int64\n",
      "Average_speed                  int64\n",
      "Average_ABS_Acceleration     float64\n",
      "Average_RPM                  float64\n",
      "Variance_speed               float64\n",
      "Variance_ABS_Acceleration    float64\n",
      "Variance_RPM                 float64\n",
      "v_a                          float64\n",
      "v_b                          float64\n",
      "v_c                          float64\n",
      "v_d                          float64\n",
      "a_a                          float64\n",
      "a_b                          float64\n",
      "a_c                          float64\n",
      "r_a                          float64\n",
      "r_b                          float64\n",
      "r_c                          float64\n",
      "Catrgory                      object\n",
      "dtype: object\n"
     ]
    }
   ],
   "source": [
    "import xgboost\n",
    "import pandas as pd\n",
    "from h2o.estimators.random_forest import H2ORandomForestEstimator\n",
    "dfff = pd.read_csv(\"C:/Users/zzq/Desktop/DataMining/Data/data3/train.csv\")\n",
    "trainData = h2o.import_file(path=\"C:/Users/zzq/Desktop/DataMining/Data/data3/train.csv\")\n",
    "print dfff.dtypes"
   ]
  },
  {
   "cell_type": "code",
   "execution_count": 5,
   "metadata": {
    "collapsed": false
   },
   "outputs": [
    {
     "name": "stdout",
     "output_type": "stream",
     "text": [
      "(598, 17)\n"
     ]
    },
    {
     "data": {
      "text/html": [
       "<table>\n",
       "<thead>\n",
       "<tr><th style=\"text-align: right;\">  Average_speed</th><th style=\"text-align: right;\">  Average_ABS_Acceleration</th><th style=\"text-align: right;\">  Average_RPM</th><th style=\"text-align: right;\">  Variance_speed</th><th style=\"text-align: right;\">  Variance_ABS_Acceleration</th><th style=\"text-align: right;\">  Variance_RPM</th><th style=\"text-align: right;\">     v_a</th><th style=\"text-align: right;\">     v_b</th><th style=\"text-align: right;\">     v_c</th><th style=\"text-align: right;\">     v_d</th><th style=\"text-align: right;\">     a_a</th><th style=\"text-align: right;\">     a_b</th><th style=\"text-align: right;\">     a_c</th><th style=\"text-align: right;\">     r_a</th><th style=\"text-align: right;\">     r_b</th><th style=\"text-align: right;\">     r_c</th><th>Catrgory  </th></tr>\n",
       "</thead>\n",
       "<tbody>\n",
       "<tr><td style=\"text-align: right;\">              6</td><td style=\"text-align: right;\">                  0.218219</td><td style=\"text-align: right;\">      1209.08</td><td style=\"text-align: right;\">         33.4659</td><td style=\"text-align: right;\">                   0.154504</td><td style=\"text-align: right;\">        242766</td><td style=\"text-align: right;\">0.564121</td><td style=\"text-align: right;\">0.224947</td><td style=\"text-align: right;\">0.16328 </td><td style=\"text-align: right;\">0.047652</td><td style=\"text-align: right;\">0.594954</td><td style=\"text-align: right;\">0.288718</td><td style=\"text-align: right;\">0.116328</td><td style=\"text-align: right;\">0.585144</td><td style=\"text-align: right;\">0.348283</td><td style=\"text-align: right;\">0.066573</td><td>cluster2  </td></tr>\n",
       "<tr><td style=\"text-align: right;\">              3</td><td style=\"text-align: right;\">                  0.305416</td><td style=\"text-align: right;\">      1064.18</td><td style=\"text-align: right;\">         24.5744</td><td style=\"text-align: right;\">                   0.283866</td><td style=\"text-align: right;\">        185456</td><td style=\"text-align: right;\">0.575369</td><td style=\"text-align: right;\">0.291626</td><td style=\"text-align: right;\">0.133005</td><td style=\"text-align: right;\">0       </td><td style=\"text-align: right;\">0.57734 </td><td style=\"text-align: right;\">0.210837</td><td style=\"text-align: right;\">0.211823</td><td style=\"text-align: right;\">0.57734 </td><td style=\"text-align: right;\">0.365517</td><td style=\"text-align: right;\">0.057143</td><td>cluster2  </td></tr>\n",
       "<tr><td style=\"text-align: right;\">              5</td><td style=\"text-align: right;\">                  0.121377</td><td style=\"text-align: right;\">      1168.5 </td><td style=\"text-align: right;\">         24.3105</td><td style=\"text-align: right;\">                   0.012078</td><td style=\"text-align: right;\">        224469</td><td style=\"text-align: right;\">0.574566</td><td style=\"text-align: right;\">0.269364</td><td style=\"text-align: right;\">0.156069</td><td style=\"text-align: right;\">0       </td><td style=\"text-align: right;\">0.531792</td><td style=\"text-align: right;\">0.393064</td><td style=\"text-align: right;\">0.075145</td><td style=\"text-align: right;\">0.56763 </td><td style=\"text-align: right;\">0.354913</td><td style=\"text-align: right;\">0.077457</td><td>cluster2  </td></tr>\n",
       "<tr><td style=\"text-align: right;\">              7</td><td style=\"text-align: right;\">                  0.185244</td><td style=\"text-align: right;\">      1175.39</td><td style=\"text-align: right;\">         41.511 </td><td style=\"text-align: right;\">                   0.323999</td><td style=\"text-align: right;\">        260512</td><td style=\"text-align: right;\">0.498039</td><td style=\"text-align: right;\">0.196078</td><td style=\"text-align: right;\">0.214994</td><td style=\"text-align: right;\">0.090888</td><td style=\"text-align: right;\">0.685582</td><td style=\"text-align: right;\">0.236217</td><td style=\"text-align: right;\">0.078201</td><td style=\"text-align: right;\">0.432757</td><td style=\"text-align: right;\">0.505882</td><td style=\"text-align: right;\">0.061361</td><td>cluster2  </td></tr>\n",
       "<tr><td style=\"text-align: right;\">              9</td><td style=\"text-align: right;\">                  0.255851</td><td style=\"text-align: right;\">      1311.18</td><td style=\"text-align: right;\">         53.3696</td><td style=\"text-align: right;\">                   0.440556</td><td style=\"text-align: right;\">        309292</td><td style=\"text-align: right;\">0.39738 </td><td style=\"text-align: right;\">0.131823</td><td style=\"text-align: right;\">0.318504</td><td style=\"text-align: right;\">0.152293</td><td style=\"text-align: right;\">0.543395</td><td style=\"text-align: right;\">0.299945</td><td style=\"text-align: right;\">0.156659</td><td style=\"text-align: right;\">0.32369 </td><td style=\"text-align: right;\">0.60726 </td><td style=\"text-align: right;\">0.06905 </td><td>cluster1  </td></tr>\n",
       "<tr><td style=\"text-align: right;\">              5</td><td style=\"text-align: right;\">                  0.137464</td><td style=\"text-align: right;\">      1213.27</td><td style=\"text-align: right;\">         24.9554</td><td style=\"text-align: right;\">                   0.013413</td><td style=\"text-align: right;\">        168325</td><td style=\"text-align: right;\">0.682558</td><td style=\"text-align: right;\">0.077907</td><td style=\"text-align: right;\">0.239535</td><td style=\"text-align: right;\">0       </td><td style=\"text-align: right;\">0.45    </td><td style=\"text-align: right;\">0.50814 </td><td style=\"text-align: right;\">0.04186 </td><td style=\"text-align: right;\">0.45814 </td><td style=\"text-align: right;\">0.502326</td><td style=\"text-align: right;\">0.039535</td><td>cluster2  </td></tr>\n",
       "<tr><td style=\"text-align: right;\">              5</td><td style=\"text-align: right;\">                  0.633611</td><td style=\"text-align: right;\">      1321.14</td><td style=\"text-align: right;\">         24.5738</td><td style=\"text-align: right;\">                   0.703718</td><td style=\"text-align: right;\">        710258</td><td style=\"text-align: right;\">0.786486</td><td style=\"text-align: right;\">0.12973 </td><td style=\"text-align: right;\">0.083784</td><td style=\"text-align: right;\">0       </td><td style=\"text-align: right;\">0.767568</td><td style=\"text-align: right;\">0.2     </td><td style=\"text-align: right;\">0.032432</td><td style=\"text-align: right;\">0.778378</td><td style=\"text-align: right;\">0.113514</td><td style=\"text-align: right;\">0.108108</td><td>cluster0  </td></tr>\n",
       "<tr><td style=\"text-align: right;\">             11</td><td style=\"text-align: right;\">                  1.22222 </td><td style=\"text-align: right;\">      1197   </td><td style=\"text-align: right;\">          7.4267</td><td style=\"text-align: right;\">                   1.24023 </td><td style=\"text-align: right;\">        357493</td><td style=\"text-align: right;\">0       </td><td style=\"text-align: right;\">0.294118</td><td style=\"text-align: right;\">0.705882</td><td style=\"text-align: right;\">0       </td><td style=\"text-align: right;\">0       </td><td style=\"text-align: right;\">0       </td><td style=\"text-align: right;\">1       </td><td style=\"text-align: right;\">0.529412</td><td style=\"text-align: right;\">0.235294</td><td style=\"text-align: right;\">0.235294</td><td>cluster1  </td></tr>\n",
       "<tr><td style=\"text-align: right;\">              6</td><td style=\"text-align: right;\">                  0.287497</td><td style=\"text-align: right;\">      1219.42</td><td style=\"text-align: right;\">         50.7958</td><td style=\"text-align: right;\">                   0.523081</td><td style=\"text-align: right;\">        373730</td><td style=\"text-align: right;\">0.423963</td><td style=\"text-align: right;\">0.274885</td><td style=\"text-align: right;\">0.141244</td><td style=\"text-align: right;\">0.159908</td><td style=\"text-align: right;\">0.52235 </td><td style=\"text-align: right;\">0.357834</td><td style=\"text-align: right;\">0.119816</td><td style=\"text-align: right;\">0.485945</td><td style=\"text-align: right;\">0.3053  </td><td style=\"text-align: right;\">0.208756</td><td>cluster2  </td></tr>\n",
       "<tr><td style=\"text-align: right;\">              8</td><td style=\"text-align: right;\">                  0.119475</td><td style=\"text-align: right;\">      1230.39</td><td style=\"text-align: right;\">         52.9054</td><td style=\"text-align: right;\">                   0.049497</td><td style=\"text-align: right;\">        332199</td><td style=\"text-align: right;\">0.535817</td><td style=\"text-align: right;\">0.099519</td><td style=\"text-align: right;\">0.210817</td><td style=\"text-align: right;\">0.153846</td><td style=\"text-align: right;\">0.770192</td><td style=\"text-align: right;\">0.176683</td><td style=\"text-align: right;\">0.053125</td><td style=\"text-align: right;\">0.488702</td><td style=\"text-align: right;\">0.469471</td><td style=\"text-align: right;\">0.041827</td><td>cluster1  </td></tr>\n",
       "</tbody>\n",
       "</table>"
      ]
     },
     "metadata": {},
     "output_type": "display_data"
    },
    {
     "data": {
      "text/plain": []
     },
     "execution_count": 5,
     "metadata": {},
     "output_type": "execute_result"
    }
   ],
   "source": [
    "temp = trainData[2:19]\n",
    "print temp.shape\n",
    "temp.head()"
   ]
  },
  {
   "cell_type": "code",
   "execution_count": 6,
   "metadata": {
    "collapsed": false
   },
   "outputs": [
    {
     "name": "stdout",
     "output_type": "stream",
     "text": [
      "Parse progress: |█████████████████████████████████████████████████████████| 100%\n"
     ]
    },
    {
     "data": {
      "text/html": [
       "<table>\n",
       "<thead>\n",
       "<tr><th style=\"text-align: right;\">     driver</th><th style=\"text-align: right;\">  trip</th><th style=\"text-align: right;\">  Average_speed</th><th style=\"text-align: right;\">  Average_ABS_Acceleration</th><th style=\"text-align: right;\">  Average_RPM</th><th style=\"text-align: right;\">  Variance_speed</th><th style=\"text-align: right;\">  Variance_ABS_Acceleration</th><th style=\"text-align: right;\">  Variance_RPM</th><th style=\"text-align: right;\">     v_a</th><th style=\"text-align: right;\">     v_b</th><th style=\"text-align: right;\">     v_c</th><th style=\"text-align: right;\">     v_d</th><th style=\"text-align: right;\">     a_a</th><th style=\"text-align: right;\">     a_b</th><th style=\"text-align: right;\">     a_c</th><th style=\"text-align: right;\">     r_a</th><th style=\"text-align: right;\">     r_b</th><th style=\"text-align: right;\">     r_c</th><th>Catrgory  </th></tr>\n",
       "</thead>\n",
       "<tbody>\n",
       "<tr><td style=\"text-align: right;\">4.10304e+10</td><td style=\"text-align: right;\">     1</td><td style=\"text-align: right;\">              6</td><td style=\"text-align: right;\">                  0.218219</td><td style=\"text-align: right;\">      1209.08</td><td style=\"text-align: right;\">         33.4659</td><td style=\"text-align: right;\">                   0.154504</td><td style=\"text-align: right;\">        242766</td><td style=\"text-align: right;\">0.564121</td><td style=\"text-align: right;\">0.224947</td><td style=\"text-align: right;\">0.16328 </td><td style=\"text-align: right;\">0.047652</td><td style=\"text-align: right;\">0.594954</td><td style=\"text-align: right;\">0.288718</td><td style=\"text-align: right;\">0.116328</td><td style=\"text-align: right;\">0.585144</td><td style=\"text-align: right;\">0.348283</td><td style=\"text-align: right;\">0.066573</td><td>cluster2  </td></tr>\n",
       "<tr><td style=\"text-align: right;\">4.10304e+10</td><td style=\"text-align: right;\">     2</td><td style=\"text-align: right;\">              3</td><td style=\"text-align: right;\">                  0.305416</td><td style=\"text-align: right;\">      1064.18</td><td style=\"text-align: right;\">         24.5744</td><td style=\"text-align: right;\">                   0.283866</td><td style=\"text-align: right;\">        185456</td><td style=\"text-align: right;\">0.575369</td><td style=\"text-align: right;\">0.291626</td><td style=\"text-align: right;\">0.133005</td><td style=\"text-align: right;\">0       </td><td style=\"text-align: right;\">0.57734 </td><td style=\"text-align: right;\">0.210837</td><td style=\"text-align: right;\">0.211823</td><td style=\"text-align: right;\">0.57734 </td><td style=\"text-align: right;\">0.365517</td><td style=\"text-align: right;\">0.057143</td><td>cluster2  </td></tr>\n",
       "<tr><td style=\"text-align: right;\">4.10304e+10</td><td style=\"text-align: right;\">     3</td><td style=\"text-align: right;\">              5</td><td style=\"text-align: right;\">                  0.121377</td><td style=\"text-align: right;\">      1168.5 </td><td style=\"text-align: right;\">         24.3105</td><td style=\"text-align: right;\">                   0.012078</td><td style=\"text-align: right;\">        224469</td><td style=\"text-align: right;\">0.574566</td><td style=\"text-align: right;\">0.269364</td><td style=\"text-align: right;\">0.156069</td><td style=\"text-align: right;\">0       </td><td style=\"text-align: right;\">0.531792</td><td style=\"text-align: right;\">0.393064</td><td style=\"text-align: right;\">0.075145</td><td style=\"text-align: right;\">0.56763 </td><td style=\"text-align: right;\">0.354913</td><td style=\"text-align: right;\">0.077457</td><td>cluster2  </td></tr>\n",
       "<tr><td style=\"text-align: right;\">4.10304e+10</td><td style=\"text-align: right;\">     4</td><td style=\"text-align: right;\">              7</td><td style=\"text-align: right;\">                  0.185244</td><td style=\"text-align: right;\">      1175.39</td><td style=\"text-align: right;\">         41.511 </td><td style=\"text-align: right;\">                   0.323999</td><td style=\"text-align: right;\">        260512</td><td style=\"text-align: right;\">0.498039</td><td style=\"text-align: right;\">0.196078</td><td style=\"text-align: right;\">0.214994</td><td style=\"text-align: right;\">0.090888</td><td style=\"text-align: right;\">0.685582</td><td style=\"text-align: right;\">0.236217</td><td style=\"text-align: right;\">0.078201</td><td style=\"text-align: right;\">0.432757</td><td style=\"text-align: right;\">0.505882</td><td style=\"text-align: right;\">0.061361</td><td>cluster2  </td></tr>\n",
       "<tr><td style=\"text-align: right;\">4.10304e+10</td><td style=\"text-align: right;\">     5</td><td style=\"text-align: right;\">              9</td><td style=\"text-align: right;\">                  0.255851</td><td style=\"text-align: right;\">      1311.18</td><td style=\"text-align: right;\">         53.3696</td><td style=\"text-align: right;\">                   0.440556</td><td style=\"text-align: right;\">        309292</td><td style=\"text-align: right;\">0.39738 </td><td style=\"text-align: right;\">0.131823</td><td style=\"text-align: right;\">0.318504</td><td style=\"text-align: right;\">0.152293</td><td style=\"text-align: right;\">0.543395</td><td style=\"text-align: right;\">0.299945</td><td style=\"text-align: right;\">0.156659</td><td style=\"text-align: right;\">0.32369 </td><td style=\"text-align: right;\">0.60726 </td><td style=\"text-align: right;\">0.06905 </td><td>cluster1  </td></tr>\n",
       "<tr><td style=\"text-align: right;\">4.10304e+10</td><td style=\"text-align: right;\">     6</td><td style=\"text-align: right;\">              5</td><td style=\"text-align: right;\">                  0.137464</td><td style=\"text-align: right;\">      1213.27</td><td style=\"text-align: right;\">         24.9554</td><td style=\"text-align: right;\">                   0.013413</td><td style=\"text-align: right;\">        168325</td><td style=\"text-align: right;\">0.682558</td><td style=\"text-align: right;\">0.077907</td><td style=\"text-align: right;\">0.239535</td><td style=\"text-align: right;\">0       </td><td style=\"text-align: right;\">0.45    </td><td style=\"text-align: right;\">0.50814 </td><td style=\"text-align: right;\">0.04186 </td><td style=\"text-align: right;\">0.45814 </td><td style=\"text-align: right;\">0.502326</td><td style=\"text-align: right;\">0.039535</td><td>cluster2  </td></tr>\n",
       "<tr><td style=\"text-align: right;\">4.10304e+10</td><td style=\"text-align: right;\">     7</td><td style=\"text-align: right;\">              5</td><td style=\"text-align: right;\">                  0.633611</td><td style=\"text-align: right;\">      1321.14</td><td style=\"text-align: right;\">         24.5738</td><td style=\"text-align: right;\">                   0.703718</td><td style=\"text-align: right;\">        710258</td><td style=\"text-align: right;\">0.786486</td><td style=\"text-align: right;\">0.12973 </td><td style=\"text-align: right;\">0.083784</td><td style=\"text-align: right;\">0       </td><td style=\"text-align: right;\">0.767568</td><td style=\"text-align: right;\">0.2     </td><td style=\"text-align: right;\">0.032432</td><td style=\"text-align: right;\">0.778378</td><td style=\"text-align: right;\">0.113514</td><td style=\"text-align: right;\">0.108108</td><td>cluster0  </td></tr>\n",
       "<tr><td style=\"text-align: right;\">4.10304e+10</td><td style=\"text-align: right;\">     8</td><td style=\"text-align: right;\">             11</td><td style=\"text-align: right;\">                  1.22222 </td><td style=\"text-align: right;\">      1197   </td><td style=\"text-align: right;\">          7.4267</td><td style=\"text-align: right;\">                   1.24023 </td><td style=\"text-align: right;\">        357493</td><td style=\"text-align: right;\">0       </td><td style=\"text-align: right;\">0.294118</td><td style=\"text-align: right;\">0.705882</td><td style=\"text-align: right;\">0       </td><td style=\"text-align: right;\">0       </td><td style=\"text-align: right;\">0       </td><td style=\"text-align: right;\">1       </td><td style=\"text-align: right;\">0.529412</td><td style=\"text-align: right;\">0.235294</td><td style=\"text-align: right;\">0.235294</td><td>cluster1  </td></tr>\n",
       "<tr><td style=\"text-align: right;\">4.10304e+10</td><td style=\"text-align: right;\">     9</td><td style=\"text-align: right;\">              6</td><td style=\"text-align: right;\">                  0.287497</td><td style=\"text-align: right;\">      1219.42</td><td style=\"text-align: right;\">         50.7958</td><td style=\"text-align: right;\">                   0.523081</td><td style=\"text-align: right;\">        373730</td><td style=\"text-align: right;\">0.423963</td><td style=\"text-align: right;\">0.274885</td><td style=\"text-align: right;\">0.141244</td><td style=\"text-align: right;\">0.159908</td><td style=\"text-align: right;\">0.52235 </td><td style=\"text-align: right;\">0.357834</td><td style=\"text-align: right;\">0.119816</td><td style=\"text-align: right;\">0.485945</td><td style=\"text-align: right;\">0.3053  </td><td style=\"text-align: right;\">0.208756</td><td>cluster2  </td></tr>\n",
       "<tr><td style=\"text-align: right;\">4.10304e+10</td><td style=\"text-align: right;\">    10</td><td style=\"text-align: right;\">              8</td><td style=\"text-align: right;\">                  0.119475</td><td style=\"text-align: right;\">      1230.39</td><td style=\"text-align: right;\">         52.9055</td><td style=\"text-align: right;\">                   0.049497</td><td style=\"text-align: right;\">        332199</td><td style=\"text-align: right;\">0.535817</td><td style=\"text-align: right;\">0.099519</td><td style=\"text-align: right;\">0.210817</td><td style=\"text-align: right;\">0.153846</td><td style=\"text-align: right;\">0.770192</td><td style=\"text-align: right;\">0.176683</td><td style=\"text-align: right;\">0.053125</td><td style=\"text-align: right;\">0.488702</td><td style=\"text-align: right;\">0.469471</td><td style=\"text-align: right;\">0.041827</td><td>cluster1  </td></tr>\n",
       "</tbody>\n",
       "</table>"
      ]
     },
     "metadata": {},
     "output_type": "display_data"
    },
    {
     "data": {
      "text/plain": []
     },
     "execution_count": 6,
     "metadata": {},
     "output_type": "execute_result"
    }
   ],
   "source": [
    "testData = h2o.import_file(path=\"C:/Users/zzq/Desktop/DataMining/Data/data3/test.csv\")\n",
    "testData.head()"
   ]
  },
  {
   "cell_type": "code",
   "execution_count": 7,
   "metadata": {
    "collapsed": false
   },
   "outputs": [
    {
     "name": "stdout",
     "output_type": "stream",
     "text": [
      "drf Model Build progress: |███████████████████████████████████████████████| 100%\n",
      "drf prediction progress: |████████████████████████████████████████████████| 100%\n"
     ]
    },
    {
     "data": {
      "text/html": [
       "<table>\n",
       "<thead>\n",
       "<tr><th>predict  </th><th style=\"text-align: right;\">  cluster0</th><th style=\"text-align: right;\">  cluster1</th><th style=\"text-align: right;\">  cluster2</th></tr>\n",
       "</thead>\n",
       "<tbody>\n",
       "<tr><td>cluster2 </td><td style=\"text-align: right;\"> 0        </td><td style=\"text-align: right;\">  0       </td><td style=\"text-align: right;\">  1       </td></tr>\n",
       "<tr><td>cluster2 </td><td style=\"text-align: right;\"> 0.1      </td><td style=\"text-align: right;\">  0       </td><td style=\"text-align: right;\">  0.9     </td></tr>\n",
       "<tr><td>cluster2 </td><td style=\"text-align: right;\"> 0        </td><td style=\"text-align: right;\">  0       </td><td style=\"text-align: right;\">  1       </td></tr>\n",
       "<tr><td>cluster2 </td><td style=\"text-align: right;\"> 0        </td><td style=\"text-align: right;\">  0       </td><td style=\"text-align: right;\">  1       </td></tr>\n",
       "<tr><td>cluster1 </td><td style=\"text-align: right;\"> 0        </td><td style=\"text-align: right;\">  1       </td><td style=\"text-align: right;\">  0       </td></tr>\n",
       "<tr><td>cluster2 </td><td style=\"text-align: right;\"> 0        </td><td style=\"text-align: right;\">  0       </td><td style=\"text-align: right;\">  1       </td></tr>\n",
       "<tr><td>cluster0 </td><td style=\"text-align: right;\"> 0.9      </td><td style=\"text-align: right;\">  0.1     </td><td style=\"text-align: right;\">  0       </td></tr>\n",
       "<tr><td>cluster1 </td><td style=\"text-align: right;\"> 0.0909091</td><td style=\"text-align: right;\">  0.727273</td><td style=\"text-align: right;\">  0.181818</td></tr>\n",
       "<tr><td>cluster2 </td><td style=\"text-align: right;\"> 0        </td><td style=\"text-align: right;\">  0       </td><td style=\"text-align: right;\">  1       </td></tr>\n",
       "<tr><td>cluster1 </td><td style=\"text-align: right;\"> 0        </td><td style=\"text-align: right;\">  0.888889</td><td style=\"text-align: right;\">  0.111111</td></tr>\n",
       "</tbody>\n",
       "</table>"
      ]
     },
     "metadata": {},
     "output_type": "display_data"
    },
    {
     "data": {
      "text/plain": []
     },
     "execution_count": 7,
     "metadata": {},
     "output_type": "execute_result"
    }
   ],
   "source": [
    "model = H2ORandomForestEstimator(ntrees = 10, max_depth = 20, nbins = 100)\n",
    "model.train(x=temp.names,y='Catrgory',training_frame=trainData)\n",
    "pre_tag=H2ORandomForestEstimator.predict(model ,testData)\n",
    "pre_tag.head()"
   ]
  },
  {
   "cell_type": "code",
   "execution_count": 41,
   "metadata": {
    "collapsed": false
   },
   "outputs": [
    {
     "name": "stdout",
     "output_type": "stream",
     "text": [
      "Export File progress: |███████████████████████████████████████████████████| 100%\n"
     ]
    },
    {
     "data": {
      "text/plain": [
       "0.8708333333333333"
      ]
     },
     "execution_count": 41,
     "metadata": {},
     "output_type": "execute_result"
    }
   ],
   "source": [
    "from __future__ import division\n",
    "all=testData.cbind(pre_tag[\"predict\"])\n",
    "h2o.export_file(all,\"C:/Users/zzq/Desktop/DataMining/Data/data3/predict.csv\")\n",
    "ori=all.nrow\n",
    "a=all[all[\"Catrgory\"]==all[\"predict\"],:]\n",
    "pred=a.nrow\n",
    "ans=pred/ori\n",
    "ans\n"
   ]
  }
 ],
 "metadata": {
  "kernelspec": {
   "display_name": "Python 2",
   "language": "python",
   "name": "python2"
  },
  "language_info": {
   "codemirror_mode": {
    "name": "ipython",
    "version": 2
   },
   "file_extension": ".py",
   "mimetype": "text/x-python",
   "name": "python",
   "nbconvert_exporter": "python",
   "pygments_lexer": "ipython2",
   "version": "2.7.13"
  }
 },
 "nbformat": 4,
 "nbformat_minor": 0
}
