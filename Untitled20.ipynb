{
 "cells": [
  {
   "cell_type": "code",
   "execution_count": 3,
   "metadata": {
    "collapsed": false
   },
   "outputs": [],
   "source": [
    "# -*- coding:utf-8 -*-\n",
    "import pandas as pd\n",
    "from __future__ import division\n",
    "from sklearn.metrics import mean_squared_error\n",
    "from sklearn.metrics import roc_auc_score\n",
    "data = pd.read_csv(\"C:/Users/zzq/Desktop/DataMining/Data/pythontest3/feature_temp.csv\")\n",
    "train = pd.read_csv(\"C:/Users/zzq/Desktop/DataMining/Data/pythontest3/train.csv\")\n",
    "test = pd.read_csv(\"C:/Users/zzq/Desktop/DataMining/Data/pythontest3/test.csv\")"
   ]
  },
  {
   "cell_type": "code",
   "execution_count": 4,
   "metadata": {
    "collapsed": false
   },
   "outputs": [
    {
     "name": "stdout",
     "output_type": "stream",
     "text": [
      "MSE:0.250000\n",
      "SVR(C=1.0, cache_size=200, coef0=0.0, degree=3, epsilon=0.1, gamma='auto',\n",
      "  kernel='rbf', max_iter=-2, shrinking=True, tol=0.001, verbose=False)\n",
      "准确率 0.0144165205533\n",
      "F1= 0.0284232763587\n"
     ]
    }
   ],
   "source": [
    "train_x = train.iloc[:,2:61]\n",
    "train_y = train.iloc[:,[62]]\n",
    "test_x = test.iloc[:,2:61]\n",
    "test_y = test.iloc[:,[62]]\n",
    "\n",
    "from sklearn import svm \n",
    "clf = svm.SVR(max_iter=-2) \n",
    "clf.fit(train_x, train_y)\n",
    "result = clf.predict(test_x)\n",
    "print \"MSE:%f\" % mean_squared_error(test_y, result, sample_weight=None, multioutput='uniform_average')\n",
    "print clf\n",
    "temp_test = test\n",
    "temp_test[\"predict\"] = result\n",
    "PrecisionSet=temp_test[temp_test.predict >= 0.5]\n",
    "ConnectSet = temp_test[(temp_test[\"target\"] == 1) & (temp_test[\"predict\"] >= 0.5)]\n",
    "ReferenceSet = temp_test[temp_test[\"target\"]== 1]\n",
    "presicion = len(ConnectSet) / len(PrecisionSet)\n",
    "print \"准确率\",presicion\n",
    "recall = len(ConnectSet)/ len(ReferenceSet)\n",
    "F1 = 2*presicion*recall / (presicion+recall) \n",
    "print \"F1=\",F1"
   ]
  },
  {
   "cell_type": "code",
   "execution_count": 5,
   "metadata": {
    "collapsed": false
   },
   "outputs": [
    {
     "name": "stdout",
     "output_type": "stream",
     "text": [
      "MSE:0.031249\n",
      "AUC Score (Train): 0.779658\n",
      "F1= 0.178287731686\n"
     ]
    },
    {
     "name": "stderr",
     "output_type": "stream",
     "text": [
      "C:\\Anaconda2\\lib\\site-packages\\ipykernel\\__main__.py:5: DataConversionWarning: A column-vector y was passed when a 1d array was expected. Please change the shape of y to (n_samples,), for example using ravel().\n"
     ]
    }
   ],
   "source": [
    "from sklearn.ensemble import RandomForestClassifier\n",
    "from sklearn.metrics import precision_recall_fscore_support\n",
    "\n",
    "rf0 = RandomForestClassifier(oob_score=True, random_state=20, max_depth = 7)   \n",
    "rf0.fit(train_x,train_y)\n",
    "#print rf0.oob_score_\n",
    "y_predprob = rf0.predict_proba(test_x)[:,1]\n",
    "print \"MSE:%f\" % mean_squared_error(test_y, y_predprob, sample_weight=None, multioutput='uniform_average')\n",
    "print \"AUC Score (Train): %f\" % roc_auc_score(test_y,y_predprob)\n",
    "#print precision_recall_fscore_support(test_y,y_predprob)\n",
    "\n",
    "temp_test = test\n",
    "temp_test[\"predict\"] = y_predprob\n",
    "PrecisionSet=temp_test[temp_test.predict >= 0.5]\n",
    "#PrecisionSet = temp_test\n",
    "ConnectSet = temp_test[(temp_test[\"target\"] == 1) & (temp_test[\"predict\"] >= 0.5)]\n",
    "ReferenceSet = temp_test[temp_test[\"target\"]== 1]\n",
    "#ReferenceSet = temp_test\n",
    "presicion = len(ConnectSet) / len(PrecisionSet)\n",
    "#print \"准确率\",presicion\n",
    "recall = len(ConnectSet)/ len(ReferenceSet)\n",
    "F1 = 2*presicion*recall / (presicion+recall) \n",
    "print \"F1=\",F1\n"
   ]
  },
  {
   "cell_type": "code",
   "execution_count": 6,
   "metadata": {
    "collapsed": false
   },
   "outputs": [
    {
     "name": "stdout",
     "output_type": "stream",
     "text": [
      "99\n",
      "100\n",
      "MSE:0.034970\n",
      "(array([ 0.98897685,  0.13240418]), array([ 0.97539039,  0.25675676]), array([ 0.98213664,  0.17471264]), array([30354,   444], dtype=int64))\n",
      "F1= 0.174712643678\n"
     ]
    }
   ],
   "source": [
    "import pandas as pd\n",
    "import numpy as np\n",
    "import xgboost as xgb\n",
    "\n",
    "dtrain = xgb.DMatrix(train_x, label=train_y)\n",
    "dtest = xgb.DMatrix(test_x)\n",
    "num_round =100\n",
    "\n",
    "params={\n",
    "'booster':'gbtree',\n",
    "'objective': 'multi:softmax', #多分类的问题\n",
    "'num_class':10, # 类别数，与 multisoftmax 并用\n",
    "'gamma':0.1,  # 用于控制是否后剪枝的参数,越大越保守，一般0.1、0.2这样子。\n",
    "'max_depth':4, # 构建树的深度，越大越容易过拟合\n",
    "'lambda':35,  # 控制模型复杂度的权重值的L2正则化项参数，参数越大，模型越不容易过拟合。\n",
    "'colsample_bytree':0.7, # 生成树时进行的列采样\n",
    "'min_child_weight':1, \n",
    "# 这个参数默认是 1，是每个叶子里面 h 的和至少是多少，对正负样本不均衡时的 0-1 分类而言\n",
    "#，假设 h 在 0.01 附近，min_child_weight 为 1 意味着叶子节点中最少需要包含 100 个样本。\n",
    "#这个参数非常影响结果，控制叶子节点中二阶导的和的最小值，该参数值越小，越容易 overfitting。 \n",
    "'subsample':0.6, # 随机采样训练样本\n",
    "'silent':0 ,#设置成1则没有运行信息输出，最好是设置为0.\n",
    "'eta': 0.3, # 如同学习率\n",
    "'seed':1000,\n",
    "'nthread':4,# cpu 线程数\n",
    "'eval_metric':'auc',\n",
    "'n_estimators':2\n",
    "}\n",
    "\n",
    "bst = xgb.train(params, dtrain, num_round)\n",
    "y = bst.predict(dtest)\n",
    "print bst.best_iteration\n",
    "print bst.best_ntree_limit\n",
    "tmp_test = test\n",
    "tmp_test[\"predict\"] = y\n",
    "from sklearn.metrics import mean_squared_error\n",
    "from sklearn.metrics import precision_recall_fscore_support\n",
    "\n",
    "print \"MSE:%f\" % mean_squared_error(test_y, y, sample_weight=None, multioutput='uniform_average')\n",
    "print precision_recall_fscore_support(test_y,y)\n",
    "\n",
    "from __future__ import division\n",
    "PrecisionSet=tmp_test[tmp_test.predict>=0.5]\n",
    "ConnectSet = tmp_test[(tmp_test[\"target\"]== 1) & (tmp_test[\"predict\"] >= 0.5)]\n",
    "ReferenceSet = tmp_test[tmp_test[\"target\"]== 1]\n",
    "presicion = len(ConnectSet) / len(PrecisionSet)\n",
    "#print \"准确率\",presicion\n",
    "recall = len(ConnectSet)/ len(ReferenceSet)\n",
    "F1 = 2*presicion*recall / (presicion+recall) \n",
    "print \"F1=\",F1"
   ]
  },
  {
   "cell_type": "code",
   "execution_count": 7,
   "metadata": {
    "collapsed": false
   },
   "outputs": [
    {
     "name": "stdout",
     "output_type": "stream",
     "text": [
      "DecisionTreeClassifier(class_weight=None, criterion='gini', max_depth=3,\n",
      "            max_features=None, max_leaf_nodes=None,\n",
      "            min_impurity_decrease=0.0, min_impurity_split=None,\n",
      "            min_samples_leaf=1, min_samples_split=2,\n",
      "            min_weight_fraction_leaf=0.0, presort=False, random_state=None,\n",
      "            splitter='best')\n",
      "MSE:0.039580\n",
      "F1= 0.142153413089\n"
     ]
    }
   ],
   "source": [
    "from sklearn import tree  \n",
    "from sklearn.tree import DecisionTreeClassifier\n",
    "from sklearn.metrics import mean_squared_error\n",
    "clf = tree.DecisionTreeClassifier(max_depth = 3) \n",
    "clf.fit(train_x, train_y) \n",
    "y_pre = clf.predict(test_x)\n",
    "print clf\n",
    "#criterion='entropy', max_depth=2,random_state=500\n",
    "t_test = test\n",
    "t_test[\"predict\"] = y_pre\n",
    "print \"MSE:%f\" % mean_squared_error(test_y, y_pre, sample_weight=None, multioutput='uniform_average')\n",
    "from __future__ import division\n",
    "PrecisionSet=t_test[t_test.predict==1]\n",
    "ConnectSet = t_test[(t_test[\"target\"]== 1) & (t_test[\"predict\"] == 1)]\n",
    "ReferenceSet = t_test[t_test[\"target\"]== 1]\n",
    "presicion = len(ConnectSet) / len(PrecisionSet)\n",
    "#print \"准确率\",presicion\n",
    "recall = len(ConnectSet)/ len(ReferenceSet)\n",
    "F1 = 2*presicion*recall / (presicion+recall) \n",
    "print \"F1=\",F1"
   ]
  },
  {
   "cell_type": "code",
   "execution_count": null,
   "metadata": {
    "collapsed": true
   },
   "outputs": [],
   "source": []
  }
 ],
 "metadata": {
  "kernelspec": {
   "display_name": "Python 2",
   "language": "python",
   "name": "python2"
  },
  "language_info": {
   "codemirror_mode": {
    "name": "ipython",
    "version": 2
   },
   "file_extension": ".py",
   "mimetype": "text/x-python",
   "name": "python",
   "nbconvert_exporter": "python",
   "pygments_lexer": "ipython2",
   "version": "2.7.13"
  }
 },
 "nbformat": 4,
 "nbformat_minor": 0
}
