{
 "cells": [
  {
   "cell_type": "code",
   "execution_count": 2,
   "metadata": {
    "collapsed": false
   },
   "outputs": [
    {
     "name": "stdout",
     "output_type": "stream",
     "text": [
      "             created_at  forks_count           full_name  has_issues  \\\n",
      "0  2011-09-01T12:13:59Z          0.0       hjiang/sketch         1.0   \n",
      "1  2010-12-04T06:14:09Z          0.0  hjiang/sicp-kindle         0.0   \n",
      "2  2015-11-27T10:11:56Z          2.0      hjiang/scripts         1.0   \n",
      "3  2016-06-13T03:39:26Z          3.0   hjiang/role-model         1.0   \n",
      "4  2015-02-28T04:41:42Z          0.0     hjiang/Pushups2         1.0   \n",
      "\n",
      "   has_wiki  open_issues_count    owner             pushed_at  \\\n",
      "0       1.0                0.0  18527.0  2012-04-21T03:15:28Z   \n",
      "1       1.0                0.0  18527.0  2010-01-10T17:42:13Z   \n",
      "2       1.0                1.0  18527.0  2015-12-07T11:35:29Z   \n",
      "3       1.0                0.0  18527.0  2016-11-16T04:19:22Z   \n",
      "4       1.0                0.0  18527.0  2015-02-28T05:03:31Z   \n",
      "\n",
      "   stargazers_count            updated_at  watchers_count  \n",
      "0               1.0  2013-12-06T11:51:50Z             1.0  \n",
      "1               1.0  2012-12-16T01:35:27Z             1.0  \n",
      "2               8.0  2017-11-06T09:59:06Z             8.0  \n",
      "3               5.0  2016-10-26T06:26:14Z             5.0  \n",
      "4               0.0  2015-02-28T05:03:32Z             0.0  \n"
     ]
    }
   ],
   "source": [
    "# -*- coding:utf-8 -*-\n",
    "from sklearn.decomposition import PCA\n",
    "import matplotlib.pyplot as plt\n",
    "plt.rcParams['axes.unicode_minus']=False\n",
    "%matplotlib inline\n",
    "import pandas as pd\n",
    "from sklearn.cluster import  KMeans\n",
    "data = pd.read_csv(\"C:/Users/zzq/Desktop/DataMining/Data/GitHub/repo.csv\")\n",
    "print data.head()"
   ]
  },
  {
   "cell_type": "code",
   "execution_count": 3,
   "metadata": {
    "collapsed": false
   },
   "outputs": [
    {
     "name": "stdout",
     "output_type": "stream",
     "text": [
      "                                      blog    company            created_at  \\\n",
      "0                       http://hjiang.net/  LeanCloud  2008-07-27T00:17:58Z   \n",
      "1                       http://icyleaf.com  Qyer Inc.  2008-07-22T10:16:48Z   \n",
      "2  http://www.douban.com/people/ufologist/        NaN  2009-12-14T05:18:14Z   \n",
      "3                                      NaN    Tencent  2014-05-03T16:40:33Z   \n",
      "4                                      NaN     华南理工大学  2014-01-24T10:37:08Z   \n",
      "\n",
      "                  email  followers  following         id          location  \\\n",
      "0                   NaN      196.0       14.0    18527.0             China   \n",
      "1  icyleaf.cn@gmail.com      196.0       57.0    17814.0    Beijing, China   \n",
      "2  klsforever@gmail.com      196.0      192.0   167221.0   Changsha, China   \n",
      "3      314416946@qq.com      196.0        2.0  7475208.0   Shenzhen, China   \n",
      "4        gjiazhe@qq.com      197.0        6.0  6490662.0  Guangzhou, China   \n",
      "\n",
      "   public_gists  public_repos            updated_at  \n",
      "0           2.0          36.0  2017-12-09T05:30:08Z  \n",
      "1          38.0          80.0  2017-12-31T02:09:47Z  \n",
      "2          39.0          44.0  2018-01-08T15:18:02Z  \n",
      "3           0.0          27.0  2017-07-24T15:05:15Z  \n",
      "4           1.0          12.0  2018-01-11T08:47:27Z  \n"
     ]
    }
   ],
   "source": [
    "user = pd.read_csv(\"C:/Users/zzq/Desktop/DataMining/Data/GitHub/user.csv\")\n",
    "print user.head()"
   ]
  },
  {
   "cell_type": "code",
   "execution_count": null,
   "metadata": {
    "collapsed": true
   },
   "outputs": [],
   "source": []
  }
 ],
 "metadata": {
  "kernelspec": {
   "display_name": "Python 2",
   "language": "python",
   "name": "python2"
  },
  "language_info": {
   "codemirror_mode": {
    "name": "ipython",
    "version": 2
   },
   "file_extension": ".py",
   "mimetype": "text/x-python",
   "name": "python",
   "nbconvert_exporter": "python",
   "pygments_lexer": "ipython2",
   "version": "2.7.13"
  }
 },
 "nbformat": 4,
 "nbformat_minor": 0
}
