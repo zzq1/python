{
 "cells": [
  {
   "cell_type": "code",
   "execution_count": null,
   "metadata": {
    "collapsed": false
   },
   "outputs": [],
   "source": [
    "# -*- coding:utf-8 -*-\n",
    "import h2o\n",
    "h2o.init()\n",
    "h2o.demo(\"glm\")"
   ]
  },
  {
   "cell_type": "code",
   "execution_count": 2,
   "metadata": {
    "collapsed": false
   },
   "outputs": [
    {
     "name": "stdout",
     "output_type": "stream",
     "text": [
      "Parse progress: |█████████████████████████████████████████████████████████| 100%\n",
      "(598, 19)\n"
     ]
    },
    {
     "data": {
      "text/html": [
       "<table>\n",
       "<thead>\n",
       "<tr><th style=\"text-align: right;\">     driver</th><th style=\"text-align: right;\">  trip</th><th style=\"text-align: right;\">  Average_speed</th><th style=\"text-align: right;\">  Average_ABS_Acceleration</th><th style=\"text-align: right;\">  Average_RPM</th><th style=\"text-align: right;\">  Variance_speed</th><th style=\"text-align: right;\">  Variance_ABS_Acceleration</th><th style=\"text-align: right;\">  Variance_RPM</th><th style=\"text-align: right;\">     v_a</th><th style=\"text-align: right;\">     v_b</th><th style=\"text-align: right;\">     v_c</th><th style=\"text-align: right;\">     v_d</th><th style=\"text-align: right;\">     a_a</th><th style=\"text-align: right;\">     a_b</th><th style=\"text-align: right;\">     a_c</th><th style=\"text-align: right;\">     r_a</th><th style=\"text-align: right;\">     r_b</th><th style=\"text-align: right;\">     r_c</th><th>Catrgory  </th></tr>\n",
       "</thead>\n",
       "<tbody>\n",
       "<tr><td style=\"text-align: right;\">4.10304e+10</td><td style=\"text-align: right;\">     1</td><td style=\"text-align: right;\">              6</td><td style=\"text-align: right;\">                  0.218219</td><td style=\"text-align: right;\">      1209.08</td><td style=\"text-align: right;\">         33.4659</td><td style=\"text-align: right;\">                   0.154504</td><td style=\"text-align: right;\">        242766</td><td style=\"text-align: right;\">0.564121</td><td style=\"text-align: right;\">0.224947</td><td style=\"text-align: right;\">0.16328 </td><td style=\"text-align: right;\">0.047652</td><td style=\"text-align: right;\">0.594954</td><td style=\"text-align: right;\">0.288718</td><td style=\"text-align: right;\">0.116328</td><td style=\"text-align: right;\">0.585144</td><td style=\"text-align: right;\">0.348283</td><td style=\"text-align: right;\">0.066573</td><td>cluster2  </td></tr>\n",
       "<tr><td style=\"text-align: right;\">4.10304e+10</td><td style=\"text-align: right;\">     2</td><td style=\"text-align: right;\">              3</td><td style=\"text-align: right;\">                  0.305416</td><td style=\"text-align: right;\">      1064.18</td><td style=\"text-align: right;\">         24.5744</td><td style=\"text-align: right;\">                   0.283866</td><td style=\"text-align: right;\">        185456</td><td style=\"text-align: right;\">0.575369</td><td style=\"text-align: right;\">0.291626</td><td style=\"text-align: right;\">0.133005</td><td style=\"text-align: right;\">0       </td><td style=\"text-align: right;\">0.57734 </td><td style=\"text-align: right;\">0.210837</td><td style=\"text-align: right;\">0.211823</td><td style=\"text-align: right;\">0.57734 </td><td style=\"text-align: right;\">0.365517</td><td style=\"text-align: right;\">0.057143</td><td>cluster2  </td></tr>\n",
       "<tr><td style=\"text-align: right;\">4.10304e+10</td><td style=\"text-align: right;\">     3</td><td style=\"text-align: right;\">              5</td><td style=\"text-align: right;\">                  0.121377</td><td style=\"text-align: right;\">      1168.5 </td><td style=\"text-align: right;\">         24.3105</td><td style=\"text-align: right;\">                   0.012078</td><td style=\"text-align: right;\">        224469</td><td style=\"text-align: right;\">0.574566</td><td style=\"text-align: right;\">0.269364</td><td style=\"text-align: right;\">0.156069</td><td style=\"text-align: right;\">0       </td><td style=\"text-align: right;\">0.531792</td><td style=\"text-align: right;\">0.393064</td><td style=\"text-align: right;\">0.075145</td><td style=\"text-align: right;\">0.56763 </td><td style=\"text-align: right;\">0.354913</td><td style=\"text-align: right;\">0.077457</td><td>cluster2  </td></tr>\n",
       "<tr><td style=\"text-align: right;\">4.10304e+10</td><td style=\"text-align: right;\">     4</td><td style=\"text-align: right;\">              7</td><td style=\"text-align: right;\">                  0.185244</td><td style=\"text-align: right;\">      1175.39</td><td style=\"text-align: right;\">         41.511 </td><td style=\"text-align: right;\">                   0.323999</td><td style=\"text-align: right;\">        260512</td><td style=\"text-align: right;\">0.498039</td><td style=\"text-align: right;\">0.196078</td><td style=\"text-align: right;\">0.214994</td><td style=\"text-align: right;\">0.090888</td><td style=\"text-align: right;\">0.685582</td><td style=\"text-align: right;\">0.236217</td><td style=\"text-align: right;\">0.078201</td><td style=\"text-align: right;\">0.432757</td><td style=\"text-align: right;\">0.505882</td><td style=\"text-align: right;\">0.061361</td><td>cluster2  </td></tr>\n",
       "<tr><td style=\"text-align: right;\">4.10304e+10</td><td style=\"text-align: right;\">     5</td><td style=\"text-align: right;\">              9</td><td style=\"text-align: right;\">                  0.255851</td><td style=\"text-align: right;\">      1311.18</td><td style=\"text-align: right;\">         53.3696</td><td style=\"text-align: right;\">                   0.440556</td><td style=\"text-align: right;\">        309292</td><td style=\"text-align: right;\">0.39738 </td><td style=\"text-align: right;\">0.131823</td><td style=\"text-align: right;\">0.318504</td><td style=\"text-align: right;\">0.152293</td><td style=\"text-align: right;\">0.543395</td><td style=\"text-align: right;\">0.299945</td><td style=\"text-align: right;\">0.156659</td><td style=\"text-align: right;\">0.32369 </td><td style=\"text-align: right;\">0.60726 </td><td style=\"text-align: right;\">0.06905 </td><td>cluster1  </td></tr>\n",
       "<tr><td style=\"text-align: right;\">4.10304e+10</td><td style=\"text-align: right;\">     6</td><td style=\"text-align: right;\">              5</td><td style=\"text-align: right;\">                  0.137464</td><td style=\"text-align: right;\">      1213.27</td><td style=\"text-align: right;\">         24.9554</td><td style=\"text-align: right;\">                   0.013413</td><td style=\"text-align: right;\">        168325</td><td style=\"text-align: right;\">0.682558</td><td style=\"text-align: right;\">0.077907</td><td style=\"text-align: right;\">0.239535</td><td style=\"text-align: right;\">0       </td><td style=\"text-align: right;\">0.45    </td><td style=\"text-align: right;\">0.50814 </td><td style=\"text-align: right;\">0.04186 </td><td style=\"text-align: right;\">0.45814 </td><td style=\"text-align: right;\">0.502326</td><td style=\"text-align: right;\">0.039535</td><td>cluster2  </td></tr>\n",
       "<tr><td style=\"text-align: right;\">4.10304e+10</td><td style=\"text-align: right;\">     7</td><td style=\"text-align: right;\">              5</td><td style=\"text-align: right;\">                  0.633611</td><td style=\"text-align: right;\">      1321.14</td><td style=\"text-align: right;\">         24.5738</td><td style=\"text-align: right;\">                   0.703718</td><td style=\"text-align: right;\">        710258</td><td style=\"text-align: right;\">0.786486</td><td style=\"text-align: right;\">0.12973 </td><td style=\"text-align: right;\">0.083784</td><td style=\"text-align: right;\">0       </td><td style=\"text-align: right;\">0.767568</td><td style=\"text-align: right;\">0.2     </td><td style=\"text-align: right;\">0.032432</td><td style=\"text-align: right;\">0.778378</td><td style=\"text-align: right;\">0.113514</td><td style=\"text-align: right;\">0.108108</td><td>cluster0  </td></tr>\n",
       "<tr><td style=\"text-align: right;\">4.10304e+10</td><td style=\"text-align: right;\">     8</td><td style=\"text-align: right;\">             11</td><td style=\"text-align: right;\">                  1.22222 </td><td style=\"text-align: right;\">      1197   </td><td style=\"text-align: right;\">          7.4267</td><td style=\"text-align: right;\">                   1.24023 </td><td style=\"text-align: right;\">        357493</td><td style=\"text-align: right;\">0       </td><td style=\"text-align: right;\">0.294118</td><td style=\"text-align: right;\">0.705882</td><td style=\"text-align: right;\">0       </td><td style=\"text-align: right;\">0       </td><td style=\"text-align: right;\">0       </td><td style=\"text-align: right;\">1       </td><td style=\"text-align: right;\">0.529412</td><td style=\"text-align: right;\">0.235294</td><td style=\"text-align: right;\">0.235294</td><td>cluster1  </td></tr>\n",
       "<tr><td style=\"text-align: right;\">4.10304e+10</td><td style=\"text-align: right;\">     9</td><td style=\"text-align: right;\">              6</td><td style=\"text-align: right;\">                  0.287497</td><td style=\"text-align: right;\">      1219.42</td><td style=\"text-align: right;\">         50.7958</td><td style=\"text-align: right;\">                   0.523081</td><td style=\"text-align: right;\">        373730</td><td style=\"text-align: right;\">0.423963</td><td style=\"text-align: right;\">0.274885</td><td style=\"text-align: right;\">0.141244</td><td style=\"text-align: right;\">0.159908</td><td style=\"text-align: right;\">0.52235 </td><td style=\"text-align: right;\">0.357834</td><td style=\"text-align: right;\">0.119816</td><td style=\"text-align: right;\">0.485945</td><td style=\"text-align: right;\">0.3053  </td><td style=\"text-align: right;\">0.208756</td><td>cluster2  </td></tr>\n",
       "<tr><td style=\"text-align: right;\">4.10304e+10</td><td style=\"text-align: right;\">    10</td><td style=\"text-align: right;\">              8</td><td style=\"text-align: right;\">                  0.119475</td><td style=\"text-align: right;\">      1230.39</td><td style=\"text-align: right;\">         52.9054</td><td style=\"text-align: right;\">                   0.049497</td><td style=\"text-align: right;\">        332199</td><td style=\"text-align: right;\">0.535817</td><td style=\"text-align: right;\">0.099519</td><td style=\"text-align: right;\">0.210817</td><td style=\"text-align: right;\">0.153846</td><td style=\"text-align: right;\">0.770192</td><td style=\"text-align: right;\">0.176683</td><td style=\"text-align: right;\">0.053125</td><td style=\"text-align: right;\">0.488702</td><td style=\"text-align: right;\">0.469471</td><td style=\"text-align: right;\">0.041827</td><td>cluster1  </td></tr>\n",
       "</tbody>\n",
       "</table>"
      ]
     },
     "metadata": {},
     "output_type": "display_data"
    },
    {
     "data": {
      "text/plain": []
     },
     "execution_count": 2,
     "metadata": {},
     "output_type": "execute_result"
    }
   ],
   "source": [
    "from h2o.estimators.random_forest import H2ORandomForestEstimator\n",
    "trainData = h2o.import_file(path=\"C:/Users/zzq/Desktop/DataMining/Data/data3/train.csv\")\n",
    "print trainData.shape\n",
    "trainData.head()"
   ]
  },
  {
   "cell_type": "code",
   "execution_count": 3,
   "metadata": {
    "collapsed": false
   },
   "outputs": [
    {
     "data": {
      "text/html": [
       "<table>\n",
       "<thead>\n",
       "<tr><th style=\"text-align: right;\">  Average_speed</th><th style=\"text-align: right;\">     v_a</th><th style=\"text-align: right;\">     r_a</th><th style=\"text-align: right;\">     r_b</th><th style=\"text-align: right;\">     v_d</th><th style=\"text-align: right;\">  Average_RPM</th><th style=\"text-align: right;\">  Variance_speed</th><th style=\"text-align: right;\">     v_c</th></tr>\n",
       "</thead>\n",
       "<tbody>\n",
       "<tr><td style=\"text-align: right;\">              6</td><td style=\"text-align: right;\">0.564121</td><td style=\"text-align: right;\">0.585144</td><td style=\"text-align: right;\">0.348283</td><td style=\"text-align: right;\">0.047652</td><td style=\"text-align: right;\">      1209.08</td><td style=\"text-align: right;\">         33.4659</td><td style=\"text-align: right;\">0.16328 </td></tr>\n",
       "<tr><td style=\"text-align: right;\">              3</td><td style=\"text-align: right;\">0.575369</td><td style=\"text-align: right;\">0.57734 </td><td style=\"text-align: right;\">0.365517</td><td style=\"text-align: right;\">0       </td><td style=\"text-align: right;\">      1064.18</td><td style=\"text-align: right;\">         24.5744</td><td style=\"text-align: right;\">0.133005</td></tr>\n",
       "<tr><td style=\"text-align: right;\">              5</td><td style=\"text-align: right;\">0.574566</td><td style=\"text-align: right;\">0.56763 </td><td style=\"text-align: right;\">0.354913</td><td style=\"text-align: right;\">0       </td><td style=\"text-align: right;\">      1168.5 </td><td style=\"text-align: right;\">         24.3105</td><td style=\"text-align: right;\">0.156069</td></tr>\n",
       "<tr><td style=\"text-align: right;\">              7</td><td style=\"text-align: right;\">0.498039</td><td style=\"text-align: right;\">0.432757</td><td style=\"text-align: right;\">0.505882</td><td style=\"text-align: right;\">0.090888</td><td style=\"text-align: right;\">      1175.39</td><td style=\"text-align: right;\">         41.511 </td><td style=\"text-align: right;\">0.214994</td></tr>\n",
       "<tr><td style=\"text-align: right;\">              9</td><td style=\"text-align: right;\">0.39738 </td><td style=\"text-align: right;\">0.32369 </td><td style=\"text-align: right;\">0.60726 </td><td style=\"text-align: right;\">0.152293</td><td style=\"text-align: right;\">      1311.18</td><td style=\"text-align: right;\">         53.3696</td><td style=\"text-align: right;\">0.318504</td></tr>\n",
       "<tr><td style=\"text-align: right;\">              5</td><td style=\"text-align: right;\">0.682558</td><td style=\"text-align: right;\">0.45814 </td><td style=\"text-align: right;\">0.502326</td><td style=\"text-align: right;\">0       </td><td style=\"text-align: right;\">      1213.27</td><td style=\"text-align: right;\">         24.9554</td><td style=\"text-align: right;\">0.239535</td></tr>\n",
       "<tr><td style=\"text-align: right;\">              5</td><td style=\"text-align: right;\">0.786486</td><td style=\"text-align: right;\">0.778378</td><td style=\"text-align: right;\">0.113514</td><td style=\"text-align: right;\">0       </td><td style=\"text-align: right;\">      1321.14</td><td style=\"text-align: right;\">         24.5738</td><td style=\"text-align: right;\">0.083784</td></tr>\n",
       "<tr><td style=\"text-align: right;\">             11</td><td style=\"text-align: right;\">0       </td><td style=\"text-align: right;\">0.529412</td><td style=\"text-align: right;\">0.235294</td><td style=\"text-align: right;\">0       </td><td style=\"text-align: right;\">      1197   </td><td style=\"text-align: right;\">          7.4267</td><td style=\"text-align: right;\">0.705882</td></tr>\n",
       "<tr><td style=\"text-align: right;\">              6</td><td style=\"text-align: right;\">0.423963</td><td style=\"text-align: right;\">0.485945</td><td style=\"text-align: right;\">0.3053  </td><td style=\"text-align: right;\">0.159908</td><td style=\"text-align: right;\">      1219.42</td><td style=\"text-align: right;\">         50.7958</td><td style=\"text-align: right;\">0.141244</td></tr>\n",
       "<tr><td style=\"text-align: right;\">              8</td><td style=\"text-align: right;\">0.535817</td><td style=\"text-align: right;\">0.488702</td><td style=\"text-align: right;\">0.469471</td><td style=\"text-align: right;\">0.153846</td><td style=\"text-align: right;\">      1230.39</td><td style=\"text-align: right;\">         52.9054</td><td style=\"text-align: right;\">0.210817</td></tr>\n",
       "</tbody>\n",
       "</table>"
      ]
     },
     "metadata": {},
     "output_type": "display_data"
    },
    {
     "data": {
      "text/plain": []
     },
     "execution_count": 3,
     "metadata": {},
     "output_type": "execute_result"
    }
   ],
   "source": [
    "temp = trainData[['Average_speed','v_a','r_a','r_b','v_d','Average_RPM','Variance_speed','v_c']]\n",
    "temp.head()"
   ]
  },
  {
   "cell_type": "code",
   "execution_count": 4,
   "metadata": {
    "collapsed": false
   },
   "outputs": [
    {
     "name": "stdout",
     "output_type": "stream",
     "text": [
      "Parse progress: |█████████████████████████████████████████████████████████| 100%\n"
     ]
    },
    {
     "data": {
      "text/html": [
       "<table>\n",
       "<thead>\n",
       "<tr><th style=\"text-align: right;\">     driver</th><th style=\"text-align: right;\">  trip</th><th style=\"text-align: right;\">  Average_speed</th><th style=\"text-align: right;\">  Average_ABS_Acceleration</th><th style=\"text-align: right;\">  Average_RPM</th><th style=\"text-align: right;\">  Variance_speed</th><th style=\"text-align: right;\">  Variance_ABS_Acceleration</th><th style=\"text-align: right;\">  Variance_RPM</th><th style=\"text-align: right;\">     v_a</th><th style=\"text-align: right;\">     v_b</th><th style=\"text-align: right;\">     v_c</th><th style=\"text-align: right;\">     v_d</th><th style=\"text-align: right;\">     a_a</th><th style=\"text-align: right;\">     a_b</th><th style=\"text-align: right;\">     a_c</th><th style=\"text-align: right;\">     r_a</th><th style=\"text-align: right;\">     r_b</th><th style=\"text-align: right;\">     r_c</th><th>Catrgory  </th></tr>\n",
       "</thead>\n",
       "<tbody>\n",
       "<tr><td style=\"text-align: right;\">4.10304e+10</td><td style=\"text-align: right;\">     1</td><td style=\"text-align: right;\">              6</td><td style=\"text-align: right;\">                  0.218219</td><td style=\"text-align: right;\">      1209.08</td><td style=\"text-align: right;\">         33.4659</td><td style=\"text-align: right;\">                   0.154504</td><td style=\"text-align: right;\">        242766</td><td style=\"text-align: right;\">0.564121</td><td style=\"text-align: right;\">0.224947</td><td style=\"text-align: right;\">0.16328 </td><td style=\"text-align: right;\">0.047652</td><td style=\"text-align: right;\">0.594954</td><td style=\"text-align: right;\">0.288718</td><td style=\"text-align: right;\">0.116328</td><td style=\"text-align: right;\">0.585144</td><td style=\"text-align: right;\">0.348283</td><td style=\"text-align: right;\">0.066573</td><td>cluster2  </td></tr>\n",
       "<tr><td style=\"text-align: right;\">4.10304e+10</td><td style=\"text-align: right;\">     2</td><td style=\"text-align: right;\">              3</td><td style=\"text-align: right;\">                  0.305416</td><td style=\"text-align: right;\">      1064.18</td><td style=\"text-align: right;\">         24.5744</td><td style=\"text-align: right;\">                   0.283866</td><td style=\"text-align: right;\">        185456</td><td style=\"text-align: right;\">0.575369</td><td style=\"text-align: right;\">0.291626</td><td style=\"text-align: right;\">0.133005</td><td style=\"text-align: right;\">0       </td><td style=\"text-align: right;\">0.57734 </td><td style=\"text-align: right;\">0.210837</td><td style=\"text-align: right;\">0.211823</td><td style=\"text-align: right;\">0.57734 </td><td style=\"text-align: right;\">0.365517</td><td style=\"text-align: right;\">0.057143</td><td>cluster2  </td></tr>\n",
       "<tr><td style=\"text-align: right;\">4.10304e+10</td><td style=\"text-align: right;\">     3</td><td style=\"text-align: right;\">              5</td><td style=\"text-align: right;\">                  0.121377</td><td style=\"text-align: right;\">      1168.5 </td><td style=\"text-align: right;\">         24.3105</td><td style=\"text-align: right;\">                   0.012078</td><td style=\"text-align: right;\">        224469</td><td style=\"text-align: right;\">0.574566</td><td style=\"text-align: right;\">0.269364</td><td style=\"text-align: right;\">0.156069</td><td style=\"text-align: right;\">0       </td><td style=\"text-align: right;\">0.531792</td><td style=\"text-align: right;\">0.393064</td><td style=\"text-align: right;\">0.075145</td><td style=\"text-align: right;\">0.56763 </td><td style=\"text-align: right;\">0.354913</td><td style=\"text-align: right;\">0.077457</td><td>cluster2  </td></tr>\n",
       "<tr><td style=\"text-align: right;\">4.10304e+10</td><td style=\"text-align: right;\">     4</td><td style=\"text-align: right;\">              7</td><td style=\"text-align: right;\">                  0.185244</td><td style=\"text-align: right;\">      1175.39</td><td style=\"text-align: right;\">         41.511 </td><td style=\"text-align: right;\">                   0.323999</td><td style=\"text-align: right;\">        260512</td><td style=\"text-align: right;\">0.498039</td><td style=\"text-align: right;\">0.196078</td><td style=\"text-align: right;\">0.214994</td><td style=\"text-align: right;\">0.090888</td><td style=\"text-align: right;\">0.685582</td><td style=\"text-align: right;\">0.236217</td><td style=\"text-align: right;\">0.078201</td><td style=\"text-align: right;\">0.432757</td><td style=\"text-align: right;\">0.505882</td><td style=\"text-align: right;\">0.061361</td><td>cluster2  </td></tr>\n",
       "<tr><td style=\"text-align: right;\">4.10304e+10</td><td style=\"text-align: right;\">     5</td><td style=\"text-align: right;\">              9</td><td style=\"text-align: right;\">                  0.255851</td><td style=\"text-align: right;\">      1311.18</td><td style=\"text-align: right;\">         53.3696</td><td style=\"text-align: right;\">                   0.440556</td><td style=\"text-align: right;\">        309292</td><td style=\"text-align: right;\">0.39738 </td><td style=\"text-align: right;\">0.131823</td><td style=\"text-align: right;\">0.318504</td><td style=\"text-align: right;\">0.152293</td><td style=\"text-align: right;\">0.543395</td><td style=\"text-align: right;\">0.299945</td><td style=\"text-align: right;\">0.156659</td><td style=\"text-align: right;\">0.32369 </td><td style=\"text-align: right;\">0.60726 </td><td style=\"text-align: right;\">0.06905 </td><td>cluster1  </td></tr>\n",
       "<tr><td style=\"text-align: right;\">4.10304e+10</td><td style=\"text-align: right;\">     6</td><td style=\"text-align: right;\">              5</td><td style=\"text-align: right;\">                  0.137464</td><td style=\"text-align: right;\">      1213.27</td><td style=\"text-align: right;\">         24.9554</td><td style=\"text-align: right;\">                   0.013413</td><td style=\"text-align: right;\">        168325</td><td style=\"text-align: right;\">0.682558</td><td style=\"text-align: right;\">0.077907</td><td style=\"text-align: right;\">0.239535</td><td style=\"text-align: right;\">0       </td><td style=\"text-align: right;\">0.45    </td><td style=\"text-align: right;\">0.50814 </td><td style=\"text-align: right;\">0.04186 </td><td style=\"text-align: right;\">0.45814 </td><td style=\"text-align: right;\">0.502326</td><td style=\"text-align: right;\">0.039535</td><td>cluster2  </td></tr>\n",
       "<tr><td style=\"text-align: right;\">4.10304e+10</td><td style=\"text-align: right;\">     7</td><td style=\"text-align: right;\">              5</td><td style=\"text-align: right;\">                  0.633611</td><td style=\"text-align: right;\">      1321.14</td><td style=\"text-align: right;\">         24.5738</td><td style=\"text-align: right;\">                   0.703718</td><td style=\"text-align: right;\">        710258</td><td style=\"text-align: right;\">0.786486</td><td style=\"text-align: right;\">0.12973 </td><td style=\"text-align: right;\">0.083784</td><td style=\"text-align: right;\">0       </td><td style=\"text-align: right;\">0.767568</td><td style=\"text-align: right;\">0.2     </td><td style=\"text-align: right;\">0.032432</td><td style=\"text-align: right;\">0.778378</td><td style=\"text-align: right;\">0.113514</td><td style=\"text-align: right;\">0.108108</td><td>cluster0  </td></tr>\n",
       "<tr><td style=\"text-align: right;\">4.10304e+10</td><td style=\"text-align: right;\">     8</td><td style=\"text-align: right;\">             11</td><td style=\"text-align: right;\">                  1.22222 </td><td style=\"text-align: right;\">      1197   </td><td style=\"text-align: right;\">          7.4267</td><td style=\"text-align: right;\">                   1.24023 </td><td style=\"text-align: right;\">        357493</td><td style=\"text-align: right;\">0       </td><td style=\"text-align: right;\">0.294118</td><td style=\"text-align: right;\">0.705882</td><td style=\"text-align: right;\">0       </td><td style=\"text-align: right;\">0       </td><td style=\"text-align: right;\">0       </td><td style=\"text-align: right;\">1       </td><td style=\"text-align: right;\">0.529412</td><td style=\"text-align: right;\">0.235294</td><td style=\"text-align: right;\">0.235294</td><td>cluster1  </td></tr>\n",
       "<tr><td style=\"text-align: right;\">4.10304e+10</td><td style=\"text-align: right;\">     9</td><td style=\"text-align: right;\">              6</td><td style=\"text-align: right;\">                  0.287497</td><td style=\"text-align: right;\">      1219.42</td><td style=\"text-align: right;\">         50.7958</td><td style=\"text-align: right;\">                   0.523081</td><td style=\"text-align: right;\">        373730</td><td style=\"text-align: right;\">0.423963</td><td style=\"text-align: right;\">0.274885</td><td style=\"text-align: right;\">0.141244</td><td style=\"text-align: right;\">0.159908</td><td style=\"text-align: right;\">0.52235 </td><td style=\"text-align: right;\">0.357834</td><td style=\"text-align: right;\">0.119816</td><td style=\"text-align: right;\">0.485945</td><td style=\"text-align: right;\">0.3053  </td><td style=\"text-align: right;\">0.208756</td><td>cluster2  </td></tr>\n",
       "<tr><td style=\"text-align: right;\">4.10304e+10</td><td style=\"text-align: right;\">    10</td><td style=\"text-align: right;\">              8</td><td style=\"text-align: right;\">                  0.119475</td><td style=\"text-align: right;\">      1230.39</td><td style=\"text-align: right;\">         52.9055</td><td style=\"text-align: right;\">                   0.049497</td><td style=\"text-align: right;\">        332199</td><td style=\"text-align: right;\">0.535817</td><td style=\"text-align: right;\">0.099519</td><td style=\"text-align: right;\">0.210817</td><td style=\"text-align: right;\">0.153846</td><td style=\"text-align: right;\">0.770192</td><td style=\"text-align: right;\">0.176683</td><td style=\"text-align: right;\">0.053125</td><td style=\"text-align: right;\">0.488702</td><td style=\"text-align: right;\">0.469471</td><td style=\"text-align: right;\">0.041827</td><td>cluster1  </td></tr>\n",
       "</tbody>\n",
       "</table>"
      ]
     },
     "metadata": {},
     "output_type": "display_data"
    },
    {
     "data": {
      "text/plain": []
     },
     "execution_count": 4,
     "metadata": {},
     "output_type": "execute_result"
    }
   ],
   "source": [
    "testData = h2o.import_file(path=\"C:/Users/zzq/Desktop/DataMining/Data/data3/test.csv\")\n",
    "testData.head()"
   ]
  },
  {
   "cell_type": "code",
   "execution_count": 5,
   "metadata": {
    "collapsed": false
   },
   "outputs": [
    {
     "name": "stdout",
     "output_type": "stream",
     "text": [
      "drf Model Build progress: |███████████████████████████████████████████████| 100%\n",
      "drf prediction progress: |████████████████████████████████████████████████| 100%\n"
     ]
    },
    {
     "data": {
      "text/html": [
       "<table>\n",
       "<thead>\n",
       "<tr><th>predict  </th><th style=\"text-align: right;\">  cluster0</th><th style=\"text-align: right;\">  cluster1</th><th style=\"text-align: right;\">  cluster2</th></tr>\n",
       "</thead>\n",
       "<tbody>\n",
       "<tr><td>cluster2 </td><td style=\"text-align: right;\"> 0.0909091</td><td style=\"text-align: right;\">  0       </td><td style=\"text-align: right;\">  0.909091</td></tr>\n",
       "<tr><td>cluster2 </td><td style=\"text-align: right;\"> 0.125    </td><td style=\"text-align: right;\">  0       </td><td style=\"text-align: right;\">  0.875   </td></tr>\n",
       "<tr><td>cluster2 </td><td style=\"text-align: right;\"> 0.0909091</td><td style=\"text-align: right;\">  0       </td><td style=\"text-align: right;\">  0.909091</td></tr>\n",
       "<tr><td>cluster2 </td><td style=\"text-align: right;\"> 0        </td><td style=\"text-align: right;\">  0       </td><td style=\"text-align: right;\">  1       </td></tr>\n",
       "<tr><td>cluster1 </td><td style=\"text-align: right;\"> 0        </td><td style=\"text-align: right;\">  1       </td><td style=\"text-align: right;\">  0       </td></tr>\n",
       "<tr><td>cluster2 </td><td style=\"text-align: right;\"> 0        </td><td style=\"text-align: right;\">  0       </td><td style=\"text-align: right;\">  1       </td></tr>\n",
       "<tr><td>cluster0 </td><td style=\"text-align: right;\"> 1        </td><td style=\"text-align: right;\">  0       </td><td style=\"text-align: right;\">  0       </td></tr>\n",
       "<tr><td>cluster1 </td><td style=\"text-align: right;\"> 0        </td><td style=\"text-align: right;\">  1       </td><td style=\"text-align: right;\">  0       </td></tr>\n",
       "<tr><td>cluster2 </td><td style=\"text-align: right;\"> 0        </td><td style=\"text-align: right;\">  0.285714</td><td style=\"text-align: right;\">  0.714286</td></tr>\n",
       "<tr><td>cluster1 </td><td style=\"text-align: right;\"> 0        </td><td style=\"text-align: right;\">  1       </td><td style=\"text-align: right;\">  0       </td></tr>\n",
       "</tbody>\n",
       "</table>"
      ]
     },
     "metadata": {},
     "output_type": "display_data"
    },
    {
     "data": {
      "text/plain": []
     },
     "execution_count": 5,
     "metadata": {},
     "output_type": "execute_result"
    }
   ],
   "source": [
    "model = H2ORandomForestEstimator(ntrees = 10, max_depth = 20, nbins = 100)\n",
    "model.train(x=temp.names,y='Catrgory',training_frame=trainData)\n",
    "pre_tag=H2ORandomForestEstimator.predict(model ,testData)\n",
    "pre_tag.head()"
   ]
  },
  {
   "cell_type": "code",
   "execution_count": 6,
   "metadata": {
    "collapsed": false
   },
   "outputs": [
    {
     "data": {
      "text/plain": [
       "0.8625"
      ]
     },
     "execution_count": 6,
     "metadata": {},
     "output_type": "execute_result"
    }
   ],
   "source": [
    "from __future__ import division\n",
    "all=testData.cbind(pre_tag[\"predict\"])\n",
    "ori=all.nrow\n",
    "a=all[all[\"Catrgory\"]==all[\"predict\"],:]\n",
    "pred=a.nrow\n",
    "ans=pred/ori\n",
    "ans"
   ]
  },
  {
   "cell_type": "code",
   "execution_count": null,
   "metadata": {
    "collapsed": true
   },
   "outputs": [],
   "source": []
  }
 ],
 "metadata": {
  "kernelspec": {
   "display_name": "Python 2",
   "language": "python",
   "name": "python2"
  },
  "language_info": {
   "codemirror_mode": {
    "name": "ipython",
    "version": 2
   },
   "file_extension": ".py",
   "mimetype": "text/x-python",
   "name": "python",
   "nbconvert_exporter": "python",
   "pygments_lexer": "ipython2",
   "version": "2.7.13"
  }
 },
 "nbformat": 4,
 "nbformat_minor": 0
}
