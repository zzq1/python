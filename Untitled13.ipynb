{
 "cells": [
  {
   "cell_type": "code",
   "execution_count": 2,
   "metadata": {
    "collapsed": false
   },
   "outputs": [
    {
     "name": "stdout",
     "output_type": "stream",
     "text": [
      "    cid  xid  yid\n",
      "0     0  142  328\n",
      "1     1   84  203\n",
      "2     2  199  371\n",
      "3     3  140  234\n",
      "4     4  236  241\n",
      "5     5  315  281\n",
      "6     6  358  207\n",
      "7     7  363  237\n",
      "8     8  423  266\n",
      "9     9  125  375\n",
      "10   10  189  274\n"
     ]
    }
   ],
   "source": [
    "import pandas as pd\n",
    "city_data =  pd.read_csv(\"C:\\\\Users\\\\zzq\\\\Desktop\\\\Tianchi\\\\UAV\\\\CityData.csv\")\n",
    "print city_data"
   ]
  },
  {
   "cell_type": "code",
   "execution_count": 9,
   "metadata": {
    "collapsed": false
   },
   "outputs": [
    {
     "ename": "ValueError",
     "evalue": "total size of new array must be unchanged",
     "output_type": "error",
     "traceback": [
      "\u001b[1;31m---------------------------------------------------------------------------\u001b[0m",
      "\u001b[1;31mValueError\u001b[0m                                Traceback (most recent call last)",
      "\u001b[1;32m<ipython-input-9-98878d52728e>\u001b[0m in \u001b[0;36m<module>\u001b[1;34m()\u001b[0m\n\u001b[0;32m      3\u001b[0m \u001b[0mdata\u001b[0m \u001b[1;33m=\u001b[0m \u001b[0mtrue_data\u001b[0m\u001b[1;33m.\u001b[0m\u001b[0miloc\u001b[0m\u001b[1;33m[\u001b[0m\u001b[1;33m:\u001b[0m\u001b[1;33m,\u001b[0m\u001b[1;33m[\u001b[0m\u001b[1;36m0\u001b[0m\u001b[1;33m,\u001b[0m\u001b[1;36m1\u001b[0m\u001b[1;33m,\u001b[0m\u001b[1;36m4\u001b[0m\u001b[1;33m]\u001b[0m\u001b[1;33m]\u001b[0m\u001b[1;33m\u001b[0m\u001b[0m\n\u001b[0;32m      4\u001b[0m \u001b[0mdata\u001b[0m \u001b[1;33m=\u001b[0m \u001b[0mdata\u001b[0m\u001b[1;33m.\u001b[0m\u001b[0mas_matrix\u001b[0m\u001b[1;33m(\u001b[0m\u001b[0mcolumns\u001b[0m\u001b[1;33m=\u001b[0m\u001b[0mNone\u001b[0m\u001b[1;33m)\u001b[0m\u001b[1;33m\u001b[0m\u001b[0m\n\u001b[1;32m----> 5\u001b[1;33m \u001b[0mdata\u001b[0m \u001b[1;33m=\u001b[0m \u001b[0mdata\u001b[0m\u001b[1;33m.\u001b[0m\u001b[0mreshape\u001b[0m\u001b[1;33m(\u001b[0m\u001b[1;36m1\u001b[0m\u001b[1;33m,\u001b[0m\u001b[1;36m1\u001b[0m\u001b[1;33m)\u001b[0m\u001b[1;33m\u001b[0m\u001b[0m\n\u001b[0m\u001b[0;32m      6\u001b[0m \u001b[1;32mdef\u001b[0m \u001b[0mloadImage\u001b[0m\u001b[1;33m(\u001b[0m\u001b[0md\u001b[0m\u001b[1;33m)\u001b[0m\u001b[1;33m:\u001b[0m\u001b[1;33m\u001b[0m\u001b[0m\n\u001b[0;32m      7\u001b[0m     \u001b[0mim\u001b[0m \u001b[1;33m=\u001b[0m \u001b[0mImage\u001b[0m\u001b[1;33m.\u001b[0m\u001b[0mopen\u001b[0m\u001b[1;33m(\u001b[0m\u001b[1;34m\"C:\\Users\\zzq\\Desktop\\lx.jpg\"\u001b[0m\u001b[1;33m)\u001b[0m\u001b[1;33m\u001b[0m\u001b[0m\n",
      "\u001b[1;31mValueError\u001b[0m: total size of new array must be unchanged"
     ]
    }
   ],
   "source": [
    "##天气真值数据\n",
    "true_data = pd.read_csv(\"C:\\\\Users\\\\zzq\\\\Desktop\\\\Tianchi\\\\UAV\\\\In_situMeasurementforTraining_201712.csv\")\n",
    "data = true_data.iloc[:,[0,1,4]]\n",
    "data = data.as_matrix(columns=None)\n",
    "data = data.reshape(1,1)\n",
    "def loadImage(d): \n",
    "    im = Image.open(\"C:\\Users\\zzq\\Desktop\\lx.jpg\")     \n",
    "    #im = im.convert(\"L\")   \n",
    "    #data = im.getdata()  \n",
    "    #data = np.matrix(data)  \n",
    "    #print data\n",
    "    new_im = Image.fromarray(d)\n",
    "    new_im.show()     \n",
    "loadImage(data) \n"
   ]
  },
  {
   "cell_type": "code",
   "execution_count": 18,
   "metadata": {
    "collapsed": false
   },
   "outputs": [
    {
     "name": "stdout",
     "output_type": "stream",
     "text": [
      "[[   0    1    2 ..., 9997 9998 9999]]\n",
      "[[   0    1    2 ...,   97   98   99]\n",
      " [ 100  101  102 ...,  197  198  199]\n",
      " [ 200  201  202 ...,  297  298  299]\n",
      " ..., \n",
      " [9700 9701 9702 ..., 9797 9798 9799]\n",
      " [9800 9801 9802 ..., 9897 9898 9899]\n",
      " [9900 9901 9902 ..., 9997 9998 9999]]\n",
      "[[  0.00000000e+00   2.55025503e-02   5.10051005e-02 ...,   2.47374737e+00\n",
      "    2.49924992e+00   2.52475248e+00]\n",
      " [  2.55025503e+00   2.57575758e+00   2.60126013e+00 ...,   5.02400240e+00\n",
      "    5.04950495e+00   5.07500750e+00]\n",
      " [  5.10051005e+00   5.12601260e+00   5.15151515e+00 ...,   7.57425743e+00\n",
      "    7.59975998e+00   7.62526253e+00]\n",
      " ..., \n",
      " [  2.47374737e+02   2.47400240e+02   2.47425743e+02 ...,   2.49848485e+02\n",
      "    2.49873987e+02   2.49899490e+02]\n",
      " [  2.49924992e+02   2.49950495e+02   2.49975998e+02 ...,   2.52398740e+02\n",
      "    2.52424242e+02   2.52449745e+02]\n",
      " [  2.52475248e+02   2.52500750e+02   2.52526253e+02 ...,   2.54948995e+02\n",
      "    2.54974497e+02   2.55000000e+02]]\n"
     ]
    }
   ],
   "source": [
    "from PIL import Image  \n",
    "import numpy as np\n",
    "#生成一个数组，维度为100*100，灰度值一定比255大\n",
    "narray=np.array([range(10000)],dtype='int')\n",
    "print narray\n",
    "narray=narray.reshape([100,100])\n",
    "print narray\n",
    "#调用Image库，数组归一化\n",
    "print narray*255.0/9999\n",
    "img=Image.fromarray(narray*255.0/9999)\n",
    "#转换成灰度图\n",
    "img=img.convert('L')\n",
    "#可以调用Image库下的函数了，比如show()\n",
    "img.show()\n",
    "#Image类返回矩阵的操作\n",
    "#imgdata=np.matrix(img.getdata(),dtype='float')\n",
    "#imgdata=imgdata.reshape(narry.shape[0],narry.shape[1])\n",
    "#图像归一化，生成矩阵\n",
    "nmatrix=imgdata*9999/255.0\n",
    "#6个8行三列的矩阵\n",
    "import numpy as np\n",
    "from scipy.misc import imsave\n",
    " \n",
    "x = np.random.random((600,800,3))\n",
    "imsave('C:\\Users\\zzq\\Desktop\\meelo.jpg', x)"
   ]
  },
  {
   "cell_type": "code",
   "execution_count": 3,
   "metadata": {
    "collapsed": false
   },
   "outputs": [
    {
     "name": "stdout",
     "output_type": "stream",
     "text": [
      "           xid  yid  date_id  hour  model   wind\n",
      "0            1    1        1     3      1  13.80\n",
      "1            1    1        1     3      2  12.80\n",
      "2            1    1        1     3      3  10.40\n",
      "3            1    1        1     3      4  11.10\n",
      "4            1    1        1     3      5  13.20\n",
      "5            1    1        1     3      6  13.10\n",
      "6            1    1        1     3      7  12.60\n",
      "7            1    1        1     3      8  11.20\n",
      "8            1    1        1     3      9  14.10\n",
      "9            1    1        1     3     10  12.80\n",
      "10           1    2        1     3      1  13.70\n",
      "11           1    2        1     3      2  12.20\n",
      "12           1    2        1     3      3   9.84\n",
      "13           1    2        1     3      4  11.00\n",
      "14           1    2        1     3      5  13.20\n",
      "15           1    2        1     3      6  13.00\n",
      "16           1    2        1     3      7  12.60\n",
      "17           1    2        1     3      8  13.00\n",
      "18           1    2        1     3      9  13.90\n",
      "19           1    2        1     3     10  12.50\n",
      "20           1    3        1     3      1  13.30\n",
      "21           1    3        1     3      2  11.70\n",
      "22           1    3        1     3      3  12.30\n",
      "23           1    3        1     3      4  11.00\n",
      "24           1    3        1     3      5  13.10\n",
      "25           1    3        1     3      6  12.70\n",
      "26           1    3        1     3      7  12.70\n",
      "27           1    3        1     3      8  13.90\n",
      "28           1    3        1     3      9  13.80\n",
      "29           1    3        1     3     10  12.00\n",
      "...        ...  ...      ...   ...    ...    ...\n",
      "207637170  548  419        5    20      1   6.76\n",
      "207637171  548  419        5    20      2   5.42\n",
      "207637172  548  419        5    20      3   4.62\n",
      "207637173  548  419        5    20      4   8.27\n",
      "207637174  548  419        5    20      5  11.60\n",
      "207637175  548  419        5    20      6   8.38\n",
      "207637176  548  419        5    20      7   6.13\n",
      "207637177  548  419        5    20      8   9.79\n",
      "207637178  548  419        5    20      9   7.24\n",
      "207637179  548  419        5    20     10   9.49\n",
      "207637180  548  420        5    20      1   7.16\n",
      "207637181  548  420        5    20      2   5.17\n",
      "207637182  548  420        5    20      3   4.45\n",
      "207637183  548  420        5    20      4   8.26\n",
      "207637184  548  420        5    20      5  12.20\n",
      "207637185  548  420        5    20      6   9.21\n",
      "207637186  548  420        5    20      7   6.62\n",
      "207637187  548  420        5    20      8  10.10\n",
      "207637188  548  420        5    20      9   7.08\n",
      "207637189  548  420        5    20     10   9.61\n",
      "207637190  548  421        5    20      1   7.42\n",
      "207637191  548  421        5    20      2   4.91\n",
      "207637192  548  421        5    20      3   4.47\n",
      "207637193  548  421        5    20      4   8.34\n",
      "207637194  548  421        5    20      5  12.90\n",
      "207637195  548  421        5    20      6   9.51\n",
      "207637196  548  421        5    20      7   7.00\n",
      "207637197  548  421        5    20      8  10.70\n",
      "207637198  548  421        5    20      9   6.99\n",
      "207637199  548  421        5    20     10   9.48\n",
      "\n",
      "[207637200 rows x 6 columns]\n"
     ]
    }
   ],
   "source": [
    "#天气预测数据\n",
    "df1= pd.read_csv(\"C:\\\\Users\\\\zzq\\\\Desktop\\\\Tianchi\\\\UAV\\\\ForecastDataforTraining_201712.csv\")\n",
    "print df1"
   ]
  },
  {
   "cell_type": "code",
   "execution_count": 4,
   "metadata": {
    "collapsed": false
   },
   "outputs": [
    {
     "name": "stdout",
     "output_type": "stream",
     "text": [
      "           xid  yid  date_id  hour  model   wind\n",
      "0            1    1        6     3      1  10.00\n",
      "1            1    1        6     3      2   8.61\n",
      "2            1    1        6     3      3   9.18\n",
      "3            1    1        6     3      4  14.90\n",
      "4            1    1        6     3      5   7.85\n",
      "5            1    1        6     3      6  13.40\n",
      "6            1    1        6     3      7  10.20\n",
      "7            1    1        6     3      8  10.00\n",
      "8            1    1        6     3      9   2.91\n",
      "9            1    1        6     3     10   8.17\n",
      "10           1    2        6     3      1  10.40\n",
      "11           1    2        6     3      2   8.85\n",
      "12           1    2        6     3      3   8.85\n",
      "13           1    2        6     3      4  15.70\n",
      "14           1    2        6     3      5   7.89\n",
      "15           1    2        6     3      6  13.70\n",
      "16           1    2        6     3      7  10.20\n",
      "17           1    2        6     3      8  10.30\n",
      "18           1    2        6     3      9   2.65\n",
      "19           1    2        6     3     10   7.84\n",
      "20           1    3        6     3      1  10.80\n",
      "21           1    3        6     3      2   9.00\n",
      "22           1    3        6     3      3   8.53\n",
      "23           1    3        6     3      4  16.40\n",
      "24           1    3        6     3      5   7.97\n",
      "25           1    3        6     3      6  13.70\n",
      "26           1    3        6     3      7  10.20\n",
      "27           1    3        6     3      8  10.50\n",
      "28           1    3        6     3      9   2.48\n",
      "29           1    3        6     3     10   7.68\n",
      "...        ...  ...      ...   ...    ...    ...\n",
      "207637170  548  419       10    20      1  23.20\n",
      "207637171  548  419       10    20      2  25.20\n",
      "207637172  548  419       10    20      3  24.10\n",
      "207637173  548  419       10    20      4  27.10\n",
      "207637174  548  419       10    20      5  21.40\n",
      "207637175  548  419       10    20      6  22.80\n",
      "207637176  548  419       10    20      7  24.50\n",
      "207637177  548  419       10    20      8  23.20\n",
      "207637178  548  419       10    20      9  22.30\n",
      "207637179  548  419       10    20     10  20.30\n",
      "207637180  548  420       10    20      1  22.90\n",
      "207637181  548  420       10    20      2  25.10\n",
      "207637182  548  420       10    20      3  25.00\n",
      "207637183  548  420       10    20      4  27.30\n",
      "207637184  548  420       10    20      5  22.00\n",
      "207637185  548  420       10    20      6  22.60\n",
      "207637186  548  420       10    20      7  24.40\n",
      "207637187  548  420       10    20      8  23.00\n",
      "207637188  548  420       10    20      9  22.40\n",
      "207637189  548  420       10    20     10  19.90\n",
      "207637190  548  421       10    20      1  22.60\n",
      "207637191  548  421       10    20      2  24.90\n",
      "207637192  548  421       10    20      3  24.60\n",
      "207637193  548  421       10    20      4  26.80\n",
      "207637194  548  421       10    20      5  22.40\n",
      "207637195  548  421       10    20      6  22.40\n",
      "207637196  548  421       10    20      7  24.60\n",
      "207637197  548  421       10    20      8  23.00\n",
      "207637198  548  421       10    20      9  22.30\n",
      "207637199  548  421       10    20     10  19.60\n",
      "\n",
      "[207637200 rows x 6 columns]\n"
     ]
    }
   ],
   "source": [
    "#线上测试数据\n",
    "df2= pd.read_csv(\"C:\\\\Users\\\\zzq\\\\Desktop\\\\Tianchi\\\\UAV\\\\ForecastDataforTesting_201712.csv\")\n",
    "print df2"
   ]
  },
  {
   "cell_type": "code",
   "execution_count": null,
   "metadata": {
    "collapsed": true
   },
   "outputs": [],
   "source": []
  }
 ],
 "metadata": {
  "kernelspec": {
   "display_name": "Python 2",
   "language": "python",
   "name": "python2"
  },
  "language_info": {
   "codemirror_mode": {
    "name": "ipython",
    "version": 2
   },
   "file_extension": ".py",
   "mimetype": "text/x-python",
   "name": "python",
   "nbconvert_exporter": "python",
   "pygments_lexer": "ipython2",
   "version": "2.7.11"
  }
 },
 "nbformat": 4,
 "nbformat_minor": 0
}
