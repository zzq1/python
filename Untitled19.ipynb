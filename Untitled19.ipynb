{
 "cells": [
  {
   "cell_type": "code",
   "execution_count": 1,
   "metadata": {
    "collapsed": false
   },
   "outputs": [],
   "source": [
    "# -*- coding:utf-8 -*-\n",
    "import pandas as pd\n",
    "data = pd.read_csv(\"C:/Users/zzq/Desktop/DataMining/Data/pythontest3/feature_temp.csv\")\n",
    "#data[(data.user_id == 3404000) & (data.brand_id == 905) & (data.type == 1)].shape"
   ]
  },
  {
   "cell_type": "code",
   "execution_count": 2,
   "metadata": {
    "collapsed": false
   },
   "outputs": [
    {
     "name": "stdout",
     "output_type": "stream",
     "text": [
      "数据条数 182880\n",
      "data range: 2013-04-15 2013-08-15\n",
      "唯一用户： 884\n",
      "唯一品牌： 9531\n",
      "唯一用户-品牌对： 57655\n"
     ]
    }
   ],
   "source": [
    "print \"数据条数\",data.shape[0]\n",
    "list =[]\n",
    "for i in range(1,len(data.visit_datetime)):\n",
    "    list.append(data.visit_datetime[i])\n",
    "    #print data.visit_datetime[i]\n",
    "list.sort()\n",
    "print \"data range:\",list[0],list[len(list)-1]\n",
    "print \"唯一用户：\",len(set(data.user_id))\n",
    "print \"唯一品牌：\",len(set(data.brand_id))\n",
    "print \"唯一用户-品牌对：\",len(data.drop_duplicates([\"user_id\",\"brand_id\"]))"
   ]
  },
  {
   "cell_type": "code",
   "execution_count": 3,
   "metadata": {
    "collapsed": false
   },
   "outputs": [
    {
     "data": {
      "text/html": [
       "<div>\n",
       "<table border=\"1\" class=\"dataframe\">\n",
       "  <thead>\n",
       "    <tr style=\"text-align: right;\">\n",
       "      <th></th>\n",
       "      <th>visit_datetime</th>\n",
       "      <th>count_buy</th>\n",
       "    </tr>\n",
       "  </thead>\n",
       "  <tbody>\n",
       "    <tr>\n",
       "      <th>103</th>\n",
       "      <td>2013-07-27</td>\n",
       "      <td>112</td>\n",
       "    </tr>\n",
       "    <tr>\n",
       "      <th>87</th>\n",
       "      <td>2013-07-11</td>\n",
       "      <td>108</td>\n",
       "    </tr>\n",
       "    <tr>\n",
       "      <th>102</th>\n",
       "      <td>2013-07-26</td>\n",
       "      <td>106</td>\n",
       "    </tr>\n",
       "    <tr>\n",
       "      <th>104</th>\n",
       "      <td>2013-07-28</td>\n",
       "      <td>103</td>\n",
       "    </tr>\n",
       "    <tr>\n",
       "      <th>11</th>\n",
       "      <td>2013-04-26</td>\n",
       "      <td>95</td>\n",
       "    </tr>\n",
       "  </tbody>\n",
       "</table>\n",
       "</div>"
      ],
      "text/plain": [
       "    visit_datetime  count_buy\n",
       "103     2013-07-27        112\n",
       "87      2013-07-11        108\n",
       "102     2013-07-26        106\n",
       "104     2013-07-28        103\n",
       "11      2013-04-26         95"
      ]
     },
     "execution_count": 3,
     "metadata": {},
     "output_type": "execute_result"
    }
   ],
   "source": [
    "import numpy as np\n",
    "df = data[data.type == 1].iloc[:,[2,3]]\n",
    "df = df.groupby([\"visit_datetime\"],as_index = False)[\"visit_datetime\"].agg({'count_buy':np.size})\n",
    "#降序排序\n",
    "df = df.sort_values(by=\"count_buy\",ascending = False) \n",
    "df.head()"
   ]
  },
  {
   "cell_type": "code",
   "execution_count": 4,
   "metadata": {
    "collapsed": false
   },
   "outputs": [
    {
     "data": {
      "text/html": [
       "<div>\n",
       "<table border=\"1\" class=\"dataframe\">\n",
       "  <thead>\n",
       "    <tr style=\"text-align: right;\">\n",
       "      <th></th>\n",
       "      <th>user_id</th>\n",
       "      <th>count_buy</th>\n",
       "    </tr>\n",
       "  </thead>\n",
       "  <tbody>\n",
       "    <tr>\n",
       "      <th>370</th>\n",
       "      <td>5780000</td>\n",
       "      <td>83</td>\n",
       "    </tr>\n",
       "    <tr>\n",
       "      <th>217</th>\n",
       "      <td>3404000</td>\n",
       "      <td>79</td>\n",
       "    </tr>\n",
       "    <tr>\n",
       "      <th>642</th>\n",
       "      <td>10628500</td>\n",
       "      <td>70</td>\n",
       "    </tr>\n",
       "    <tr>\n",
       "      <th>440</th>\n",
       "      <td>6874250</td>\n",
       "      <td>65</td>\n",
       "    </tr>\n",
       "    <tr>\n",
       "      <th>732</th>\n",
       "      <td>12173500</td>\n",
       "      <td>54</td>\n",
       "    </tr>\n",
       "  </tbody>\n",
       "</table>\n",
       "</div>"
      ],
      "text/plain": [
       "      user_id  count_buy\n",
       "370   5780000         83\n",
       "217   3404000         79\n",
       "642  10628500         70\n",
       "440   6874250         65\n",
       "732  12173500         54"
      ]
     },
     "execution_count": 4,
     "metadata": {},
     "output_type": "execute_result"
    }
   ],
   "source": [
    "user = data[data.type == 1].iloc[:,[0,2]]\n",
    "user = user.groupby([\"user_id\"],as_index = False)[\"user_id\"].agg({\"count_buy\":np.size})\n",
    "user = user.sort_values(by=\"count_buy\",ascending = False)\n",
    "user.head()"
   ]
  },
  {
   "cell_type": "code",
   "execution_count": 5,
   "metadata": {
    "collapsed": false
   },
   "outputs": [
    {
     "data": {
      "text/html": [
       "<div>\n",
       "<table border=\"1\" class=\"dataframe\">\n",
       "  <thead>\n",
       "    <tr style=\"text-align: right;\">\n",
       "      <th></th>\n",
       "      <th>user_id</th>\n",
       "      <th>brand_id</th>\n",
       "      <th>count</th>\n",
       "    </tr>\n",
       "  </thead>\n",
       "  <tbody>\n",
       "    <tr>\n",
       "      <th>20180</th>\n",
       "      <td>4184250</td>\n",
       "      <td>241</td>\n",
       "      <td>611</td>\n",
       "    </tr>\n",
       "    <tr>\n",
       "      <th>21353</th>\n",
       "      <td>4370750</td>\n",
       "      <td>1666</td>\n",
       "      <td>396</td>\n",
       "    </tr>\n",
       "    <tr>\n",
       "      <th>40243</th>\n",
       "      <td>8149250</td>\n",
       "      <td>11679</td>\n",
       "      <td>388</td>\n",
       "    </tr>\n",
       "    <tr>\n",
       "      <th>48115</th>\n",
       "      <td>10261750</td>\n",
       "      <td>14261</td>\n",
       "      <td>377</td>\n",
       "    </tr>\n",
       "    <tr>\n",
       "      <th>3464</th>\n",
       "      <td>711500</td>\n",
       "      <td>26722</td>\n",
       "      <td>364</td>\n",
       "    </tr>\n",
       "  </tbody>\n",
       "</table>\n",
       "</div>"
      ],
      "text/plain": [
       "        user_id  brand_id  count\n",
       "20180   4184250       241    611\n",
       "21353   4370750      1666    396\n",
       "40243   8149250     11679    388\n",
       "48115  10261750     14261    377\n",
       "3464     711500     26722    364"
      ]
     },
     "execution_count": 5,
     "metadata": {},
     "output_type": "execute_result"
    }
   ],
   "source": [
    "user_b = data.iloc[:,[0,1]]\n",
    "user_b = user_b.groupby([\"user_id\",\"brand_id\"],as_index = False)[\"user_id\"].agg({\"count\":np.size})\n",
    "user_b = user_b.sort_values(by=\"count\",ascending = False)\n",
    "user_b.head()"
   ]
  },
  {
   "cell_type": "code",
   "execution_count": null,
   "metadata": {
    "collapsed": true
   },
   "outputs": [],
   "source": []
  }
 ],
 "metadata": {
  "kernelspec": {
   "display_name": "Python 2",
   "language": "python",
   "name": "python2"
  },
  "language_info": {
   "codemirror_mode": {
    "name": "ipython",
    "version": 2
   },
   "file_extension": ".py",
   "mimetype": "text/x-python",
   "name": "python",
   "nbconvert_exporter": "python",
   "pygments_lexer": "ipython2",
   "version": "2.7.13"
  }
 },
 "nbformat": 4,
 "nbformat_minor": 0
}
