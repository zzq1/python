{
 "cells": [
  {
   "cell_type": "code",
   "execution_count": 1,
   "metadata": {
    "collapsed": false
   },
   "outputs": [
    {
     "name": "stdout",
     "output_type": "stream",
     "text": [
      "(774, 8)\n"
     ]
    },
    {
     "data": {
      "text/html": [
       "<div>\n",
       "<table border=\"1\" class=\"dataframe\">\n",
       "  <thead>\n",
       "    <tr style=\"text-align: right;\">\n",
       "      <th></th>\n",
       "      <th>user_id</th>\n",
       "      <th>item_id</th>\n",
       "      <th>brows_count</th>\n",
       "      <th>collect_count</th>\n",
       "      <th>add_count</th>\n",
       "      <th>buy_count</th>\n",
       "      <th>cartbuytoday</th>\n",
       "      <th>target</th>\n",
       "    </tr>\n",
       "  </thead>\n",
       "  <tbody>\n",
       "    <tr>\n",
       "      <th>0</th>\n",
       "      <td>1096774.0</td>\n",
       "      <td>57739007.0</td>\n",
       "      <td>4.0</td>\n",
       "      <td>0.0</td>\n",
       "      <td>1.0</td>\n",
       "      <td>0.0</td>\n",
       "      <td>0.0</td>\n",
       "      <td>1.0</td>\n",
       "    </tr>\n",
       "    <tr>\n",
       "      <th>1</th>\n",
       "      <td>1694224.0</td>\n",
       "      <td>340480775.0</td>\n",
       "      <td>3.0</td>\n",
       "      <td>0.0</td>\n",
       "      <td>0.0</td>\n",
       "      <td>0.0</td>\n",
       "      <td>0.0</td>\n",
       "      <td>1.0</td>\n",
       "    </tr>\n",
       "    <tr>\n",
       "      <th>2</th>\n",
       "      <td>2630830.0</td>\n",
       "      <td>202530287.0</td>\n",
       "      <td>2.0</td>\n",
       "      <td>0.0</td>\n",
       "      <td>1.0</td>\n",
       "      <td>0.0</td>\n",
       "      <td>0.0</td>\n",
       "      <td>1.0</td>\n",
       "    </tr>\n",
       "    <tr>\n",
       "      <th>3</th>\n",
       "      <td>3376717.0</td>\n",
       "      <td>288552625.0</td>\n",
       "      <td>4.0</td>\n",
       "      <td>0.0</td>\n",
       "      <td>1.0</td>\n",
       "      <td>0.0</td>\n",
       "      <td>0.0</td>\n",
       "      <td>1.0</td>\n",
       "    </tr>\n",
       "    <tr>\n",
       "      <th>4</th>\n",
       "      <td>3687502.0</td>\n",
       "      <td>121555932.0</td>\n",
       "      <td>3.0</td>\n",
       "      <td>0.0</td>\n",
       "      <td>0.0</td>\n",
       "      <td>0.0</td>\n",
       "      <td>0.0</td>\n",
       "      <td>1.0</td>\n",
       "    </tr>\n",
       "  </tbody>\n",
       "</table>\n",
       "</div>"
      ],
      "text/plain": [
       "     user_id      item_id  brows_count  collect_count  add_count  buy_count  \\\n",
       "0  1096774.0   57739007.0          4.0            0.0        1.0        0.0   \n",
       "1  1694224.0  340480775.0          3.0            0.0        0.0        0.0   \n",
       "2  2630830.0  202530287.0          2.0            0.0        1.0        0.0   \n",
       "3  3376717.0  288552625.0          4.0            0.0        1.0        0.0   \n",
       "4  3687502.0  121555932.0          3.0            0.0        0.0        0.0   \n",
       "\n",
       "   cartbuytoday  target  \n",
       "0           0.0     1.0  \n",
       "1           0.0     1.0  \n",
       "2           0.0     1.0  \n",
       "3           0.0     1.0  \n",
       "4           0.0     1.0  "
      ]
     },
     "execution_count": 1,
     "metadata": {},
     "output_type": "execute_result"
    }
   ],
   "source": [
    "import pandas as pd\n",
    "import numpy as np\n",
    "train = pd.read_csv(\"C:/Users/zzq/Desktop/DataMining/Data/data2.2/train.csv\")\n",
    "print train.shape\n",
    "train.head()"
   ]
  },
  {
   "cell_type": "code",
   "execution_count": 2,
   "metadata": {
    "collapsed": false
   },
   "outputs": [
    {
     "name": "stdout",
     "output_type": "stream",
     "text": [
      "(732, 8)\n"
     ]
    },
    {
     "data": {
      "text/html": [
       "<div>\n",
       "<table border=\"1\" class=\"dataframe\">\n",
       "  <thead>\n",
       "    <tr style=\"text-align: right;\">\n",
       "      <th></th>\n",
       "      <th>user_id</th>\n",
       "      <th>item_id</th>\n",
       "      <th>brows_count</th>\n",
       "      <th>collect_count</th>\n",
       "      <th>add_count</th>\n",
       "      <th>buy_count</th>\n",
       "      <th>cartbuytoday</th>\n",
       "      <th>target</th>\n",
       "    </tr>\n",
       "  </thead>\n",
       "  <tbody>\n",
       "    <tr>\n",
       "      <th>0</th>\n",
       "      <td>1612714.0</td>\n",
       "      <td>404400659.0</td>\n",
       "      <td>3.0</td>\n",
       "      <td>0.0</td>\n",
       "      <td>0.0</td>\n",
       "      <td>0.0</td>\n",
       "      <td>0.0</td>\n",
       "      <td>1.0</td>\n",
       "    </tr>\n",
       "    <tr>\n",
       "      <th>1</th>\n",
       "      <td>1953838.0</td>\n",
       "      <td>243247546.0</td>\n",
       "      <td>2.0</td>\n",
       "      <td>0.0</td>\n",
       "      <td>0.0</td>\n",
       "      <td>0.0</td>\n",
       "      <td>0.0</td>\n",
       "      <td>1.0</td>\n",
       "    </tr>\n",
       "    <tr>\n",
       "      <th>2</th>\n",
       "      <td>4209449.0</td>\n",
       "      <td>159211259.0</td>\n",
       "      <td>5.0</td>\n",
       "      <td>0.0</td>\n",
       "      <td>1.0</td>\n",
       "      <td>0.0</td>\n",
       "      <td>0.0</td>\n",
       "      <td>1.0</td>\n",
       "    </tr>\n",
       "    <tr>\n",
       "      <th>3</th>\n",
       "      <td>4498439.0</td>\n",
       "      <td>323582185.0</td>\n",
       "      <td>3.0</td>\n",
       "      <td>0.0</td>\n",
       "      <td>1.0</td>\n",
       "      <td>0.0</td>\n",
       "      <td>0.0</td>\n",
       "      <td>1.0</td>\n",
       "    </tr>\n",
       "    <tr>\n",
       "      <th>4</th>\n",
       "      <td>10238478.0</td>\n",
       "      <td>333849847.0</td>\n",
       "      <td>3.0</td>\n",
       "      <td>0.0</td>\n",
       "      <td>0.0</td>\n",
       "      <td>0.0</td>\n",
       "      <td>0.0</td>\n",
       "      <td>1.0</td>\n",
       "    </tr>\n",
       "  </tbody>\n",
       "</table>\n",
       "</div>"
      ],
      "text/plain": [
       "      user_id      item_id  brows_count  collect_count  add_count  buy_count  \\\n",
       "0   1612714.0  404400659.0          3.0            0.0        0.0        0.0   \n",
       "1   1953838.0  243247546.0          2.0            0.0        0.0        0.0   \n",
       "2   4209449.0  159211259.0          5.0            0.0        1.0        0.0   \n",
       "3   4498439.0  323582185.0          3.0            0.0        1.0        0.0   \n",
       "4  10238478.0  333849847.0          3.0            0.0        0.0        0.0   \n",
       "\n",
       "   cartbuytoday  target  \n",
       "0           0.0     1.0  \n",
       "1           0.0     1.0  \n",
       "2           0.0     1.0  \n",
       "3           0.0     1.0  \n",
       "4           0.0     1.0  "
      ]
     },
     "execution_count": 2,
     "metadata": {},
     "output_type": "execute_result"
    }
   ],
   "source": [
    "test = pd.read_csv(\"C:/Users/zzq/Desktop/DataMining/Data/data2.2/test.csv\")\n",
    "print test.shape\n",
    "test.head()"
   ]
  },
  {
   "cell_type": "code",
   "execution_count": 3,
   "metadata": {
    "collapsed": false
   },
   "outputs": [
    {
     "name": "stdout",
     "output_type": "stream",
     "text": [
      "<class 'pandas.core.frame.DataFrame'>\n"
     ]
    },
    {
     "name": "stderr",
     "output_type": "stream",
     "text": [
      "C:\\Anaconda2\\lib\\site-packages\\sklearn\\cross_validation.py:41: DeprecationWarning: This module was deprecated in version 0.18 in favor of the model_selection module into which all the refactored classes and functions are moved. Also note that the interface of the new CV iterators are different from that of this module. This module will be removed in 0.20.\n",
      "  \"This module will be removed in 0.20.\", DeprecationWarning)\n",
      "C:\\Anaconda2\\lib\\site-packages\\sklearn\\grid_search.py:42: DeprecationWarning: This module was deprecated in version 0.18 in favor of the model_selection module into which all the refactored classes and functions are moved. This module will be removed in 0.20.\n",
      "  DeprecationWarning)\n"
     ]
    }
   ],
   "source": [
    "from sklearn import tree  \n",
    "from sklearn.metrics import precision_recall_curve  \n",
    "from sklearn.metrics import classification_report  \n",
    "from sklearn.cross_validation import train_test_split \n",
    "from sklearn.grid_search import GridSearchCV\n",
    "from sklearn.tree import DecisionTreeClassifier\n",
    "from sklearn.pipeline import Pipeline\n",
    "train_x = train.loc[:,[\"brows_count\",\"collect_count\",\"add_count\",\"buy_count\",\"cartbuytoday\"]]\n",
    "print type(train_x)\n",
    "train_y = train.loc[:,[\"target\"]]\n",
    "test_x = test.loc[:,[\"brows_count\",\"collect_count\",\"add_count\",\"buy_count\",\"cartbuytoday\"]]\n",
    "test_y = test.loc[:,[\"target\"]]"
   ]
  },
  {
   "cell_type": "code",
   "execution_count": 4,
   "metadata": {
    "collapsed": false
   },
   "outputs": [
    {
     "name": "stdout",
     "output_type": "stream",
     "text": [
      "DecisionTreeClassifier(class_weight=None, criterion='entropy', max_depth=None,\n",
      "            max_features=None, max_leaf_nodes=None,\n",
      "            min_impurity_decrease=0.0, min_impurity_split=None,\n",
      "            min_samples_leaf=1, min_samples_split=2,\n",
      "            min_weight_fraction_leaf=0.0, presort=False, random_state=None,\n",
      "            splitter='best')\n"
     ]
    }
   ],
   "source": [
    "#使用信息熵作为划分标准，对决策树进行训练\n",
    "clf = tree.DecisionTreeClassifier(criterion='entropy') \n",
    "clf.fit(train_x, train_y) \n",
    "print clf"
   ]
  },
  {
   "cell_type": "code",
   "execution_count": 5,
   "metadata": {
    "collapsed": false
   },
   "outputs": [
    {
     "name": "stdout",
     "output_type": "stream",
     "text": [
      "[ 0.39091725  0.13070752  0.39134077  0.08703446  0.        ]\n"
     ]
    }
   ],
   "source": [
    "#系数反映每个特征的影响力。越大表示该特征在分类中起到的作用越大\n",
    "print(clf.feature_importances_)  "
   ]
  },
  {
   "cell_type": "code",
   "execution_count": 6,
   "metadata": {
    "collapsed": false
   },
   "outputs": [
    {
     "data": {
      "text/plain": [
       "0.84836065573770492"
      ]
     },
     "execution_count": 6,
     "metadata": {},
     "output_type": "execute_result"
    }
   ],
   "source": [
    "clf.score(test_x,test_y)"
   ]
  },
  {
   "cell_type": "code",
   "execution_count": 7,
   "metadata": {
    "collapsed": false
   },
   "outputs": [
    {
     "name": "stdout",
     "output_type": "stream",
     "text": [
      "(array([ 0.89914773,  0.82857143]), array([ 0.98139535,  0.4496124 ]), array([ 0.93847294,  0.58291457]), array([645, 129], dtype=int64))\n"
     ]
    }
   ],
   "source": [
    "from sklearn.metrics import precision_recall_fscore_support\n",
    "precision, recall, thresholds = precision_recall_curve(train_y, clf.predict(train_x)) \n",
    "print precision_recall_fscore_support(train_y, clf.predict(train_x))"
   ]
  },
  {
   "cell_type": "code",
   "execution_count": 8,
   "metadata": {
    "collapsed": false
   },
   "outputs": [
    {
     "name": "stdout",
     "output_type": "stream",
     "text": [
      "F1 =  0.43654822335\n"
     ]
    }
   ],
   "source": [
    "#测试结果的打印 \n",
    "from __future__ import division\n",
    "Prediction = clf.predict(test_x)\n",
    "test[\"forest\"] = Prediction\n",
    "P = test[test.forest == 1].loc[:,['user_id','item_id']]\n",
    "R = test[test.target == 1].loc[:,['user_id','item_id']]\n",
    "PredictionSet = len(P)\n",
    "ReferenceSet = len(R)\n",
    "ConnectionSet = len(pd.merge(P,R,how = \"inner\"))\n",
    "Precision = ConnectionSet / PredictionSet\n",
    "Recall = ConnectionSet / ReferenceSet\n",
    "print \"F1 = \" , 2 * Precision * Recall / (Precision + Recall)\n"
   ]
  },
  {
   "cell_type": "code",
   "execution_count": null,
   "metadata": {
    "collapsed": true
   },
   "outputs": [],
   "source": []
  }
 ],
 "metadata": {
  "kernelspec": {
   "display_name": "Python 2",
   "language": "python",
   "name": "python2"
  },
  "language_info": {
   "codemirror_mode": {
    "name": "ipython",
    "version": 2
   },
   "file_extension": ".py",
   "mimetype": "text/x-python",
   "name": "python",
   "nbconvert_exporter": "python",
   "pygments_lexer": "ipython2",
   "version": "2.7.13"
  }
 },
 "nbformat": 4,
 "nbformat_minor": 0
}
