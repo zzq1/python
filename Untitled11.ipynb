{
 "cells": [
  {
   "cell_type": "code",
   "execution_count": 1,
   "metadata": {
    "collapsed": false
   },
   "outputs": [
    {
     "name": "stdout",
     "output_type": "stream",
     "text": [
      "[WARNING] H2O requires requests module of version 2.10 or newer. You have version 2.9.1.\n",
      "You can upgrade to the newest version of the module running from the command line\n",
      "    $ pip2 install --upgrade requests\n",
      "Checking whether there is an H2O instance running at http://localhost:54321. connected.\n",
      "Warning: Your H2O cluster version is too old (6 months and 29 days)! Please download and install the latest version from http://h2o.ai/download/\n"
     ]
    },
    {
     "data": {
      "text/html": [
       "<div style=\"overflow:auto\"><table style=\"width:50%\"><tr><td>H2O cluster uptime:</td>\n",
       "<td>56 mins 41 secs</td></tr>\n",
       "<tr><td>H2O cluster version:</td>\n",
       "<td>3.10.4.8</td></tr>\n",
       "<tr><td>H2O cluster version age:</td>\n",
       "<td>6 months and 29 days !!!</td></tr>\n",
       "<tr><td>H2O cluster name:</td>\n",
       "<td>H2O_from_python_zzq_y3jhhu</td></tr>\n",
       "<tr><td>H2O cluster total nodes:</td>\n",
       "<td>1</td></tr>\n",
       "<tr><td>H2O cluster free memory:</td>\n",
       "<td>6.805 Gb</td></tr>\n",
       "<tr><td>H2O cluster total cores:</td>\n",
       "<td>8</td></tr>\n",
       "<tr><td>H2O cluster allowed cores:</td>\n",
       "<td>8</td></tr>\n",
       "<tr><td>H2O cluster status:</td>\n",
       "<td>locked, healthy</td></tr>\n",
       "<tr><td>H2O connection url:</td>\n",
       "<td>http://localhost:54321</td></tr>\n",
       "<tr><td>H2O connection proxy:</td>\n",
       "<td>None</td></tr>\n",
       "<tr><td>H2O internal security:</td>\n",
       "<td>False</td></tr>\n",
       "<tr><td>Python version:</td>\n",
       "<td>2.7.11 final</td></tr></table></div>"
      ],
      "text/plain": [
       "--------------------------  --------------------------\n",
       "H2O cluster uptime:         56 mins 41 secs\n",
       "H2O cluster version:        3.10.4.8\n",
       "H2O cluster version age:    6 months and 29 days !!!\n",
       "H2O cluster name:           H2O_from_python_zzq_y3jhhu\n",
       "H2O cluster total nodes:    1\n",
       "H2O cluster free memory:    6.805 Gb\n",
       "H2O cluster total cores:    8\n",
       "H2O cluster allowed cores:  8\n",
       "H2O cluster status:         locked, healthy\n",
       "H2O connection url:         http://localhost:54321\n",
       "H2O connection proxy:\n",
       "H2O internal security:      False\n",
       "Python version:             2.7.11 final\n",
       "--------------------------  --------------------------"
      ]
     },
     "metadata": {},
     "output_type": "display_data"
    },
    {
     "data": {
      "text/html": [
       "<div>\n",
       "<table border=\"1\" class=\"dataframe\">\n",
       "  <thead>\n",
       "    <tr style=\"text-align: right;\">\n",
       "      <th></th>\n",
       "      <th>REGION</th>\n",
       "      <th>DATE</th>\n",
       "      <th>WEEK</th>\n",
       "      <th>HOLIDAY</th>\n",
       "      <th>Min_T</th>\n",
       "      <th>Max_T</th>\n",
       "      <th>AVG_T</th>\n",
       "      <th>RAIN</th>\n",
       "      <th>0:00:00</th>\n",
       "      <th>0:30:00</th>\n",
       "      <th>...</th>\n",
       "      <th>19:30:00</th>\n",
       "      <th>20:00:00</th>\n",
       "      <th>20:30:00</th>\n",
       "      <th>21:00:00</th>\n",
       "      <th>21:30:00</th>\n",
       "      <th>22:00:00</th>\n",
       "      <th>22:30:00</th>\n",
       "      <th>23:00:00</th>\n",
       "      <th>23:30:00</th>\n",
       "      <th>AVG</th>\n",
       "    </tr>\n",
       "  </thead>\n",
       "  <tbody>\n",
       "    <tr>\n",
       "      <th>0</th>\n",
       "      <td>NSW</td>\n",
       "      <td>2015/1/1</td>\n",
       "      <td>4</td>\n",
       "      <td>1</td>\n",
       "      <td>21.4</td>\n",
       "      <td>28.4</td>\n",
       "      <td>24.90</td>\n",
       "      <td>0.0</td>\n",
       "      <td>NaN</td>\n",
       "      <td>6920.94</td>\n",
       "      <td>...</td>\n",
       "      <td>8592.39</td>\n",
       "      <td>8600.25</td>\n",
       "      <td>8441.17</td>\n",
       "      <td>8202.75</td>\n",
       "      <td>8023.55</td>\n",
       "      <td>7785.96</td>\n",
       "      <td>7653.88</td>\n",
       "      <td>7403.39</td>\n",
       "      <td>7173.16</td>\n",
       "      <td>7406.544043</td>\n",
       "    </tr>\n",
       "    <tr>\n",
       "      <th>1</th>\n",
       "      <td>NSW</td>\n",
       "      <td>2015/1/2</td>\n",
       "      <td>5</td>\n",
       "      <td>0</td>\n",
       "      <td>21.2</td>\n",
       "      <td>28.5</td>\n",
       "      <td>24.85</td>\n",
       "      <td>0.0</td>\n",
       "      <td>7021.85</td>\n",
       "      <td>6822.81</td>\n",
       "      <td>...</td>\n",
       "      <td>8674.98</td>\n",
       "      <td>8759.24</td>\n",
       "      <td>8600.01</td>\n",
       "      <td>8386.07</td>\n",
       "      <td>8337.14</td>\n",
       "      <td>8148.40</td>\n",
       "      <td>8013.82</td>\n",
       "      <td>7830.62</td>\n",
       "      <td>7587.17</td>\n",
       "      <td>7871.468958</td>\n",
       "    </tr>\n",
       "    <tr>\n",
       "      <th>2</th>\n",
       "      <td>NSW</td>\n",
       "      <td>2015/1/3</td>\n",
       "      <td>6</td>\n",
       "      <td>0</td>\n",
       "      <td>22.0</td>\n",
       "      <td>28.8</td>\n",
       "      <td>25.40</td>\n",
       "      <td>0.0</td>\n",
       "      <td>7369.24</td>\n",
       "      <td>7103.85</td>\n",
       "      <td>...</td>\n",
       "      <td>8937.24</td>\n",
       "      <td>8937.53</td>\n",
       "      <td>8794.29</td>\n",
       "      <td>8500.13</td>\n",
       "      <td>8357.49</td>\n",
       "      <td>8130.80</td>\n",
       "      <td>7915.78</td>\n",
       "      <td>7613.03</td>\n",
       "      <td>7306.60</td>\n",
       "      <td>7992.936875</td>\n",
       "    </tr>\n",
       "    <tr>\n",
       "      <th>3</th>\n",
       "      <td>NSW</td>\n",
       "      <td>2015/1/4</td>\n",
       "      <td>7</td>\n",
       "      <td>0</td>\n",
       "      <td>22.4</td>\n",
       "      <td>30.4</td>\n",
       "      <td>26.40</td>\n",
       "      <td>0.0</td>\n",
       "      <td>7088.00</td>\n",
       "      <td>6824.96</td>\n",
       "      <td>...</td>\n",
       "      <td>8578.79</td>\n",
       "      <td>8408.60</td>\n",
       "      <td>8213.51</td>\n",
       "      <td>7885.08</td>\n",
       "      <td>7693.58</td>\n",
       "      <td>7496.18</td>\n",
       "      <td>7339.71</td>\n",
       "      <td>7047.21</td>\n",
       "      <td>6835.27</td>\n",
       "      <td>7812.817500</td>\n",
       "    </tr>\n",
       "    <tr>\n",
       "      <th>4</th>\n",
       "      <td>NSW</td>\n",
       "      <td>2015/1/5</td>\n",
       "      <td>1</td>\n",
       "      <td>0</td>\n",
       "      <td>20.5</td>\n",
       "      <td>26.3</td>\n",
       "      <td>23.40</td>\n",
       "      <td>0.0</td>\n",
       "      <td>6680.09</td>\n",
       "      <td>6519.69</td>\n",
       "      <td>...</td>\n",
       "      <td>8517.12</td>\n",
       "      <td>8540.34</td>\n",
       "      <td>8340.37</td>\n",
       "      <td>8119.25</td>\n",
       "      <td>8073.51</td>\n",
       "      <td>7842.84</td>\n",
       "      <td>7729.15</td>\n",
       "      <td>7567.66</td>\n",
       "      <td>7354.40</td>\n",
       "      <td>7923.505417</td>\n",
       "    </tr>\n",
       "  </tbody>\n",
       "</table>\n",
       "<p>5 rows × 57 columns</p>\n",
       "</div>"
      ],
      "text/plain": [
       "  REGION      DATE  WEEK  HOLIDAY  Min_T  Max_T  AVG_T  RAIN  0:00:00  \\\n",
       "0    NSW  2015/1/1     4        1   21.4   28.4  24.90   0.0      NaN   \n",
       "1    NSW  2015/1/2     5        0   21.2   28.5  24.85   0.0  7021.85   \n",
       "2    NSW  2015/1/3     6        0   22.0   28.8  25.40   0.0  7369.24   \n",
       "3    NSW  2015/1/4     7        0   22.4   30.4  26.40   0.0  7088.00   \n",
       "4    NSW  2015/1/5     1        0   20.5   26.3  23.40   0.0  6680.09   \n",
       "\n",
       "   0:30:00     ...       19:30:00  20:00:00  20:30:00  21:00:00  21:30:00  \\\n",
       "0  6920.94     ...        8592.39   8600.25   8441.17   8202.75   8023.55   \n",
       "1  6822.81     ...        8674.98   8759.24   8600.01   8386.07   8337.14   \n",
       "2  7103.85     ...        8937.24   8937.53   8794.29   8500.13   8357.49   \n",
       "3  6824.96     ...        8578.79   8408.60   8213.51   7885.08   7693.58   \n",
       "4  6519.69     ...        8517.12   8540.34   8340.37   8119.25   8073.51   \n",
       "\n",
       "   22:00:00  22:30:00  23:00:00  23:30:00          AVG  \n",
       "0   7785.96   7653.88   7403.39   7173.16  7406.544043  \n",
       "1   8148.40   8013.82   7830.62   7587.17  7871.468958  \n",
       "2   8130.80   7915.78   7613.03   7306.60  7992.936875  \n",
       "3   7496.18   7339.71   7047.21   6835.27  7812.817500  \n",
       "4   7842.84   7729.15   7567.66   7354.40  7923.505417  \n",
       "\n",
       "[5 rows x 57 columns]"
      ]
     },
     "execution_count": 1,
     "metadata": {},
     "output_type": "execute_result"
    }
   ],
   "source": [
    "# -*- coding:utf-8 -*-\n",
    "import h2o\n",
    "h2o.init()\n",
    "import pandas as pd\n",
    "DATA_ALL = pd.read_csv(\"C:/Users/zzq/Desktop/DataMining/Data/pythontest2/DATA_ALL.csv\")\n",
    "NSW_TRAIN=pd.read_csv(\"C:/Users/zzq/Desktop/DataMining/Data/pythontest2/NSW_TRAIN.csv\")\n",
    "NSW_TEST = pd.read_csv(\"C:/Users/zzq/Desktop/DataMining/Data/pythontest2/NSW_TEST.csv\")\n",
    "DATA_ALL.head()"
   ]
  },
  {
   "cell_type": "code",
   "execution_count": 2,
   "metadata": {
    "collapsed": false
   },
   "outputs": [
    {
     "data": {
      "text/html": [
       "<div>\n",
       "<table border=\"1\" class=\"dataframe\">\n",
       "  <thead>\n",
       "    <tr style=\"text-align: right;\">\n",
       "      <th></th>\n",
       "      <th>AVG</th>\n",
       "    </tr>\n",
       "  </thead>\n",
       "  <tbody>\n",
       "    <tr>\n",
       "      <th>WEEK</th>\n",
       "      <td>-0.053435</td>\n",
       "    </tr>\n",
       "    <tr>\n",
       "      <th>HOLIDAY</th>\n",
       "      <td>-0.034470</td>\n",
       "    </tr>\n",
       "    <tr>\n",
       "      <th>Min_T</th>\n",
       "      <td>0.392973</td>\n",
       "    </tr>\n",
       "    <tr>\n",
       "      <th>Max_T</th>\n",
       "      <td>0.269267</td>\n",
       "    </tr>\n",
       "    <tr>\n",
       "      <th>AVG_T</th>\n",
       "      <td>0.343480</td>\n",
       "    </tr>\n",
       "    <tr>\n",
       "      <th>RAIN</th>\n",
       "      <td>0.104658</td>\n",
       "    </tr>\n",
       "  </tbody>\n",
       "</table>\n",
       "</div>"
      ],
      "text/plain": [
       "              AVG\n",
       "WEEK    -0.053435\n",
       "HOLIDAY -0.034470\n",
       "Min_T    0.392973\n",
       "Max_T    0.269267\n",
       "AVG_T    0.343480\n",
       "RAIN     0.104658"
      ]
     },
     "execution_count": 2,
     "metadata": {},
     "output_type": "execute_result"
    }
   ],
   "source": [
    "feature = DATA_ALL.iloc[:,[1,2,3,4,5,6,7,56]]\n",
    "corr_data = feature.corr()\n",
    "corr_data.iloc[:6,[6]]"
   ]
  },
  {
   "cell_type": "code",
   "execution_count": 3,
   "metadata": {
    "collapsed": false
   },
   "outputs": [],
   "source": [
    "#X_train = NSW_TRAIN.ix[:,8:55]  \n",
    "#X_test = NSW_TRAIN.iloc[:,[56]]\n",
    "#Y_train = NSW_TEST.ix[:,8:55]  \n",
    "#Y_test = NSW_TEST.iloc[:,[56]]\n",
    "feature_train = NSW_TRAIN.ix[:,[2,3,4,5,6,7]]\n",
    "feature_target = NSW_TRAIN.iloc[:,[56]]\n",
    "feature_test = NSW_TEST.ix[:,[2,3,4,5,6,7]]\n",
    "X_train = NSW_TRAIN.ix[:,[2,3,4,5,6,7]]  \n",
    "Y_train = NSW_TRAIN.iloc[:,[56]]\n",
    "X_test = NSW_TEST.ix[:,[2,3,4,5,6,7]]  \n",
    "Y_test = NSW_TEST.iloc[:,[56]]\n"
   ]
  },
  {
   "cell_type": "code",
   "execution_count": 7,
   "metadata": {
    "collapsed": false,
    "scrolled": true
   },
   "outputs": [
    {
     "name": "stdout",
     "output_type": "stream",
     "text": [
      "GradientBoostingRegressor(alpha=0.9, init=None, learning_rate=0.1, loss='ls',\n",
      "             max_depth=3, max_features=None, max_leaf_nodes=None,\n",
      "             min_samples_leaf=1, min_samples_split=2,\n",
      "             min_weight_fraction_leaf=0.0, n_estimators=100,\n",
      "             presort='auto', random_state=10, subsample=1.0, verbose=0,\n",
      "             warm_start=False)\n"
     ]
    },
    {
     "name": "stderr",
     "output_type": "stream",
     "text": [
      "C:\\Anaconda2\\lib\\site-packages\\sklearn\\utils\\validation.py:515: DataConversionWarning: A column-vector y was passed when a 1d array was expected. Please change the shape of y to (n_samples, ), for example using ravel().\n",
      "  y = column_or_1d(y, warn=True)\n"
     ]
    },
    {
     "name": "stdout",
     "output_type": "stream",
     "text": [
      "score: 0.891280956595\n",
      "avg_error: 0.0374546345283\n"
     ]
    }
   ],
   "source": [
    "from sklearn.ensemble import GradientBoostingRegressor\n",
    "from sklearn.metrics import mean_squared_error\n",
    "import numpy as np\n",
    "gbr = GradientBoostingRegressor(n_estimators=100, learning_rate=0.1,max_depth=3, random_state=10, loss='ls')\n",
    "print gbr\n",
    "gbr.fit(X_train, Y_train)\n",
    "predict = gbr.predict(X_test)\n",
    "print \"score:\",gbr.score(X_train ,Y_train)  \n",
    "\n",
    "from __future__ import division \n",
    "test_GBR = NSW_TEST\n",
    "test_GBR['predict'] = predict\n",
    "#error = (test[\"AVG_ELE\"] - test[\"predict\"]) / test[\"predict\"]\n",
    "test_GBR['error'] = np.abs(test_GBR[\"AVG_ELE\"] - test_GBR[\"predict\"]) / test_GBR[\"predict\"]\n",
    "print \"avg_error:\" ,np.abs(test_GBR[\"error\"]).sum() / test_GBR.shape[0]"
   ]
  },
  {
   "cell_type": "code",
   "execution_count": 8,
   "metadata": {
    "collapsed": false
   },
   "outputs": [
    {
     "name": "stdout",
     "output_type": "stream",
     "text": [
      "Parse progress: |█████████████████████████████████████████████████████████| 100%\n",
      "Parse progress: |█████████████████████████████████████████████████████████| 100%\n",
      "deeplearning Model Build progress: |██████████████████████████████████████| 100%\n",
      "deeplearning prediction progress: |███████████████████████████████████████| 100%\n",
      "avg_error 0.012442064026\n"
     ]
    }
   ],
   "source": [
    "from h2o.estimators.deeplearning import H2ODeepLearningEstimator\n",
    "train=h2o.import_file(path=\"C:/Users/zzq/Desktop/DataMining/Data/pythontest2/NSW_TRAIN.csv\",header=1)[1:,:]\n",
    "test =h2o.import_file(path=\"C:/Users/zzq/Desktop/DataMining/Data/pythontest2/NSW_TEST.csv\",header=1)[1:,:]\n",
    "temp = train[8:55]\n",
    "model = H2ODeepLearningEstimator(distribution='Gaussian',\n",
    "                                activation='RectifierWithDropout',\n",
    "                               hidden=[32,32,32],\n",
    "                               input_dropout_ratio=0.2,\n",
    "                               sparse=False,\n",
    "                               l1=1e-5,\n",
    "                               epochs=10,\n",
    "                               nfolds=5)\n",
    "model.train(x=temp.names,y=\"AVG_ELE\",training_frame=train,validation_frame=test)\n",
    "#print model\n",
    "pre = model.predict(test_data=test)\n",
    "\n",
    "from __future__ import division \n",
    "test_H2ODL =test\n",
    "test_H2ODL['pre'] = pre\n",
    "#error = (test[\"AVG_ELE\"] - test[\"predict\"]) / test[\"predict\"]]\n",
    "test_H2ODL['error'] = (test_H2ODL[\"AVG_ELE\"] - test_H2ODL[\"pre\"]) / test_H2ODL[\"pre\"]\n",
    "print \"avg_error\",test_H2ODL[\"error\"].sum() / test_H2ODL.shape[0]"
   ]
  },
  {
   "cell_type": "code",
   "execution_count": 9,
   "metadata": {
    "collapsed": false
   },
   "outputs": [
    {
     "name": "stdout",
     "output_type": "stream",
     "text": [
      "deeplearning Grid Build progress: |███████████████████████████████████████| 100%\n",
      "Grid_DeepLearning_py_6_sid_96e5_model_python_1513738562214_9_model_3 mse: 935.898926125\n",
      "Grid_DeepLearning_py_6_sid_96e5_model_python_1513738562214_9_model_0 mse: 5118.75247066\n",
      "Grid_DeepLearning_py_6_sid_96e5_model_python_1513738562214_9_model_4 mse: 1369.55359255\n",
      "Grid_DeepLearning_py_6_sid_96e5_model_python_1513738562214_9_model_1 mse: 2088.50573165\n",
      "Grid_DeepLearning_py_6_sid_96e5_model_python_1513738562214_9_model_2 mse: 4551.18558115\n",
      "Grid_DeepLearning_py_6_sid_96e5_model_python_1513738562214_9_model_5 mse: 2280.24940858\n"
     ]
    }
   ],
   "source": [
    "from h2o.grid.grid_search import H2OGridSearch\n",
    "hidden_opt = [[32,32],[32,16,8],[100]]\n",
    "l1_opt = [1e-4,1e-3]\n",
    "hyper_parameters = {\"hidden\":hidden_opt, \"l1\":l1_opt}\n",
    "\n",
    "model_grid = H2OGridSearch(H2ODeepLearningEstimator,hyper_params=hyper_parameters)\n",
    "model_grid.train(x=temp.names,y=\"AVG_ELE\",\n",
    "                 epochs=10,\n",
    "                 training_frame=train,\n",
    "                 validation_frame=test,\n",
    "                 score_interval=2,\n",
    "                 stopping_rounds=3,\n",
    "                 stopping_tolerance=0.05)\n",
    "\n",
    "#print model grid search results\n",
    "for model in model_grid:\n",
    "    print model.model_id + \" mse: \" + str(model.mse())"
   ]
  },
  {
   "cell_type": "code",
   "execution_count": 47,
   "metadata": {
    "collapsed": false
   },
   "outputs": [
    {
     "name": "stdout",
     "output_type": "stream",
     "text": [
      "SVR(C=1000, cache_size=200, coef0=0, degree=3, epsilon=0.1, gamma=0.001,\n",
      "  kernel='rbf', max_iter=-2, shrinking=True, tol=0.001, verbose=False)\n"
     ]
    },
    {
     "name": "stderr",
     "output_type": "stream",
     "text": [
      "C:\\Anaconda2\\lib\\site-packages\\sklearn\\svm\\base.py:216: DataConversionWarning: A column-vector y was passed when a 1d array was expected. Please change the shape of y to (n_samples, ), for example using ravel().\n",
      "  return column_or_1d(y, warn=True).astype(np.float64)\n"
     ]
    },
    {
     "name": "stdout",
     "output_type": "stream",
     "text": [
      "[ 8564.253436  8564.253436  8564.253436  8564.253436  8564.253436\n",
      "  8564.253436  8564.253436  8564.253436  8564.253436  8564.253436\n",
      "  8564.253436  8564.253436  8564.253436  8564.253436  8564.253436\n",
      "  8564.253436  8564.253436  8564.253436  8564.253436  8564.253436\n",
      "  8564.253436  8564.253436  8564.253436  8564.253436  8564.253436\n",
      "  8564.253436  8564.253436  8564.253436  8564.253436  8564.253436]\n",
      "avg_error: 0.0534577642081\n"
     ]
    }
   ],
   "source": [
    "from sklearn import preprocessing\n",
    "from sklearn import svm\n",
    "from sklearn import linear_model \n",
    "#feature = train[:,[2,3,4,5,6,7]]  \n",
    "#print feature.head()\n",
    "fm_train = feature_train.as_matrix(columns=None) \n",
    "fm_test = feature_test.as_matrix(columns=None)\n",
    "#normalizer = preprocessing.Normalizer().fit(fm) \n",
    "#fmN = normalizer.transform(fm)\n",
    "#print fm\n",
    "#print fmN\n",
    "#mm = preprocessing.minmax_scale(X, feature_range=(0, 1), axis=0, copy=True)\n",
    "#fm_tr = mm.fit_transform(feature_train)\n",
    "fm_tr = preprocessing.minmax_scale(feature_train, feature_range=(0, 1), axis=0, copy=True)\n",
    "fm_te =  preprocessing.minmax_scale(feature_test, feature_range=(0, 1), axis=0, copy=True)\n",
    "\n",
    "clf =svm.SVR(C=1000, cache_size=200, coef0=0, degree=3, epsilon=0.1, gamma=0.001,\n",
    "  kernel='rbf', max_iter=-2, shrinking=True, tol=0.001, verbose=False)  # class   \n",
    "print clf\n",
    "clf.fit(fm_tr,feature_target)  # training the svc model \n",
    "result = clf.predict(fm_te)   \n",
    "print result  \n",
    "\n",
    "from __future__ import division \n",
    "\n",
    "temp_svr =NSW_TEST\n",
    "temp_svr['result'] = result\n",
    "temp_svr['error'] = (temp_svr[\"AVG_ELE\"] - temp_svr[\"result\"]) / temp_svr[\"result\"]\n",
    "print \"avg_error:\",np.abs(temp_svr[\"error\"]).sum() / temp_svr.shape[0]"
   ]
  },
  {
   "cell_type": "code",
   "execution_count": null,
   "metadata": {
    "collapsed": false
   },
   "outputs": [],
   "source": [
    "mm = preprocessing.StandardScaler()\n",
    "fm_tr = mm.fit_transform(feature_train)\n",
    "fm_ta = feature_target.as_matrix(columns=None)\n",
    "fm_te = mm.fit_transform(feature_test)\n",
    "from matplotlib.colors import ListedColormap\n",
    "import matplotlib.pyplot as plt\n",
    "cm = plt.cm.RdBu\n",
    "cm_bright = ListedColormap(['#FF0000', '#0000FF'])\n",
    "ax = plt.subplot()\n",
    "\n",
    "ax.set_title(\"Input data\")\n",
    "# Plot the training points\n",
    "ax.scatter(fm_tr[:, 1], fm_tr[:, 2], c=fm_ta, cmap=cm_bright)\n",
    "ax.set_xticks(())\n",
    "ax.set_yticks(())\n",
    "plt.tight_layout()\n",
    "plt.show()\n",
    "\n",
    "from sklearn.grid_search import GridSearchCV\n",
    "from sklearn import svm\n",
    "grid = GridSearchCV(svm.SVR(), param_grid={\"C\":[0.1, 1, 10,1000,10000,100000], \"gamma\": [1, 0.1, 0.01,0.001]}, cv=4)\n",
    "grid.fit(fm_tr, fm_ta)\n",
    "print(\"The best parameters are %s with a score of %0.2f\" % (grid.best_params_, grid.best_score_))"
   ]
  },
  {
   "cell_type": "code",
   "execution_count": 15,
   "metadata": {
    "collapsed": false
   },
   "outputs": [
    {
     "name": "stdout",
     "output_type": "stream",
     "text": [
      "Fitting 5 folds for each of 14 candidates, totalling 70 fits\n"
     ]
    },
    {
     "name": "stderr",
     "output_type": "stream",
     "text": [
      "[Parallel(n_jobs=8)]: Done  70 out of  70 | elapsed:    1.4s finished\n",
      "C:\\Anaconda2\\lib\\site-packages\\sklearn\\svm\\base.py:216: DataConversionWarning: A column-vector y was passed when a 1d array was expected. Please change the shape of y to (n_samples, ), for example using ravel().\n",
      "  return column_or_1d(y, warn=True).astype(np.float64)\n"
     ]
    },
    {
     "name": "stdout",
     "output_type": "stream",
     "text": [
      "('kernel', 'rbf')\n",
      "('C', 1000)\n",
      "('verbose', False)\n",
      "('degree', 3)\n",
      "('epsilon', 0.1)\n",
      "('shrinking', True)\n",
      "('max_iter', -1)\n",
      "('tol', 0.001)\n",
      "('cache_size', 200)\n",
      "('coef0', 0.0)\n",
      "('gamma', 0.001)\n"
     ]
    },
    {
     "name": "stderr",
     "output_type": "stream",
     "text": [
      "C:\\Anaconda2\\lib\\site-packages\\sklearn\\svm\\base.py:216: DataConversionWarning: A column-vector y was passed when a 1d array was expected. Please change the shape of y to (n_samples, ), for example using ravel().\n",
      "  return column_or_1d(y, warn=True).astype(np.float64)\n"
     ]
    },
    {
     "data": {
      "text/plain": [
       "SVR(C=1000, cache_size=200, coef0=0.0, degree=3, epsilon=0.1, gamma=0.001,\n",
       "  kernel='rbf', max_iter=-1, shrinking=True, tol=0.001, verbose=False)"
      ]
     },
     "execution_count": 15,
     "metadata": {},
     "output_type": "execute_result"
    }
   ],
   "source": [
    "def svm_cross_validation(train_x, train_y):    \n",
    "    from sklearn.grid_search import GridSearchCV    \n",
    "    from sklearn import svm    \n",
    "    model = svm.SVR(kernel='rbf')    \n",
    "    param_grid = {'C': [1e-3, 1e-2, 1e-1, 1, 10, 100, 1000], 'gamma': [0.001, 0.0001]}    \n",
    "    grid_search = GridSearchCV(model, param_grid, n_jobs = 8, verbose=1,cv=5)    \n",
    "    grid_search.fit(train_x, train_y)    \n",
    "    best_parameters = grid_search.best_estimator_.get_params()    \n",
    "    for para, val in list(best_parameters.items()):    \n",
    "        print(para, val)    \n",
    "    model = svm.SVR(kernel='rbf', C=best_parameters['C'], gamma=best_parameters['gamma'])    \n",
    "    model.fit(train_x, train_y)    \n",
    "    return model\n",
    "svm_cross_validation(fm_tr, fm_ta)"
   ]
  },
  {
   "cell_type": "code",
   "execution_count": null,
   "metadata": {
    "collapsed": true
   },
   "outputs": [],
   "source": []
  },
  {
   "cell_type": "code",
   "execution_count": null,
   "metadata": {
    "collapsed": true
   },
   "outputs": [],
   "source": []
  }
 ],
 "metadata": {
  "kernelspec": {
   "display_name": "Python 2",
   "language": "python",
   "name": "python2"
  },
  "language_info": {
   "codemirror_mode": {
    "name": "ipython",
    "version": 2
   },
   "file_extension": ".py",
   "mimetype": "text/x-python",
   "name": "python",
   "nbconvert_exporter": "python",
   "pygments_lexer": "ipython2",
   "version": "2.7.11"
  }
 },
 "nbformat": 4,
 "nbformat_minor": 0
}
