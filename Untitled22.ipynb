{
 "cells": [
  {
   "cell_type": "code",
   "execution_count": 1,
   "metadata": {
    "collapsed": false
   },
   "outputs": [
    {
     "name": "stdout",
     "output_type": "stream",
     "text": [
      "Checking whether there is an H2O instance running at http://localhost:54321..... not found.\n",
      "Attempting to start a local H2O server...\n",
      "; Java HotSpot(TM) 64-Bit Server VM (build 25.144-b01, mixed mode)\n",
      "  Starting server from C:\\Anaconda2\\lib\\site-packages\\h2o\\backend\\bin\\h2o.jar\n",
      "  Ice root: c:\\users\\zzq\\appdata\\local\\temp\\tmp9g5qi5\n",
      "  JVM stdout: c:\\users\\zzq\\appdata\\local\\temp\\tmp9g5qi5\\h2o_zzq_started_from_python.out\n",
      "  JVM stderr: c:\\users\\zzq\\appdata\\local\\temp\\tmp9g5qi5\\h2o_zzq_started_from_python.err\n",
      "  Server is running at http://127.0.0.1:54321\n",
      "Connecting to H2O server at http://127.0.0.1:54321... successful.\n",
      "Warning: Your H2O cluster version is too old (7 months and 24 days)! Please download and install the latest version from http://h2o.ai/download/\n"
     ]
    },
    {
     "data": {
      "text/html": [
       "<div style=\"overflow:auto\"><table style=\"width:50%\"><tr><td>H2O cluster uptime:</td>\n",
       "<td>03 secs</td></tr>\n",
       "<tr><td>H2O cluster version:</td>\n",
       "<td>3.10.4.8</td></tr>\n",
       "<tr><td>H2O cluster version age:</td>\n",
       "<td>7 months and 24 days !!!</td></tr>\n",
       "<tr><td>H2O cluster name:</td>\n",
       "<td>H2O_from_python_zzq_7bg5or</td></tr>\n",
       "<tr><td>H2O cluster total nodes:</td>\n",
       "<td>1</td></tr>\n",
       "<tr><td>H2O cluster free memory:</td>\n",
       "<td>7.099 Gb</td></tr>\n",
       "<tr><td>H2O cluster total cores:</td>\n",
       "<td>8</td></tr>\n",
       "<tr><td>H2O cluster allowed cores:</td>\n",
       "<td>8</td></tr>\n",
       "<tr><td>H2O cluster status:</td>\n",
       "<td>accepting new members, healthy</td></tr>\n",
       "<tr><td>H2O connection url:</td>\n",
       "<td>http://127.0.0.1:54321</td></tr>\n",
       "<tr><td>H2O connection proxy:</td>\n",
       "<td>None</td></tr>\n",
       "<tr><td>H2O internal security:</td>\n",
       "<td>False</td></tr>\n",
       "<tr><td>Python version:</td>\n",
       "<td>2.7.13 final</td></tr></table></div>"
      ],
      "text/plain": [
       "--------------------------  ------------------------------\n",
       "H2O cluster uptime:         03 secs\n",
       "H2O cluster version:        3.10.4.8\n",
       "H2O cluster version age:    7 months and 24 days !!!\n",
       "H2O cluster name:           H2O_from_python_zzq_7bg5or\n",
       "H2O cluster total nodes:    1\n",
       "H2O cluster free memory:    7.099 Gb\n",
       "H2O cluster total cores:    8\n",
       "H2O cluster allowed cores:  8\n",
       "H2O cluster status:         accepting new members, healthy\n",
       "H2O connection url:         http://127.0.0.1:54321\n",
       "H2O connection proxy:\n",
       "H2O internal security:      False\n",
       "Python version:             2.7.13 final\n",
       "--------------------------  ------------------------------"
      ]
     },
     "metadata": {},
     "output_type": "display_data"
    },
    {
     "data": {
      "text/html": [
       "<div>\n",
       "<table border=\"1\" class=\"dataframe\">\n",
       "  <thead>\n",
       "    <tr style=\"text-align: right;\">\n",
       "      <th></th>\n",
       "      <th>X</th>\n",
       "      <th>Y</th>\n",
       "      <th>month</th>\n",
       "      <th>day</th>\n",
       "      <th>FFMC</th>\n",
       "      <th>DMC</th>\n",
       "      <th>DC</th>\n",
       "      <th>ISI</th>\n",
       "      <th>temp</th>\n",
       "      <th>RH</th>\n",
       "      <th>wind</th>\n",
       "      <th>rain</th>\n",
       "      <th>area</th>\n",
       "      <th>label</th>\n",
       "      <th>month_</th>\n",
       "      <th>day_</th>\n",
       "    </tr>\n",
       "  </thead>\n",
       "  <tbody>\n",
       "    <tr>\n",
       "      <th>0</th>\n",
       "      <td>7</td>\n",
       "      <td>5</td>\n",
       "      <td>mar</td>\n",
       "      <td>fri</td>\n",
       "      <td>86.2</td>\n",
       "      <td>26.2</td>\n",
       "      <td>94.3</td>\n",
       "      <td>5.1</td>\n",
       "      <td>8.2</td>\n",
       "      <td>51</td>\n",
       "      <td>6.7</td>\n",
       "      <td>0.0</td>\n",
       "      <td>0.0</td>\n",
       "      <td>0</td>\n",
       "      <td>3</td>\n",
       "      <td>5</td>\n",
       "    </tr>\n",
       "    <tr>\n",
       "      <th>1</th>\n",
       "      <td>7</td>\n",
       "      <td>4</td>\n",
       "      <td>oct</td>\n",
       "      <td>tue</td>\n",
       "      <td>90.6</td>\n",
       "      <td>35.4</td>\n",
       "      <td>669.1</td>\n",
       "      <td>6.7</td>\n",
       "      <td>18.0</td>\n",
       "      <td>33</td>\n",
       "      <td>0.9</td>\n",
       "      <td>0.0</td>\n",
       "      <td>0.0</td>\n",
       "      <td>0</td>\n",
       "      <td>10</td>\n",
       "      <td>2</td>\n",
       "    </tr>\n",
       "    <tr>\n",
       "      <th>2</th>\n",
       "      <td>7</td>\n",
       "      <td>4</td>\n",
       "      <td>oct</td>\n",
       "      <td>sat</td>\n",
       "      <td>90.6</td>\n",
       "      <td>43.7</td>\n",
       "      <td>686.9</td>\n",
       "      <td>6.7</td>\n",
       "      <td>14.6</td>\n",
       "      <td>33</td>\n",
       "      <td>1.3</td>\n",
       "      <td>0.0</td>\n",
       "      <td>0.0</td>\n",
       "      <td>0</td>\n",
       "      <td>10</td>\n",
       "      <td>6</td>\n",
       "    </tr>\n",
       "    <tr>\n",
       "      <th>3</th>\n",
       "      <td>8</td>\n",
       "      <td>6</td>\n",
       "      <td>mar</td>\n",
       "      <td>fri</td>\n",
       "      <td>91.7</td>\n",
       "      <td>33.3</td>\n",
       "      <td>77.5</td>\n",
       "      <td>9.0</td>\n",
       "      <td>8.3</td>\n",
       "      <td>97</td>\n",
       "      <td>4.0</td>\n",
       "      <td>0.2</td>\n",
       "      <td>0.0</td>\n",
       "      <td>0</td>\n",
       "      <td>3</td>\n",
       "      <td>5</td>\n",
       "    </tr>\n",
       "    <tr>\n",
       "      <th>4</th>\n",
       "      <td>8</td>\n",
       "      <td>6</td>\n",
       "      <td>mar</td>\n",
       "      <td>sun</td>\n",
       "      <td>89.3</td>\n",
       "      <td>51.3</td>\n",
       "      <td>102.2</td>\n",
       "      <td>9.6</td>\n",
       "      <td>11.4</td>\n",
       "      <td>99</td>\n",
       "      <td>1.8</td>\n",
       "      <td>0.0</td>\n",
       "      <td>0.0</td>\n",
       "      <td>0</td>\n",
       "      <td>3</td>\n",
       "      <td>7</td>\n",
       "    </tr>\n",
       "  </tbody>\n",
       "</table>\n",
       "</div>"
      ],
      "text/plain": [
       "   X  Y month  day  FFMC   DMC     DC  ISI  temp  RH  wind  rain  area  label  \\\n",
       "0  7  5   mar  fri  86.2  26.2   94.3  5.1   8.2  51   6.7   0.0   0.0      0   \n",
       "1  7  4   oct  tue  90.6  35.4  669.1  6.7  18.0  33   0.9   0.0   0.0      0   \n",
       "2  7  4   oct  sat  90.6  43.7  686.9  6.7  14.6  33   1.3   0.0   0.0      0   \n",
       "3  8  6   mar  fri  91.7  33.3   77.5  9.0   8.3  97   4.0   0.2   0.0      0   \n",
       "4  8  6   mar  sun  89.3  51.3  102.2  9.6  11.4  99   1.8   0.0   0.0      0   \n",
       "\n",
       "   month_  day_  \n",
       "0       3     5  \n",
       "1      10     2  \n",
       "2      10     6  \n",
       "3       3     5  \n",
       "4       3     7  "
      ]
     },
     "execution_count": 1,
     "metadata": {},
     "output_type": "execute_result"
    }
   ],
   "source": [
    "# -*- coding:utf-8 -*-\n",
    "from sklearn.decomposition import PCA\n",
    "import matplotlib.pyplot as plt\n",
    "plt.rcParams['axes.unicode_minus']=False\n",
    "%matplotlib inline\n",
    "import pandas as pd\n",
    "from sklearn.cluster import  KMeans\n",
    "import h2o\n",
    "h2o.init()\n",
    "#空间因素（X、Y）、时间因素（月份）、森林自身因素（FFMC-细小可燃物湿度码、\n",
    "#DMC-粗腐殖质湿度码、DC-干旱码、ISI-初始蔓延指数）、气候因素（temp-摄氏温度、RH-相对湿度、wind-风速、rain-降雨量）\n",
    "data = pd.read_csv(\"C:/Users/zzq/Desktop/DataMining/Data/forestfires.csv\")\n",
    "data['label'] = map(lambda x: 0 if x == 0 else (1 if 0 < x <= 1 else (2 if 1 < x <=100 else 3)),data['area'])\n",
    "data['month_'] = map(lambda x: 1 if x == 'jan'\n",
    "else (2 if x == 'feb'\n",
    "      else (3 if x=='mar'\n",
    "            else (4 if x=='apr'\n",
    "                  else (5 if x=='may'\n",
    "                        else (6 if x=='jun'\n",
    "                              else (7 if x=='jul'\n",
    "                                    else (8 if x=='aug'\n",
    "                                          else (9 if x=='sep'\n",
    "                                                else (10 if x=='oct'\n",
    "                                                      else (11 if  x=='nov' else 12)))))))))),data['month'])\n",
    "data['day_'] = map(lambda x: 1 if x == 'mon' else (2 if x == 'tue' else (3 if x =='wed' else (4 if x =='thu' else (5 if x =='fri' else (6 if x =='sat' else 7))))),data['day'])\n",
    "data.to_csv(\"C:\\\\Users\\\\zzq\\\\Desktop\\\\DataMining\\\\Data\\\\ff.csv\",index=False,header=True)\n",
    "data.head()"
   ]
  },
  {
   "cell_type": "code",
   "execution_count": 2,
   "metadata": {
    "collapsed": false
   },
   "outputs": [
    {
     "name": "stdout",
     "output_type": "stream",
     "text": [
      "(247, 16)\n",
      "(27, 16)\n",
      "(232, 16)\n",
      "11\n"
     ]
    },
    {
     "data": {
      "image/png": "[encoded data removed]",
      "text/plain": [
       "<matplotlib.figure.Figure at 0x10d43ba8>"
      ]
     },
     "metadata": {},
     "output_type": "display_data"
    }
   ],
   "source": [
    "data1 = data[data.area == 0]\n",
    "print data1.shape\n",
    "data2 = data[(0 < data.area) & (data.area <= 1)]\n",
    "print data2.shape\n",
    "data3 = data[(1 < data.area) & (data.area <= 100)]\n",
    "print data3.shape\n",
    "print data.shape[0] - data1.shape[0]-data2.shape[0]-data3.shape[0]\n",
    "data4 = pd.DataFrame()\n",
    "m_list = [247,27,232,11]\n",
    "mm = [0,1,2,3]\n",
    "data4[\"count\"] = m_list\n",
    "data4[\"num\"] = mm\n",
    "fig = plt.figure()\n",
    "plt.bar(mm,m_list,0.3,color=\"green\")\n",
    "plt.show()"
   ]
  },
  {
   "cell_type": "code",
   "execution_count": 3,
   "metadata": {
    "collapsed": false
   },
   "outputs": [
    {
     "name": "stdout",
     "output_type": "stream",
     "text": [
      "0    358\n",
      "2     93\n",
      "1     64\n",
      "3      2\n",
      "dtype: int64\n",
      "         0         1          2           3           4          5   \\\n",
      "0  4.486034  4.198324  91.714246  136.143296  694.236313   9.673464   \n",
      "1  5.250000  4.609375  90.623437   86.045313  412.421875   9.117188   \n",
      "2  4.924731  4.451613  86.477419   29.368817   75.058065   6.398925   \n",
      "3  7.000000  5.500000  93.650000  171.750000  686.500000  11.250000   \n",
      "\n",
      "          6          7         8         9           10        11        12  \n",
      "0  20.553911  43.891061  3.767318  0.030168    9.834413  8.547486  4.262570  \n",
      "1  18.721875  43.328125  4.625000  0.003125   12.547031  7.671875  4.109375  \n",
      "2  12.436559  46.849462  4.553763  0.002151    5.174194  3.193548  4.333333  \n",
      "3  26.300000  27.000000  4.450000  0.000000  918.560000  8.500000  5.000000  \n",
      "   X  Y month  day  FFMC   DMC     DC  ISI  temp  RH  wind  rain  area  label  \\\n",
      "0  7  5   mar  fri  86.2  26.2   94.3  5.1   8.2  51   6.7   0.0   0.0      0   \n",
      "1  7  4   oct  tue  90.6  35.4  669.1  6.7  18.0  33   0.9   0.0   0.0      0   \n",
      "2  7  4   oct  sat  90.6  43.7  686.9  6.7  14.6  33   1.3   0.0   0.0      0   \n",
      "3  8  6   mar  fri  91.7  33.3   77.5  9.0   8.3  97   4.0   0.2   0.0      0   \n",
      "4  8  6   mar  sun  89.3  51.3  102.2  9.6  11.4  99   1.8   0.0   0.0      0   \n",
      "\n",
      "   month_  day_  klabel  \n",
      "0       3     5       2  \n",
      "1      10     2       0  \n",
      "2      10     6       0  \n",
      "3       3     5       2  \n",
      "4       3     7       2  \n",
      "X           int64\n",
      "Y           int64\n",
      "month      object\n",
      "day        object\n",
      "FFMC      float64\n",
      "DMC       float64\n",
      "DC        float64\n",
      "ISI       float64\n",
      "temp      float64\n",
      "RH          int64\n",
      "wind      float64\n",
      "rain      float64\n",
      "area      float64\n",
      "label       int64\n",
      "month_      int64\n",
      "day_        int64\n",
      "klabel      int32\n",
      "dtype: object\n",
      "0\n",
      "            x          y  klabel\n",
      "0  461.769941  -6.739262       2\n",
      "1 -105.469297 -21.585240       0\n",
      "2 -124.425838 -21.482410       0\n",
      "3  477.062602  -6.555472       2\n",
      "4  449.519717  -5.919727       2\n"
     ]
    }
   ],
   "source": [
    "X = data.iloc[:,[0,1,4,5,6,7,8,9,10,11,12,14,15]]\n",
    "model = KMeans(n_clusters = 4).fit(X)\n",
    "r1 = pd.Series(model.labels_).value_counts() \n",
    "r2 = pd.DataFrame(model.cluster_centers_)\n",
    "data[\"klabel\"] = model.labels_\n",
    "#data.to_csv(\"C:/Users/zzq/Desktop/DataMining/Data/data6/new_df.csv\",index = False,header = True)\n",
    "res = data.iloc[:,[0,1,4,5,6,7,8,9,10,11,12,14,15]]\n",
    "pca = PCA(n_components = 2)\n",
    "#newX = pca.fit_transform(r2)\n",
    "#newX  = pd.DataFrame(newX)\n",
    "res_new = pca.fit_transform(res)\n",
    "res_new = pd.DataFrame(res_new)\n",
    "res_new.columns=[\"x\",\"y\"]\n",
    "res_new[\"klabel\"] = model.labels_\n",
    "\n",
    "print r1\n",
    "print r2\n",
    "print data.head()\n",
    "print data.dtypes\n",
    "#准确率\n",
    "df_correct = data[data.label == data.klabel]\n",
    "auc = df_correct.shape[0] / data.shape[0]\n",
    "print auc\n",
    "print res_new.head()"
   ]
  },
  {
   "cell_type": "code",
   "execution_count": 4,
   "metadata": {
    "collapsed": false
   },
   "outputs": [
    {
     "data": {
      "image/png": "[encoded data removed]",
      "text/plain": [
       "<matplotlib.figure.Figure at 0x10d5b320>"
      ]
     },
     "metadata": {},
     "output_type": "display_data"
    }
   ],
   "source": [
    "plt.rcParams['font.sans-serif'] = ['SimHei']  \n",
    "plt.plot([res_new[res_new['klabel']== 0].x], [res_new[res_new['klabel']== 0].y] ,'ro')\n",
    "plt.plot([res_new[res_new['klabel']== 1].x], [res_new[res_new['klabel']== 1].y] ,'bo')\n",
    "plt.plot([res_new[res_new['klabel']== 2].x], [res_new[res_new['klabel']== 2].y] ,'yo')\n",
    "plt.plot([res_new[res_new['klabel']== 3].x], [res_new[res_new['klabel']== 3].y] ,'go')\n",
    "plt.rc('font', family='STXihei', size=15)\n",
    "plt.title(u'聚类图')\n",
    "plt.xlabel(u'x')\n",
    "plt.ylabel(u'y')\n",
    "plt.grid(color='#95a5a6',linestyle='--', linewidth=3,axis='both',alpha=0.4)\n",
    "plt.savefig(u\"C:\\\\Users\\\\zzq\\\\Desktop\\\\聚类图.png\")\n",
    "plt.show()"
   ]
  },
  {
   "cell_type": "code",
   "execution_count": 5,
   "metadata": {
    "collapsed": false
   },
   "outputs": [
    {
     "data": {
      "text/html": [
       "<div>\n",
       "<table border=\"1\" class=\"dataframe\">\n",
       "  <thead>\n",
       "    <tr style=\"text-align: right;\">\n",
       "      <th></th>\n",
       "      <th>area</th>\n",
       "    </tr>\n",
       "  </thead>\n",
       "  <tbody>\n",
       "    <tr>\n",
       "      <th>X</th>\n",
       "      <td>0.063385</td>\n",
       "    </tr>\n",
       "    <tr>\n",
       "      <th>Y</th>\n",
       "      <td>0.044873</td>\n",
       "    </tr>\n",
       "    <tr>\n",
       "      <th>FFMC</th>\n",
       "      <td>0.040122</td>\n",
       "    </tr>\n",
       "    <tr>\n",
       "      <th>DMC</th>\n",
       "      <td>0.072994</td>\n",
       "    </tr>\n",
       "    <tr>\n",
       "      <th>DC</th>\n",
       "      <td>0.049383</td>\n",
       "    </tr>\n",
       "    <tr>\n",
       "      <th>ISI</th>\n",
       "      <td>0.008258</td>\n",
       "    </tr>\n",
       "    <tr>\n",
       "      <th>temp</th>\n",
       "      <td>0.097844</td>\n",
       "    </tr>\n",
       "    <tr>\n",
       "      <th>RH</th>\n",
       "      <td>-0.075519</td>\n",
       "    </tr>\n",
       "    <tr>\n",
       "      <th>wind</th>\n",
       "      <td>0.012317</td>\n",
       "    </tr>\n",
       "    <tr>\n",
       "      <th>rain</th>\n",
       "      <td>-0.007366</td>\n",
       "    </tr>\n",
       "    <tr>\n",
       "      <th>area</th>\n",
       "      <td>1.000000</td>\n",
       "    </tr>\n",
       "    <tr>\n",
       "      <th>label</th>\n",
       "      <td>0.302035</td>\n",
       "    </tr>\n",
       "    <tr>\n",
       "      <th>month_</th>\n",
       "      <td>0.056496</td>\n",
       "    </tr>\n",
       "    <tr>\n",
       "      <th>day_</th>\n",
       "      <td>0.023226</td>\n",
       "    </tr>\n",
       "    <tr>\n",
       "      <th>klabel</th>\n",
       "      <td>0.152456</td>\n",
       "    </tr>\n",
       "  </tbody>\n",
       "</table>\n",
       "</div>"
      ],
      "text/plain": [
       "            area\n",
       "X       0.063385\n",
       "Y       0.044873\n",
       "FFMC    0.040122\n",
       "DMC     0.072994\n",
       "DC      0.049383\n",
       "ISI     0.008258\n",
       "temp    0.097844\n",
       "RH     -0.075519\n",
       "wind    0.012317\n",
       "rain   -0.007366\n",
       "area    1.000000\n",
       "label   0.302035\n",
       "month_  0.056496\n",
       "day_    0.023226\n",
       "klabel  0.152456"
      ]
     },
     "execution_count": 5,
     "metadata": {},
     "output_type": "execute_result"
    }
   ],
   "source": [
    "corr = data.corr()\n",
    "corr = corr.drop(['label'], axis=1)\n",
    "corr = corr.loc[:,['area']]\n",
    "corr"
   ]
  },
  {
   "cell_type": "code",
   "execution_count": 6,
   "metadata": {
    "collapsed": false
   },
   "outputs": [
    {
     "data": {
      "image/png": "[encoded data removed]",
      "text/plain": [
       "<matplotlib.figure.Figure at 0x10c04048>"
      ]
     },
     "metadata": {},
     "output_type": "display_data"
    }
   ],
   "source": [
    "plt.hist(data['wind'])\n",
    "plt.show()\n"
   ]
  },
  {
   "cell_type": "code",
   "execution_count": 7,
   "metadata": {
    "collapsed": false
   },
   "outputs": [
    {
     "data": {
      "image/png": "[encoded data removed]",
      "text/plain": [
       "<matplotlib.figure.Figure at 0x61905f8>"
      ]
     },
     "metadata": {},
     "output_type": "display_data"
    }
   ],
   "source": [
    "fig = plt.figure()\n",
    "ax = fig.add_subplot(111)\n",
    "ax.scatter(data['temp'], data['RH'], s=data['area'],c=\"r\")\n",
    "plt.xlabel(u\"温度\")\n",
    "plt.ylabel(u\"湿度\")\n",
    "plt.title(u\"温度、湿度与火灾面积的关系\")\n",
    "plt.show()"
   ]
  },
  {
   "cell_type": "code",
   "execution_count": 8,
   "metadata": {
    "collapsed": false
   },
   "outputs": [
    {
     "data": {
      "image/png": "[encoded data removed]",
      "text/plain": [
       "<matplotlib.figure.Figure at 0x1461e5c0>"
      ]
     },
     "metadata": {},
     "output_type": "display_data"
    }
   ],
   "source": [
    "fig = plt.figure()\n",
    "ax = fig.add_subplot(111)\n",
    "ax.scatter(data['month_'], data['day_'], s=data['area'],c=\"r\")\n",
    "plt.xlabel(\"month\")\n",
    "plt.ylabel(\"day\")\n",
    "plt.title(u\"时间与火灾面积的关系\")\n",
    "plt.show()"
   ]
  },
  {
   "cell_type": "code",
   "execution_count": 9,
   "metadata": {
    "collapsed": false
   },
   "outputs": [
    {
     "data": {
      "image/png": "[encoded data removed]",
      "text/plain": [
       "<matplotlib.figure.Figure at 0x10f7ff28>"
      ]
     },
     "metadata": {},
     "output_type": "display_data"
    }
   ],
   "source": [
    "plt.rcParams['font.sans-serif'] = ['SimHei'] \n",
    "plt.figure()\n",
    "plt.plot([data['month_']], [data['area']] ,'ro')\n",
    "plt.rc('font', family='STXihei', size=15)\n",
    "plt.title(u'聚类图')\n",
    "plt.xlabel(u'temp')\n",
    "plt.ylabel(u'area')\n",
    "plt.grid(color='#95a5a6',linestyle='--', linewidth=3,axis='both',alpha=0.4)\n",
    "#plt.savefig(u\"C:\\\\Users\\\\zzq\\\\Desktop\\\\聚类图.png\")\n",
    "plt.show()"
   ]
  },
  {
   "cell_type": "code",
   "execution_count": 28,
   "metadata": {
    "collapsed": false
   },
   "outputs": [
    {
     "name": "stdout",
     "output_type": "stream",
     "text": [
      "     X  Y  FFMC    DMC     DC   ISI  temp  RH  wind  rain    area  month_  \\\n",
      "384  8  4  91.6  273.8  819.1   7.7  21.3  44   4.5   0.0   12.18       8   \n",
      "60   2  2  89.3   51.3  102.2   9.6  11.5  39   5.8   0.0    0.00       3   \n",
      "110  4  4  85.9   19.5   57.3   2.8  13.7  43   5.8   0.0    0.00       3   \n",
      "409  1  4  92.3   96.2  450.2  12.1  23.4  31   5.4   0.0    0.00       7   \n",
      "420  8  8  91.7  191.4  635.9   7.8  26.2  36   4.5   0.0  185.76       8   \n",
      "\n",
      "     day_  \n",
      "384     6  \n",
      "60      7  \n",
      "110     5  \n",
      "409     2  \n",
      "420     3  \n",
      "     X  Y  FFMC    DMC     DC   ISI  temp  RH  wind  rain  area  month_  day_\n",
      "304  6  5  85.1   28.0  113.8   3.5  11.3  94   4.9   0.0  0.00       5     6\n",
      "501  7  5  96.1  181.1  671.2  14.3  21.6  65   4.9   0.8  0.00       8     2\n",
      "441  8  6  92.1  207.0  672.6   8.2  25.5  29   1.8   0.0  1.23       8     1\n",
      "153  5  4  94.3   85.1  692.3  15.9  20.1  47   4.9   0.0  1.46       9     5\n",
      "503  2  4  94.5  139.4  689.1  20.0  29.2  30   4.9   0.0  1.95       8     3\n",
      "     label\n",
      "384      2\n",
      "60       0\n",
      "110      0\n",
      "409      0\n",
      "420      3\n",
      "     label\n",
      "304      0\n",
      "501      0\n",
      "441      2\n",
      "153      2\n",
      "503      2\n"
     ]
    }
   ],
   "source": [
    "from sklearn.cross_validation import  train_test_split\n",
    "X_train, X_test, y_train, y_test = train_test_split(data.iloc[:,[0,1,4,5,6,7,8,9,10,11,14,15]], data.iloc[:,[13]], test_size=0.33, random_state=42)\n",
    "print X_train.head()\n",
    "print X_test.head()\n",
    "print y_train.head()\n",
    "print y_test.head()\n",
    "test_x = data.iloc[:,[0,1,4,5,6,7,8,9,10,11,14,15]]\n",
    "test_y =  data.iloc[:,[13]]"
   ]
  },
  {
   "cell_type": "code",
   "execution_count": 13,
   "metadata": {
    "collapsed": false
   },
   "outputs": [
    {
     "name": "stdout",
     "output_type": "stream",
     "text": [
      "LogisticRegression(C=1.0, class_weight=None, dual=False, fit_intercept=True,\n",
      "          intercept_scaling=1, max_iter=100, multi_class='ovr', n_jobs=1,\n",
      "          penalty='l2', random_state=None, solver='liblinear', tol=0.0001,\n",
      "          verbose=0, warm_start=False)\n",
      "Logisic MSE: 2.07602339181\n",
      "准确率： 0.46783625731\n",
      "   X  Y month  day  FFMC   DMC     DC  ISI  temp  RH  wind  rain  area  label  \\\n",
      "0  7  5   mar  fri  86.2  26.2   94.3  5.1   8.2  51   6.7   0.0   0.0      0   \n",
      "1  7  4   oct  tue  90.6  35.4  669.1  6.7  18.0  33   0.9   0.0   0.0      0   \n",
      "2  7  4   oct  sat  90.6  43.7  686.9  6.7  14.6  33   1.3   0.0   0.0      0   \n",
      "3  8  6   mar  fri  91.7  33.3   77.5  9.0   8.3  97   4.0   0.2   0.0      0   \n",
      "4  8  6   mar  sun  89.3  51.3  102.2  9.6  11.4  99   1.8   0.0   0.0      0   \n",
      "\n",
      "   month_  day_  klabel  pre  \n",
      "0       3     5       2    2  \n",
      "1      10     2       0    0  \n",
      "2      10     6       0    0  \n",
      "3       3     5       2    0  \n",
      "4       3     7       2    0  \n",
      "     X  Y month  day  FFMC    DMC     DC   ISI  temp  RH  wind  rain   area  \\\n",
      "512  4  3   aug  sun  81.6   56.7  665.6   1.9  27.8  32   2.7   0.0   6.44   \n",
      "513  2  4   aug  sun  81.6   56.7  665.6   1.9  21.9  71   5.8   0.0  54.29   \n",
      "514  7  4   aug  sun  81.6   56.7  665.6   1.9  21.2  70   6.7   0.0  11.16   \n",
      "515  1  4   aug  sat  94.4  146.0  614.7  11.3  25.6  42   4.0   0.0   0.00   \n",
      "516  6  3   nov  tue  79.5    3.0  106.7   1.1  11.8  31   4.5   0.0   0.00   \n",
      "\n",
      "     label  month_  day_  klabel  pre  \n",
      "512      2       8     7       0    0  \n",
      "513      2       8     7       0    2  \n",
      "514      2       8     7       0    2  \n",
      "515      0       8     6       0    2  \n",
      "516      0      11     2       2    0  \n"
     ]
    }
   ],
   "source": [
    "from sklearn.linear_model import LinearRegression,LogisticRegression\n",
    "lr = LogisticRegression()\n",
    "print lr\n",
    "lr.fit(X_train,y_train)\n",
    "pre2 = lr.predict(X_test)\n",
    "print \"Logisic MSE:\", mean_squared_error(y_test, pre2, sample_weight=None, multioutput='uniform_average')\n",
    "#准确率\n",
    "df_auc = y_test\n",
    "df_auc['pre'] = pre2\n",
    "df_correct = df_auc[df_auc.label == df_auc.pre]\n",
    "auc = df_correct.shape[0] / df_auc.shape[0]\n",
    "print \"准确率：\",auc\n",
    "\n",
    "print data.head()\n",
    "print data.tail()"
   ]
  },
  {
   "cell_type": "code",
   "execution_count": 12,
   "metadata": {
    "collapsed": false
   },
   "outputs": [
    {
     "name": "stderr",
     "output_type": "stream",
     "text": [
      "C:\\Anaconda2\\lib\\site-packages\\sklearn\\grid_search.py:42: DeprecationWarning: This module was deprecated in version 0.18 in favor of the model_selection module into which all the refactored classes and functions are moved. This module will be removed in 0.20.\n",
      "  DeprecationWarning)\n",
      "C:\\Anaconda2\\lib\\site-packages\\ipykernel\\__main__.py:9: DataConversionWarning: A column-vector y was passed when a 1d array was expected. Please change the shape of y to (n_samples,), for example using ravel().\n"
     ]
    },
    {
     "name": "stdout",
     "output_type": "stream",
     "text": [
      " [2 0 0 0 0 0 0 0 0 0 0 0 0 0 0 0 2 2 0 2 0 0 0 2 2 2 2 0 0 0 0 2 0 0 0 0 0\n",
      " 0 0 0 0 0 0 0 0 0 0 0 0 0 0 0 0 0 0 2 0 0 0 0 0 0 0 0 0 0 0 0 0 0 2 0 0 0\n",
      " 0 2 0 0 0 0 0 0 1 0 0 0 0 0 0 0 2 0 0 0 0 0 0 0 0 0 0 0 0 0 2 0 0 0 0 2 0\n",
      " 0 0 0 0 0 2 2 0 0 0 0 0 0 0 0 0 0 0 0 0 0 0 0 0 0 0 2 1 2 2 1 1 1 1 1 1 1\n",
      " 0 2 2 2 2 2 2 2 2 2 2 2 2 2 2 2 2 2 2 2 2 2 2 2 0 0 2 2 2 0 2 2 0 2 2 2 2\n",
      " 2 2 2 2 2 2 2 0 2 0 2 2 2 2 2 2 2 2 0 2 2 2 2 2 0 0 2 2 2 2 2 2 2 0 2 2 2\n",
      " 2 2 0 2 2 0 2 2 2 2 3 1 0 3 3 1 0 0 0 0 2 0 2 1 1 0 0 0 0 1 1 2 2 2 2 1 0\n",
      " 2 2 2 2 2 2 2 1 0 0 2 1 2 2 2 2 2 2 2 2 2 2 2 0 2 2 0 2 0 0 0 0 2 2 2 2 0\n",
      " 0 0 0 0 0 2 0 0 2 0 0 2 0 0 0 0 0 0 2 0 0 0 2 2 2 2 2 0 0 0 0 0 0 0 2 2 2\n",
      " 2 2 0 0 2 2 2 2 2 0 2 2 2 2 2 0 2 2 2 2 2 2 2 2 2 0 2 2 2 0 2 2 2 2 2 2 0\n",
      " 2 0 0 0 2 2 0 0 0 0 2 2 0 2 2 2 2 0 2 0 2 2 2 0 0 2 2 2 0 0 0 2 0 2 2 0 2\n",
      " 0 2 0 0 2 0 0 0 3 2 0 2 2 3 0 0 1 2 0 0 2 0 2 0 2 0 2 0 0 1 0 2 1 0 1 2 0\n",
      " 2 0 2 0 0 0 2 0 0 0 0 0 0 2 0 2 0 0 2 2 2 2 2 2 0 0 0 0 2 2 2 2 2 2 2 0 2\n",
      " 0 2 0 2 2 2 0 2 0 0 0 0 2 2 0 2 2 2 2 0 0 0 0 0 0 0 2 2 2 1 0 0 2 2 2 0]\n",
      "MSE:0.607350\n",
      "准确率 0.84332688588\n"
     ]
    }
   ],
   "source": [
    "from __future__ import division\n",
    "from sklearn.grid_search import GridSearchCV  \n",
    "from sklearn import cross_validation, metrics\n",
    "from sklearn.ensemble import RandomForestClassifier,RandomForestRegressor\n",
    "from sklearn.metrics import f1_score,roc_auc_score,mean_squared_error\n",
    "#不管任何参数，都用默认的，拟合下数据看看  oob_score=True, random_state=20, max_depth = 7\n",
    "rf = RandomForestClassifier()  \n",
    "#rf0.fit(trainSet,train_lable)  \n",
    "rf.fit(X_train,y_train)\n",
    "#y_predprob = rf0.predict_proba(trainSet)[:,1]  \n",
    "y_predprob = rf.predict(test_x) \n",
    "print y_predprob\n",
    "print \"MSE:%f\" % mean_squared_error(test_y, y_predprob, sample_weight=None, multioutput='uniform_average')\n",
    "#准确率\n",
    "df_auc = data\n",
    "df_auc['pre'] = y_predprob\n",
    "df_correct = df_auc[df_auc.label == df_auc.pre]\n",
    "auc = df_correct.shape[0] / df_auc.shape[0]\n",
    "print \"准确率\", auc\n",
    "\n"
   ]
  },
  {
   "cell_type": "code",
   "execution_count": 15,
   "metadata": {
    "collapsed": false
   },
   "outputs": [
    {
     "name": "stdout",
     "output_type": "stream",
     "text": [
      " [0 1 1 0 0 0 0 2 2 1 2 1 2 2 3 1 0 2 0 0 2 1 0 0 1 2 1 2 3 3 1 2 1 1 1 2 1\n",
      " 2 1 0 0 2 2 2 2 1 2 0 0 0 3 0 2 2 2 3 2 0 0 0 0 0 0 1 1 2 1 1 1 0 0 1 0 2\n",
      " 3 0 0 0 0 1 2 0 2 2 2 3 3 3 3 0 2 0 0 2 1 2 0 0 2 2 2 2 1 1 0 0 0 0 2 2 0\n",
      " 0 1 1 0 0 0 0 0 0 2 2 2 2 2 1 0 3 2 1 0 0 0 1 0 2 2 2 0 1 1 0 2 0 0 3 0 1\n",
      " 1 1 0 0 0 1 3 2 3 2 1 1 0 2 0 2 2 0 2 1 0 2 1 2 2 1 2 0 0 0 1 2 1 1 0 1 2\n",
      " 2 0 1 0 0 0 1 1 3 1 0 0 3 2 1 1 0 0 1 0 3 1 3 1 1 1 2 2 0 0 0 2 2 3 0 2 2\n",
      " 0 0 2 3 1 0 3 0 3 3 2 1 1 2 2 1 1 0 0 0 0 2 2 3 3 0 3 3 3 3 3 0 2 2 0 0 2\n",
      " 3 1 2 0 2 2 0 2 3 3 2 2 2 2 0 0 0 0 0 0 0 0 0 0 0 0 0 2 0 0 0 0 0 0 3 0 0\n",
      " 0 0 0 0 0 0 0 0 0 2 2 1 1 1 1 1 2 1 1 3 1 1 3 1 1 1 1 3 2 1 1 1 1 1 1 3 1\n",
      " 2 2 2 1 1 1 1 1 2 3 2 2 1 1 2 2 2 2 2 1 2 2 1 1 2 1 1 1 1 2 2 1 1 1 3 2 3\n",
      " 3 2 2 3 3 2 3 3 0 0 0 3 3 3 3 3 2 0 3 3 0 2 3 0 0 0 2 3 3 0 0 1 3 3 1 3 3\n",
      " 0 3 0 0 0 0 3 3 3 3 0 3 3 3 3 3 1 3 3 3 3 3 3 3 3 3 3 3 0 3 3 3 1 3 3 0 0\n",
      " 3 0 2 0 3 2 3 2 3 3 3 2 3 3 3 3 3 3 3 0 0 0 0 0 0 0 0 0 0 0 0 0 0 0 0 0 1\n",
      " 1 0 1 1 1 2 1 2 2 1 3 3 3 3 3 3 3 3 3 2 2 2 1 1 3 2 3 3 2 2 1 1 0 2 0 0]\n",
      "MSE:2.361702\n",
      "准确率 0.276595744681\n"
     ]
    }
   ],
   "source": [
    "from sklearn.naive_bayes import MultinomialNB as MNB\n",
    "mnb = MNB()\n",
    "mnb.fit(X_train,y_train)\n",
    "pre = mnb.predict(test_x)\n",
    "print pre\n",
    "print \"MSE:%f\" % mean_squared_error(test_y, pre, sample_weight=None, multioutput='uniform_average')\n",
    "#准确率\n",
    "df_auc = data\n",
    "df_auc['pre'] = pre\n",
    "df_correct = df_auc[df_auc.label == df_auc.pre]\n",
    "auc = df_correct.shape[0] / df_auc.shape[0]\n",
    "print \"准确率\",auc"
   ]
  },
  {
   "cell_type": "code",
   "execution_count": 30,
   "metadata": {
    "collapsed": false
   },
   "outputs": [
    {
     "name": "stdout",
     "output_type": "stream",
     "text": [
      "LinearRegression(copy_X=True, fit_intercept=True, n_jobs=1, normalize=True)\n",
      "Linear MSE: 1.08940101392\n"
     ]
    },
    {
     "data": {
      "text/plain": [
       "<matplotlib.figure.Figure at 0x146a58d0>"
      ]
     },
     "metadata": {},
     "output_type": "display_data"
    }
   ],
   "source": [
    "from sklearn.linear_model import LinearRegression,LogisticRegression\n",
    "lr = LinearRegression(normalize=True)\n",
    "print lr\n",
    "lr.fit(X_train,y_train)\n",
    "pre1 = lr.predict(X_test)\n",
    "#print pre1\n",
    "plt.rcParams['font.sans-serif'] = ['SimHei'] \n",
    "plt.figure()\n",
    "xx = X_test\n",
    "xx['linear_res'] = pre1\n",
    "xx['index'] = xx.index + 1\n",
    "print \"Linear MSE:\", mean_squared_error(y_test, pre1, sample_weight=None, multioutput='uniform_average')\n",
    "\n"
   ]
  },
  {
   "cell_type": "code",
   "execution_count": 31,
   "metadata": {
    "collapsed": false
   },
   "outputs": [
    {
     "name": "stderr",
     "output_type": "stream",
     "text": [
      "C:\\Anaconda2\\lib\\site-packages\\matplotlib\\axes\\_axes.py:519: UserWarning: No labelled objects found. Use label='...' kwarg on individual plots.\n",
      "  warnings.warn(\"No labelled objects found. \"\n"
     ]
    },
    {
     "data": {
      "image/png": "[encoded data removed]",
      "text/plain": [
       "<matplotlib.figure.Figure at 0x1113fb00>"
      ]
     },
     "metadata": {},
     "output_type": "display_data"
    }
   ],
   "source": [
    "plt.rcParams['font.sans-serif'] = ['SimHei'] \n",
    "plt.plot([xx['index']], [xx['area']],'ro')\n",
    "plt.plot([xx['index']], [xx['linear_res']],'bo')\n",
    "plt.rc('font', family='STXihei', size=15)\n",
    "plt.title(u'')\n",
    "plt.grid(color='#95a5a6',linestyle='--', linewidth=3,axis='both',alpha=0.4)\n",
    "plt.xlabel(u'index')\n",
    "plt.ylabel(u'area')\n",
    "plt.legend(loc='upper left')\n",
    "plt.show()"
   ]
  },
  {
   "cell_type": "code",
   "execution_count": 187,
   "metadata": {
    "collapsed": false
   },
   "outputs": [
    {
     "name": "stdout",
     "output_type": "stream",
     "text": [
      " MSE: 1.45964912281\n",
      "准确率 0.0701754385965\n"
     ]
    },
    {
     "name": "stderr",
     "output_type": "stream",
     "text": [
      "C:\\Anaconda2\\lib\\site-packages\\ipykernel\\__main__.py:13: DataConversionWarning: A column-vector y was passed when a 1d array was expected. Please change the shape of y to (n_samples,), for example using ravel().\n"
     ]
    }
   ],
   "source": [
    "from sklearn.cross_validation import  train_test_split\n",
    "X_train, X_test, y_train, y_test = train_test_split(data.iloc[:,[0,1,4,5,6,7,8,9,10,11,14,15]], data.iloc[:,[13]], test_size=0.33, random_state=42)\n",
    "import xgboost as xgb\n",
    "\"\"\" ### 融合方案--Averaging ### \"\"\"\n",
    "class Averaging(object):\n",
    "    def __init__(self,base_models, weights):\n",
    "        self.weights = weights\n",
    "        self.base_models = base_models\n",
    "\n",
    "    def fit_predict(self, x_train, y_train, x_test):\n",
    "        df = pd.DataFrame()\n",
    "        for i, clf in enumerate(self.base_models):\n",
    "            clf.fit(x_train, y_train)\n",
    "            pre = clf.predict(x_test)\n",
    "            df[i] = self.weights[i] * pre\n",
    "        df[\"sum\"] = 0\n",
    "        for n in range(len(self.base_models)):\n",
    "            df[\"sum\"] += df[n]\n",
    "        return list(df[\"sum\"])\n",
    "            \n",
    "\n",
    "ave = Averaging([LogisticRegression(),RandomForestClassifier(),MNB()],[0.3,0.3,0.4])\n",
    "predict = ave.fit_predict(X_train, y_train, X_test)\n",
    "pp = pd.DataFrame(predict)\n",
    "pp.columns=[\"x\"]\n",
    "pp['y'] = map(lambda x: 0 if x == 0 else (1 if 0 < x <= 1 else (2 if 1 < x <=2 else 3)),pp['x'])\n",
    "pp[\"label_true\"] = y_test.label\n",
    "pp_correct = pp[pp.y == pp.label_true]\n",
    "auc = pp_correct.shape[0] / pp.shape[0]\n",
    "print \"MSE:\", mean_squared_error(y_test, predict, sample_weight=None, multioutput='uniform_average')\n",
    "print \"准确率\", auc"
   ]
  },
  {
   "cell_type": "code",
   "execution_count": null,
   "metadata": {
    "collapsed": true
   },
   "outputs": [],
   "source": []
  }
 ],
 "metadata": {
  "kernelspec": {
   "display_name": "Python 2",
   "language": "python",
   "name": "python2"
  },
  "language_info": {
   "codemirror_mode": {
    "name": "ipython",
    "version": 2
   },
   "file_extension": ".py",
   "mimetype": "text/x-python",
   "name": "python",
   "nbconvert_exporter": "python",
   "pygments_lexer": "ipython2",
   "version": "2.7.13"
  }
 },
 "nbformat": 4,
 "nbformat_minor": 0
}
